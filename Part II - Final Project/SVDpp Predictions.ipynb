{
 "cells": [
  {
   "cell_type": "code",
   "execution_count": 1,
   "metadata": {
    "collapsed": true
   },
   "outputs": [],
   "source": [
    "import pandas as pd\n",
    "import numpy as np\n",
    "import datetime\n",
    "\n",
    "from surprise import Reader, Dataset, evaluate, print_perf, GridSearch\n",
    "from surprise import SVD, SVDpp, Prediction, accuracy\n",
    "from surprise import NormalPredictor, BaselineOnly\n",
    "\n",
    "from sklearn.metrics import roc_auc_score as AUC"
   ]
  },
  {
   "cell_type": "code",
   "execution_count": 2,
   "metadata": {},
   "outputs": [
    {
     "data": {
      "text/html": [
       "<div>\n",
       "<style>\n",
       "    .dataframe thead tr:only-child th {\n",
       "        text-align: right;\n",
       "    }\n",
       "\n",
       "    .dataframe thead th {\n",
       "        text-align: left;\n",
       "    }\n",
       "\n",
       "    .dataframe tbody tr th {\n",
       "        vertical-align: top;\n",
       "    }\n",
       "</style>\n",
       "<table border=\"1\" class=\"dataframe\">\n",
       "  <thead>\n",
       "    <tr style=\"text-align: right;\">\n",
       "      <th></th>\n",
       "      <th>userid</th>\n",
       "      <th>trackartist_weekend</th>\n",
       "      <th>skipped</th>\n",
       "    </tr>\n",
       "  </thead>\n",
       "  <tbody>\n",
       "    <tr>\n",
       "      <th>0</th>\n",
       "      <td>user_000001</td>\n",
       "      <td>'84 Pontiac Dream___Boards Of Canada___0</td>\n",
       "      <td>0.833333</td>\n",
       "    </tr>\n",
       "    <tr>\n",
       "      <th>1</th>\n",
       "      <td>user_000001</td>\n",
       "      <td>'84 Pontiac Dream___Boards Of Canada___1</td>\n",
       "      <td>0.500000</td>\n",
       "    </tr>\n",
       "    <tr>\n",
       "      <th>2</th>\n",
       "      <td>user_000001</td>\n",
       "      <td>(It'S Just) Talk___Pat Metheny Group___0</td>\n",
       "      <td>0.000000</td>\n",
       "    </tr>\n",
       "    <tr>\n",
       "      <th>3</th>\n",
       "      <td>user_000001</td>\n",
       "      <td>(It'S Just) Talk___Pat Metheny Group___1</td>\n",
       "      <td>0.000000</td>\n",
       "    </tr>\n",
       "    <tr>\n",
       "      <th>4</th>\n",
       "      <td>user_000001</td>\n",
       "      <td>...Short Wave Lies___The Black Dog___0</td>\n",
       "      <td>0.000000</td>\n",
       "    </tr>\n",
       "  </tbody>\n",
       "</table>\n",
       "</div>"
      ],
      "text/plain": [
       "        userid                       trackartist_weekend   skipped\n",
       "0  user_000001  '84 Pontiac Dream___Boards Of Canada___0  0.833333\n",
       "1  user_000001  '84 Pontiac Dream___Boards Of Canada___1  0.500000\n",
       "2  user_000001  (It'S Just) Talk___Pat Metheny Group___0  0.000000\n",
       "3  user_000001  (It'S Just) Talk___Pat Metheny Group___1  0.000000\n",
       "4  user_000001    ...Short Wave Lies___The Black Dog___0  0.000000"
      ]
     },
     "execution_count": 2,
     "metadata": {},
     "output_type": "execute_result"
    }
   ],
   "source": [
    "train = pd.read_csv('train_features500.csv')\n",
    "train.head()"
   ]
  },
  {
   "cell_type": "markdown",
   "metadata": {},
   "source": [
    "## Model"
   ]
  },
  {
   "cell_type": "code",
   "execution_count": 3,
   "metadata": {
    "collapsed": true
   },
   "outputs": [],
   "source": [
    "reader = Reader(rating_scale=(0, 1))\n",
    "algo = SVDpp()\n",
    "\n",
    "trainset = Dataset.load_from_df(train[['userid','trackartist_weekend','skipped']], reader)\n",
    "trainset = trainset.build_full_trainset()\n",
    "\n",
    "algo.train(trainset)"
   ]
  },
  {
   "cell_type": "markdown",
   "metadata": {},
   "source": [
    "## Test"
   ]
  },
  {
   "cell_type": "code",
   "execution_count": 4,
   "metadata": {
    "collapsed": true
   },
   "outputs": [],
   "source": [
    "test = pd.read_csv('test_features500.csv')"
   ]
  },
  {
   "cell_type": "code",
   "execution_count": 5,
   "metadata": {
    "collapsed": true
   },
   "outputs": [],
   "source": [
    "#pred_df = pd.DataFrame(columns = ['userid', 'trackartist_weekend', 'prediction'])\n",
    "\n",
    "pred_lol = []\n",
    "test_array = np.array(test)\n",
    "for n, row in enumerate(test_array):\n",
    "    p = list(algo.predict(row[0], row[1]))\n",
    "    row_pred = [p[0], p[1], p[3]]\n",
    "    pred_lol.append(row_pred)\n",
    "    #pred_df.loc[n,:] = row_pred"
   ]
  },
  {
   "cell_type": "code",
   "execution_count": 6,
   "metadata": {},
   "outputs": [
    {
     "data": {
      "text/html": [
       "<div>\n",
       "<style>\n",
       "    .dataframe thead tr:only-child th {\n",
       "        text-align: right;\n",
       "    }\n",
       "\n",
       "    .dataframe thead th {\n",
       "        text-align: left;\n",
       "    }\n",
       "\n",
       "    .dataframe tbody tr th {\n",
       "        vertical-align: top;\n",
       "    }\n",
       "</style>\n",
       "<table border=\"1\" class=\"dataframe\">\n",
       "  <thead>\n",
       "    <tr style=\"text-align: right;\">\n",
       "      <th></th>\n",
       "      <th>userid</th>\n",
       "      <th>trackartist_weekend</th>\n",
       "      <th>prediction</th>\n",
       "    </tr>\n",
       "  </thead>\n",
       "  <tbody>\n",
       "    <tr>\n",
       "      <th>0</th>\n",
       "      <td>user_000001</td>\n",
       "      <td>(It'S Just) Talk___Pat Metheny Group___1</td>\n",
       "      <td>0.014129</td>\n",
       "    </tr>\n",
       "    <tr>\n",
       "      <th>1</th>\n",
       "      <td>user_000001</td>\n",
       "      <td>1919 (Live_2009_4_15)___åæ¬é¾ä¸___0</td>\n",
       "      <td>0.031580</td>\n",
       "    </tr>\n",
       "    <tr>\n",
       "      <th>2</th>\n",
       "      <td>user_000001</td>\n",
       "      <td>1919 (Live_2009_4_15)___åæ¬é¾ä¸___1</td>\n",
       "      <td>0.031580</td>\n",
       "    </tr>\n",
       "    <tr>\n",
       "      <th>3</th>\n",
       "      <td>user_000001</td>\n",
       "      <td>33 000 Honeybees___Minilogue___0</td>\n",
       "      <td>0.037345</td>\n",
       "    </tr>\n",
       "    <tr>\n",
       "      <th>4</th>\n",
       "      <td>user_000001</td>\n",
       "      <td>33 000 Honeybees___Minilogue___1</td>\n",
       "      <td>0.021534</td>\n",
       "    </tr>\n",
       "  </tbody>\n",
       "</table>\n",
       "</div>"
      ],
      "text/plain": [
       "        userid                       trackartist_weekend  prediction\n",
       "0  user_000001  (It'S Just) Talk___Pat Metheny Group___1    0.014129\n",
       "1  user_000001  1919 (Live_2009_4_15)___åæ¬é¾ä¸___0    0.031580\n",
       "2  user_000001  1919 (Live_2009_4_15)___åæ¬é¾ä¸___1    0.031580\n",
       "3  user_000001          33 000 Honeybees___Minilogue___0    0.037345\n",
       "4  user_000001          33 000 Honeybees___Minilogue___1    0.021534"
      ]
     },
     "execution_count": 6,
     "metadata": {},
     "output_type": "execute_result"
    }
   ],
   "source": [
    "pred_df = pd.DataFrame(columns = ['userid', 'trackartist_weekend', 'prediction'], data=pred_lol)\n",
    "pred_df.head()"
   ]
  },
  {
   "cell_type": "markdown",
   "metadata": {},
   "source": [
    "# Model Results"
   ]
  },
  {
   "cell_type": "code",
   "execution_count": 7,
   "metadata": {
    "scrolled": true
   },
   "outputs": [
    {
     "data": {
      "text/plain": [
       "Int64Index([ 25154,  25155,  34966,  53388,  53389,  65875, 179756, 179757,\n",
       "            189582, 189583, 233198, 293083, 293084],\n",
       "           dtype='int64')"
      ]
     },
     "execution_count": 7,
     "metadata": {},
     "output_type": "execute_result"
    }
   ],
   "source": [
    "# troublesome rows\n",
    "# the underscore is throwing problems in the mapping\n",
    "testdf = pred_df[pred_df['trackartist_weekend'].str.contains(\"____\")]\n",
    "testdf.index"
   ]
  },
  {
   "cell_type": "code",
   "execution_count": 36,
   "metadata": {},
   "outputs": [
    {
     "data": {
      "text/html": [
       "<div>\n",
       "<style>\n",
       "    .dataframe thead tr:only-child th {\n",
       "        text-align: right;\n",
       "    }\n",
       "\n",
       "    .dataframe thead th {\n",
       "        text-align: left;\n",
       "    }\n",
       "\n",
       "    .dataframe tbody tr th {\n",
       "        vertical-align: top;\n",
       "    }\n",
       "</style>\n",
       "<table border=\"1\" class=\"dataframe\">\n",
       "  <thead>\n",
       "    <tr style=\"text-align: right;\">\n",
       "      <th></th>\n",
       "      <th>userid</th>\n",
       "      <th>trackartist_weekend</th>\n",
       "      <th>prediction</th>\n",
       "    </tr>\n",
       "  </thead>\n",
       "  <tbody>\n",
       "    <tr>\n",
       "      <th>25154</th>\n",
       "      <td>user_000075</td>\n",
       "      <td>The World Is Our ______This Will Destroy You___0</td>\n",
       "      <td>0.000000</td>\n",
       "    </tr>\n",
       "    <tr>\n",
       "      <th>25155</th>\n",
       "      <td>user_000075</td>\n",
       "      <td>The World Is Our ______This Will Destroy You___1</td>\n",
       "      <td>0.040445</td>\n",
       "    </tr>\n",
       "    <tr>\n",
       "      <th>34966</th>\n",
       "      <td>user_000103</td>\n",
       "      <td>The World Is Our ______This Will Destroy You___0</td>\n",
       "      <td>0.000000</td>\n",
       "    </tr>\n",
       "    <tr>\n",
       "      <th>53388</th>\n",
       "      <td>user_000156</td>\n",
       "      <td>The World Is Our ______This Will Destroy You___0</td>\n",
       "      <td>0.000000</td>\n",
       "    </tr>\n",
       "    <tr>\n",
       "      <th>53389</th>\n",
       "      <td>user_000156</td>\n",
       "      <td>The World Is Our ______This Will Destroy You___1</td>\n",
       "      <td>0.042997</td>\n",
       "    </tr>\n",
       "    <tr>\n",
       "      <th>65875</th>\n",
       "      <td>user_000197</td>\n",
       "      <td>Jag Vet Inte Vem Jag Ãr____HÃ¥kan HellstrÃ¶m___0</td>\n",
       "      <td>0.000000</td>\n",
       "    </tr>\n",
       "    <tr>\n",
       "      <th>179756</th>\n",
       "      <td>user_000554</td>\n",
       "      <td>The World Is Our ______This Will Destroy You___0</td>\n",
       "      <td>0.297087</td>\n",
       "    </tr>\n",
       "    <tr>\n",
       "      <th>179757</th>\n",
       "      <td>user_000554</td>\n",
       "      <td>The World Is Our ______This Will Destroy You___1</td>\n",
       "      <td>0.347260</td>\n",
       "    </tr>\n",
       "    <tr>\n",
       "      <th>189582</th>\n",
       "      <td>user_000590</td>\n",
       "      <td>The World Is Our ______This Will Destroy You___0</td>\n",
       "      <td>0.000000</td>\n",
       "    </tr>\n",
       "    <tr>\n",
       "      <th>189583</th>\n",
       "      <td>user_000590</td>\n",
       "      <td>The World Is Our ______This Will Destroy You___1</td>\n",
       "      <td>0.046829</td>\n",
       "    </tr>\n",
       "    <tr>\n",
       "      <th>233198</th>\n",
       "      <td>user_000720</td>\n",
       "      <td>Longing For Elsewhere___Evig____1</td>\n",
       "      <td>0.004967</td>\n",
       "    </tr>\n",
       "    <tr>\n",
       "      <th>293083</th>\n",
       "      <td>user_000893</td>\n",
       "      <td>The World Is Our ______This Will Destroy You___0</td>\n",
       "      <td>0.000000</td>\n",
       "    </tr>\n",
       "    <tr>\n",
       "      <th>293084</th>\n",
       "      <td>user_000893</td>\n",
       "      <td>The World Is Our ______This Will Destroy You___1</td>\n",
       "      <td>0.046995</td>\n",
       "    </tr>\n",
       "    <tr>\n",
       "      <th>25395</th>\n",
       "      <td>user_000076</td>\n",
       "      <td>Limsynth___001___Product Development___0</td>\n",
       "      <td>0.079317</td>\n",
       "    </tr>\n",
       "    <tr>\n",
       "      <th>25396</th>\n",
       "      <td>user_000076</td>\n",
       "      <td>Limsynth___001___Product Development___1</td>\n",
       "      <td>0.011058</td>\n",
       "    </tr>\n",
       "    <tr>\n",
       "      <th>25404</th>\n",
       "      <td>user_000076</td>\n",
       "      <td>Mega3__001___Product Development___0</td>\n",
       "      <td>0.086285</td>\n",
       "    </tr>\n",
       "    <tr>\n",
       "      <th>25405</th>\n",
       "      <td>user_000076</td>\n",
       "      <td>Mega3__001___Product Development___1</td>\n",
       "      <td>0.011058</td>\n",
       "    </tr>\n",
       "    <tr>\n",
       "      <th>274870</th>\n",
       "      <td>user_000835</td>\n",
       "      <td>I Get ___ In The Club___Gameboy/Gamegirl___0</td>\n",
       "      <td>0.036303</td>\n",
       "    </tr>\n",
       "  </tbody>\n",
       "</table>\n",
       "</div>"
      ],
      "text/plain": [
       "             userid                                trackartist_weekend  \\\n",
       "25154   user_000075   The World Is Our ______This Will Destroy You___0   \n",
       "25155   user_000075   The World Is Our ______This Will Destroy You___1   \n",
       "34966   user_000103   The World Is Our ______This Will Destroy You___0   \n",
       "53388   user_000156   The World Is Our ______This Will Destroy You___0   \n",
       "53389   user_000156   The World Is Our ______This Will Destroy You___1   \n",
       "65875   user_000197  Jag Vet Inte Vem Jag Ãr____HÃ¥kan HellstrÃ¶m___0   \n",
       "179756  user_000554   The World Is Our ______This Will Destroy You___0   \n",
       "179757  user_000554   The World Is Our ______This Will Destroy You___1   \n",
       "189582  user_000590   The World Is Our ______This Will Destroy You___0   \n",
       "189583  user_000590   The World Is Our ______This Will Destroy You___1   \n",
       "233198  user_000720                  Longing For Elsewhere___Evig____1   \n",
       "293083  user_000893   The World Is Our ______This Will Destroy You___0   \n",
       "293084  user_000893   The World Is Our ______This Will Destroy You___1   \n",
       "25395   user_000076           Limsynth___001___Product Development___0   \n",
       "25396   user_000076           Limsynth___001___Product Development___1   \n",
       "25404   user_000076               Mega3__001___Product Development___0   \n",
       "25405   user_000076               Mega3__001___Product Development___1   \n",
       "274870  user_000835       I Get ___ In The Club___Gameboy/Gamegirl___0   \n",
       "\n",
       "        prediction  \n",
       "25154     0.000000  \n",
       "25155     0.040445  \n",
       "34966     0.000000  \n",
       "53388     0.000000  \n",
       "53389     0.042997  \n",
       "65875     0.000000  \n",
       "179756    0.297087  \n",
       "179757    0.347260  \n",
       "189582    0.000000  \n",
       "189583    0.046829  \n",
       "233198    0.004967  \n",
       "293083    0.000000  \n",
       "293084    0.046995  \n",
       "25395     0.079317  \n",
       "25396     0.011058  \n",
       "25404     0.086285  \n",
       "25405     0.011058  \n",
       "274870    0.036303  "
      ]
     },
     "execution_count": 36,
     "metadata": {},
     "output_type": "execute_result"
    }
   ],
   "source": [
    "pred_df_copy = pred_df.drop([ 25154,  25155,  34966,  53388,  53389,  65875, 179756, 179757,\n",
    "            189582, 189583, 233198, 293083, 293084, 25395, 25396, 25404, 25405, 274870], axis=0)\n",
    "pred_df.loc[[25154,  25155,  34966,  53388,  53389,  65875, 179756, 179757,\n",
    "            189582, 189583, 233198, 293083, 293084, 25395, 25396, 25404, 25405, 274870],:]"
   ]
  },
  {
   "cell_type": "code",
   "execution_count": 37,
   "metadata": {},
   "outputs": [],
   "source": [
    "pred_df_copy[['track-name', 'artist-name', 'weekend']] = pred_df_copy['trackartist_weekend'].str.split('___', expand = True, n=2)\n",
    "pred_df_copy.drop(['trackartist_weekend'], axis=1, inplace=True)\n",
    "pred_df_copy['weekend'] = pred_df_copy['weekend'].astype(int)\n",
    "pred_df_copy['prediction'] = pred_df_copy['prediction'].astype('float')"
   ]
  },
  {
   "cell_type": "code",
   "execution_count": 12,
   "metadata": {},
   "outputs": [],
   "source": [
    "truth = pd.read_csv('testset500.csv')\n",
    "truth = truth[['userid', 'track-name', 'artist-name', 'weekend', 'timestamp', 'skipped']]"
   ]
  },
  {
   "cell_type": "code",
   "execution_count": 13,
   "metadata": {
    "collapsed": true
   },
   "outputs": [],
   "source": [
    "drop_indices = list(truth[truth['track-name'].str.contains(r\"_$|___|h___0| ___ \")].index) + list(truth[truth['artist-name'].str.contains(r\"_$\")].index)"
   ]
  },
  {
   "cell_type": "code",
   "execution_count": 14,
   "metadata": {
    "collapsed": true
   },
   "outputs": [],
   "source": [
    "truth.drop(drop_indices, axis=0, inplace=True)"
   ]
  },
  {
   "cell_type": "code",
   "execution_count": 43,
   "metadata": {},
   "outputs": [],
   "source": [
    "eval_df = pd.merge(truth, pred_df_copy,\n",
    "                   on = ['userid', 'track-name', 'artist-name', 'weekend'],\n",
    "                   how = 'left')\n",
    "eval_df = eval_df.fillna(1)"
   ]
  },
  {
   "cell_type": "code",
   "execution_count": 44,
   "metadata": {},
   "outputs": [
    {
     "data": {
      "text/plain": [
       "0.80765050212604428"
      ]
     },
     "execution_count": 44,
     "metadata": {},
     "output_type": "execute_result"
    }
   ],
   "source": [
    "val_auc = AUC(eval_df[['skipped']], eval_df[['prediction']])\n",
    "val_auc"
   ]
  },
  {
   "cell_type": "markdown",
   "metadata": {},
   "source": [
    "## Benchmarks"
   ]
  },
  {
   "cell_type": "code",
   "execution_count": 45,
   "metadata": {},
   "outputs": [
    {
     "name": "stdout",
     "output_type": "stream",
     "text": [
      "RMSE: 0.13595882552\n",
      "MAE: 0.0338142359007\n"
     ]
    }
   ],
   "source": [
    "print(\"RMSE:\",np.sqrt(np.mean((eval_df['skipped'] - eval_df['prediction']) ** 2)))\n",
    "print(\"MAE:\",np.absolute(eval_df['skipped'] - eval_df['prediction']).mean())"
   ]
  },
  {
   "cell_type": "code",
   "execution_count": null,
   "metadata": {},
   "outputs": [
    {
     "name": "stdout",
     "output_type": "stream",
     "text": [
      "Evaluating RMSE, MAE of algorithm NormalPredictor.\n",
      "\n",
      "------------\n",
      "Fold 1\n",
      "RMSE: 0.1357\n",
      "MAE:  0.0680\n",
      "------------\n",
      "Fold 2\n",
      "RMSE: 0.1359\n",
      "MAE:  0.0672\n",
      "------------\n",
      "Fold 3\n",
      "RMSE: 0.1392\n",
      "MAE:  0.0685\n",
      "------------\n",
      "Fold 4\n",
      "RMSE: 0.1384\n",
      "MAE:  0.0681\n",
      "------------\n",
      "Fold 5\n",
      "RMSE: 0.1380\n",
      "MAE:  0.0684\n",
      "------------\n",
      "------------\n",
      "Mean RMSE: 0.1374\n",
      "Mean MAE : 0.0681\n",
      "------------\n",
      "------------\n",
      "        Fold 1  Fold 2  Fold 3  Fold 4  Fold 5  Mean    \n",
      "RMSE    0.1357  0.1359  0.1392  0.1384  0.1380  0.1374  \n",
      "MAE     0.0680  0.0672  0.0685  0.0681  0.0684  0.0681  \n"
     ]
    }
   ],
   "source": [
    "testset = Dataset.load_from_df(test[['userid','trackartist_weekend','skipped']], reader)\n",
    "\n",
    "normalAlgo = NormalPredictor()\n",
    "normalPerf = evaluate(normalAlgo, testset, measures=['RMSE', 'MAE'])\n",
    "print_perf(normalPerf)"
   ]
  },
  {
   "cell_type": "code",
   "execution_count": null,
   "metadata": {},
   "outputs": [
    {
     "name": "stdout",
     "output_type": "stream",
     "text": [
      "Evaluating RMSE, MAE of algorithm BaselineOnly.\n",
      "\n",
      "------------\n",
      "Fold 1\n",
      "Estimating biases using sgd...\n",
      "RMSE: 0.0979\n",
      "MAE:  0.0276\n",
      "------------\n",
      "Fold 2\n",
      "Estimating biases using sgd...\n",
      "RMSE: 0.0979\n",
      "MAE:  0.0272\n",
      "------------\n",
      "Fold 3\n",
      "Estimating biases using sgd...\n",
      "RMSE: 0.1015\n",
      "MAE:  0.0282\n",
      "------------\n",
      "Fold 4\n",
      "Estimating biases using sgd...\n",
      "RMSE: 0.0999\n",
      "MAE:  0.0281\n"
     ]
    }
   ],
   "source": [
    "bsl_options = {'method': 'sgd'}\n",
    "baselineAlgo = BaselineOnly(bsl_options=bsl_options)\n",
    "baselinePerf = evaluate(baselineAlgo, testset, measures=['RMSE', 'MAE'])\n",
    "print_perf(baselinePerf)"
   ]
  },
  {
   "cell_type": "code",
   "execution_count": null,
   "metadata": {
    "collapsed": true
   },
   "outputs": [],
   "source": [
    "eval_df.to_csv('SVDppResults.csv', index=False)"
   ]
  }
 ],
 "metadata": {
  "kernelspec": {
   "display_name": "Python 3",
   "language": "python",
   "name": "python3"
  },
  "language_info": {
   "codemirror_mode": {
    "name": "ipython",
    "version": 3
   },
   "file_extension": ".py",
   "mimetype": "text/x-python",
   "name": "python",
   "nbconvert_exporter": "python",
   "pygments_lexer": "ipython3",
   "version": "3.6.0"
  }
 },
 "nbformat": 4,
 "nbformat_minor": 2
}
