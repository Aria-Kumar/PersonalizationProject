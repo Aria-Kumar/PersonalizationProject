{
 "cells": [
  {
   "cell_type": "code",
   "execution_count": 1,
   "metadata": {
    "collapsed": true
   },
   "outputs": [],
   "source": [
    "import pandas as pd\n",
    "import numpy as np\n",
    "from sklearn.linear_model import LogisticRegression as LR\n",
    "from sklearn.model_selection import cross_val_score\n",
    "from sklearn.model_selection import cross_val_predict\n",
    "from sklearn.metrics import roc_auc_score as AUC\n",
    "import warnings\n",
    "warnings.filterwarnings(\"ignore\")\n",
    "import tensorflow as tf"
   ]
  },
  {
   "cell_type": "code",
   "execution_count": 2,
   "metadata": {
    "collapsed": true
   },
   "outputs": [],
   "source": [
    "def data_split(data, validation_ratio = 0.15, test_ratio = 0.15):\n",
    "    \"\"\"\n",
    "    Function to split data into train, validation and test based on timestamps\n",
    "    \n",
    "    https://stackoverflow.com/questions/42395258/\n",
    "    \n",
    "    \"\"\"\n",
    "    train_ratio = 1 - validation_ratio - test_ratio\n",
    "    \n",
    "    data['time_rank'] = data.groupby('userid')['timestamp'].rank()\n",
    "    data['user_all_songs_count'] = data['userid'].map(data.groupby('userid')['timestamp'].apply(len))\n",
    "    data['scaled_time_rank'] = data['time_rank']/ data['user_all_songs_count']\n",
    "    \n",
    "    data.drop(['time_rank', 'user_all_songs_count'], axis=1, inplace=True)\n",
    "    \n",
    "    train_data = data.loc[data['scaled_time_rank'] <= train_ratio, :]\n",
    "    validation_data = data.loc[(data['scaled_time_rank'] <= (1 - test_ratio)) & (data['scaled_time_rank'] > train_ratio), :]\n",
    "    test_data = data.loc[(data['scaled_time_rank'] > (train_ratio + validation_ratio)), :]\n",
    "    #train_data.drop(['scaled_time_rank', 'timestamp', 'userid'], axis=1, inplace=True)\n",
    "    #validation_data.drop(['scaled_time_rank', 'timestamp', 'userid'], axis=1, inplace=True)\n",
    "    #test_data.drop(['scaled_time_rank', 'timestamp', 'userid'], axis=1, inplace=True)\n",
    "    return train_data, validation_data, test_data\n",
    "    "
   ]
  },
  {
   "cell_type": "code",
   "execution_count": 3,
   "metadata": {
    "collapsed": true
   },
   "outputs": [],
   "source": [
    "pandas_df = pd.read_csv('data_engineered_features500.csv') \n",
    "pandas_df[\"gender_int\"] = 0\n",
    "pandas_df.loc[pandas_df[\"gender\"] == \"m\", \"gender_int\"] = 1\n",
    "pandas_df.loc[pandas_df[\"gender\"] == \"f\", \"gender_int\"] = 2\n",
    "#pandas_df.drop([\"track-name\",\"artist-name\", \"songlength\", \"gender\"], axis=1, inplace=True)\n",
    "#pandas_df.drop([\"songlength\", \"gender\"], axis=1, inplace=True)\n",
    "pandas_df = pandas_df.fillna(0)"
   ]
  },
  {
   "cell_type": "code",
   "execution_count": 4,
   "metadata": {},
   "outputs": [
    {
     "data": {
      "text/html": [
       "<div>\n",
       "<style>\n",
       "    .dataframe thead tr:only-child th {\n",
       "        text-align: right;\n",
       "    }\n",
       "\n",
       "    .dataframe thead th {\n",
       "        text-align: left;\n",
       "    }\n",
       "\n",
       "    .dataframe tbody tr th {\n",
       "        vertical-align: top;\n",
       "    }\n",
       "</style>\n",
       "<table border=\"1\" class=\"dataframe\">\n",
       "  <thead>\n",
       "    <tr style=\"text-align: right;\">\n",
       "      <th></th>\n",
       "      <th>userid</th>\n",
       "      <th>track-name</th>\n",
       "      <th>artist-name</th>\n",
       "      <th>timestamp</th>\n",
       "      <th>weekday</th>\n",
       "      <th>hour</th>\n",
       "      <th>weekend</th>\n",
       "      <th>daytime</th>\n",
       "      <th>user-track-total-count</th>\n",
       "      <th>track-weekday-count</th>\n",
       "      <th>...</th>\n",
       "      <th>user-song-skip-percentage</th>\n",
       "      <th>user-artist-skips</th>\n",
       "      <th>user-artist-skip-percentage</th>\n",
       "      <th>global-song-skips</th>\n",
       "      <th>global-artist-skips</th>\n",
       "      <th>artist_total_count</th>\n",
       "      <th>song_total_count</th>\n",
       "      <th>global-song-skip-percentage</th>\n",
       "      <th>global-artist-skip-percentage</th>\n",
       "      <th>gender_int</th>\n",
       "    </tr>\n",
       "  </thead>\n",
       "  <tbody>\n",
       "    <tr>\n",
       "      <th>0</th>\n",
       "      <td>user_000001</td>\n",
       "      <td>The Launching Of Big Face</td>\n",
       "      <td>Plaid &amp; Bob Jaroc</td>\n",
       "      <td>2006-08-13 13:59:20</td>\n",
       "      <td>6</td>\n",
       "      <td>13</td>\n",
       "      <td>1</td>\n",
       "      <td>3</td>\n",
       "      <td>1</td>\n",
       "      <td>1</td>\n",
       "      <td>...</td>\n",
       "      <td>0.0</td>\n",
       "      <td>0</td>\n",
       "      <td>0.000000</td>\n",
       "      <td>0</td>\n",
       "      <td>0</td>\n",
       "      <td>1</td>\n",
       "      <td>1</td>\n",
       "      <td>0.0</td>\n",
       "      <td>0.0</td>\n",
       "      <td>1</td>\n",
       "    </tr>\n",
       "    <tr>\n",
       "      <th>1</th>\n",
       "      <td>user_000001</td>\n",
       "      <td>Zn Zero</td>\n",
       "      <td>Plaid &amp; Bob Jaroc</td>\n",
       "      <td>2006-08-13 14:03:29</td>\n",
       "      <td>6</td>\n",
       "      <td>14</td>\n",
       "      <td>1</td>\n",
       "      <td>3</td>\n",
       "      <td>1</td>\n",
       "      <td>1</td>\n",
       "      <td>...</td>\n",
       "      <td>0.0</td>\n",
       "      <td>0</td>\n",
       "      <td>0.000000</td>\n",
       "      <td>0</td>\n",
       "      <td>0</td>\n",
       "      <td>2</td>\n",
       "      <td>1</td>\n",
       "      <td>0.0</td>\n",
       "      <td>0.0</td>\n",
       "      <td>1</td>\n",
       "    </tr>\n",
       "    <tr>\n",
       "      <th>2</th>\n",
       "      <td>user_000001</td>\n",
       "      <td>The Return Of Super Barrio - End Credits</td>\n",
       "      <td>Plaid &amp; Bob Jaroc</td>\n",
       "      <td>2006-08-13 14:10:43</td>\n",
       "      <td>6</td>\n",
       "      <td>14</td>\n",
       "      <td>1</td>\n",
       "      <td>3</td>\n",
       "      <td>1</td>\n",
       "      <td>1</td>\n",
       "      <td>...</td>\n",
       "      <td>0.0</td>\n",
       "      <td>0</td>\n",
       "      <td>0.000000</td>\n",
       "      <td>0</td>\n",
       "      <td>0</td>\n",
       "      <td>3</td>\n",
       "      <td>1</td>\n",
       "      <td>0.0</td>\n",
       "      <td>0.0</td>\n",
       "      <td>1</td>\n",
       "    </tr>\n",
       "    <tr>\n",
       "      <th>3</th>\n",
       "      <td>user_000001</td>\n",
       "      <td>Dayvan Cowboy</td>\n",
       "      <td>Boards Of Canada</td>\n",
       "      <td>2006-08-13 15:44:17</td>\n",
       "      <td>6</td>\n",
       "      <td>15</td>\n",
       "      <td>1</td>\n",
       "      <td>3</td>\n",
       "      <td>1</td>\n",
       "      <td>1</td>\n",
       "      <td>...</td>\n",
       "      <td>0.0</td>\n",
       "      <td>0</td>\n",
       "      <td>0.000000</td>\n",
       "      <td>0</td>\n",
       "      <td>0</td>\n",
       "      <td>1</td>\n",
       "      <td>1</td>\n",
       "      <td>0.0</td>\n",
       "      <td>0.0</td>\n",
       "      <td>1</td>\n",
       "    </tr>\n",
       "    <tr>\n",
       "      <th>4</th>\n",
       "      <td>user_000001</td>\n",
       "      <td>A Moment Of Clarity</td>\n",
       "      <td>Boards Of Canada</td>\n",
       "      <td>2006-08-13 16:46:52</td>\n",
       "      <td>6</td>\n",
       "      <td>16</td>\n",
       "      <td>1</td>\n",
       "      <td>3</td>\n",
       "      <td>1</td>\n",
       "      <td>1</td>\n",
       "      <td>...</td>\n",
       "      <td>1.0</td>\n",
       "      <td>1</td>\n",
       "      <td>0.333333</td>\n",
       "      <td>1</td>\n",
       "      <td>1</td>\n",
       "      <td>3</td>\n",
       "      <td>1</td>\n",
       "      <td>1.0</td>\n",
       "      <td>1.0</td>\n",
       "      <td>1</td>\n",
       "    </tr>\n",
       "  </tbody>\n",
       "</table>\n",
       "<p>5 rows × 32 columns</p>\n",
       "</div>"
      ],
      "text/plain": [
       "        userid                                track-name        artist-name  \\\n",
       "0  user_000001                 The Launching Of Big Face  Plaid & Bob Jaroc   \n",
       "1  user_000001                                   Zn Zero  Plaid & Bob Jaroc   \n",
       "2  user_000001  The Return Of Super Barrio - End Credits  Plaid & Bob Jaroc   \n",
       "3  user_000001                             Dayvan Cowboy   Boards Of Canada   \n",
       "4  user_000001                       A Moment Of Clarity   Boards Of Canada   \n",
       "\n",
       "             timestamp  weekday  hour  weekend  daytime  \\\n",
       "0  2006-08-13 13:59:20        6    13        1        3   \n",
       "1  2006-08-13 14:03:29        6    14        1        3   \n",
       "2  2006-08-13 14:10:43        6    14        1        3   \n",
       "3  2006-08-13 15:44:17        6    15        1        3   \n",
       "4  2006-08-13 16:46:52        6    16        1        3   \n",
       "\n",
       "   user-track-total-count  track-weekday-count    ...      \\\n",
       "0                       1                    1    ...       \n",
       "1                       1                    1    ...       \n",
       "2                       1                    1    ...       \n",
       "3                       1                    1    ...       \n",
       "4                       1                    1    ...       \n",
       "\n",
       "   user-song-skip-percentage user-artist-skips  user-artist-skip-percentage  \\\n",
       "0                        0.0                 0                     0.000000   \n",
       "1                        0.0                 0                     0.000000   \n",
       "2                        0.0                 0                     0.000000   \n",
       "3                        0.0                 0                     0.000000   \n",
       "4                        1.0                 1                     0.333333   \n",
       "\n",
       "   global-song-skips  global-artist-skips  artist_total_count  \\\n",
       "0                  0                    0                   1   \n",
       "1                  0                    0                   2   \n",
       "2                  0                    0                   3   \n",
       "3                  0                    0                   1   \n",
       "4                  1                    1                   3   \n",
       "\n",
       "   song_total_count  global-song-skip-percentage  \\\n",
       "0                 1                          0.0   \n",
       "1                 1                          0.0   \n",
       "2                 1                          0.0   \n",
       "3                 1                          0.0   \n",
       "4                 1                          1.0   \n",
       "\n",
       "   global-artist-skip-percentage gender_int  \n",
       "0                            0.0          1  \n",
       "1                            0.0          1  \n",
       "2                            0.0          1  \n",
       "3                            0.0          1  \n",
       "4                            1.0          1  \n",
       "\n",
       "[5 rows x 32 columns]"
      ]
     },
     "execution_count": 4,
     "metadata": {},
     "output_type": "execute_result"
    }
   ],
   "source": [
    "pandas_df.head()"
   ]
  },
  {
   "cell_type": "code",
   "execution_count": 5,
   "metadata": {
    "collapsed": true
   },
   "outputs": [],
   "source": [
    "train_data, validation_data, test_data = data_split(pandas_df, validation_ratio = 0.15, test_ratio = 0.15)"
   ]
  },
  {
   "cell_type": "code",
   "execution_count": 6,
   "metadata": {
    "collapsed": true
   },
   "outputs": [],
   "source": [
    "del pandas_df"
   ]
  },
  {
   "cell_type": "code",
   "execution_count": 7,
   "metadata": {
    "collapsed": true
   },
   "outputs": [],
   "source": [
    "train_y = np.array(train_data[\"skipped\"])\n",
    "validation_y = np.array(validation_data[\"skipped\"])\n",
    "test_y = np.array(test_data[\"skipped\"])\n",
    "\n",
    "train_userid = np.array(train_data[\"userid\"])\n",
    "validation_userid = np.array(validation_data[\"userid\"])\n",
    "test_userid = np.array(test_data[\"userid\"])\n",
    "\n",
    "train_timestamp = np.array(train_data[\"timestamp\"])\n",
    "validation_timestamp = np.array(validation_data[\"timestamp\"])\n",
    "test_timestamp = np.array(test_data[\"timestamp\"])\n",
    "\n",
    "train_track_name = np.array(train_data[\"track-name\"])\n",
    "validation_track_name = np.array(validation_data[\"track-name\"])\n",
    "test_track_name = np.array(test_data[\"track-name\"])\n",
    "\n",
    "train_artist_name = np.array(train_data[\"artist-name\"])\n",
    "validation_artist_name = np.array(validation_data[\"artist-name\"])\n",
    "test_artist_name = np.array(test_data[\"artist-name\"])\n",
    "\n",
    "train_weekend = np.array(train_data[\"weekend\"])\n",
    "validation_weekend = np.array(validation_data[\"weekend\"])\n",
    "test_weekend = np.array(test_data[\"weekend\"])\n",
    "\n",
    "train_data.drop([\"skipped\", 'scaled_time_rank', 'timestamp', 'userid', \n",
    "                 \"track-name\",\"artist-name\", \"songlength\", \"gender\"], axis=1, inplace=True)\n",
    "validation_data.drop([\"skipped\", 'scaled_time_rank', 'timestamp', 'userid', \n",
    "                      \"track-name\",\"artist-name\", \"songlength\", \"gender\"], axis=1, inplace=True)\n",
    "test_data.drop([\"skipped\", 'scaled_time_rank', 'timestamp', 'userid', \n",
    "                \"track-name\",\"artist-name\", \"songlength\", \"gender\"], axis=1, inplace=True)\n"
   ]
  },
  {
   "cell_type": "code",
   "execution_count": 8,
   "metadata": {
    "collapsed": true
   },
   "outputs": [],
   "source": [
    "features_list = list(train_data)\n",
    "train_data = (train_data - train_data.mean())/train_data.std()\n",
    "validation_data = (validation_data - train_data.mean())/train_data.std()\n",
    "test_data = (test_data - train_data.mean())/train_data.std()"
   ]
  },
  {
   "cell_type": "code",
   "execution_count": 9,
   "metadata": {},
   "outputs": [
    {
     "data": {
      "text/plain": [
       "(5369831, 25)"
      ]
     },
     "execution_count": 9,
     "metadata": {},
     "output_type": "execute_result"
    }
   ],
   "source": [
    "np.shape(train_data)"
   ]
  },
  {
   "cell_type": "code",
   "execution_count": 69,
   "metadata": {},
   "outputs": [],
   "source": [
    "def neural_net_model():\n",
    "    # create model\n",
    "    model = tf.keras.models.Sequential()\n",
    "    \n",
    "    model.add(tf.keras.layers.Dense(2, input_dim=25, activation='relu',\n",
    "                                    kernel_initializer='glorot_normal'))\n",
    "    \n",
    "    #model.add(tf.keras.layers.Dropout(0.3))\n",
    "    model.add(tf.keras.layers.Dense(1, activation='sigmoid'))\n",
    "    \n",
    "    # Compile model\n",
    "    #sgd = tf.keras.optimizers.SGD(lr=0.01, decay=1e-6, momentum=0.9, nesterov=True)\n",
    "    model.compile(loss='binary_crossentropy', optimizer='adagrad', metrics=['accuracy'])\n",
    "    return model"
   ]
  },
  {
   "cell_type": "code",
   "execution_count": 70,
   "metadata": {
    "collapsed": true
   },
   "outputs": [],
   "source": [
    "# Define the Neural Network model\n",
    "# Using Scikit-Learn wrapper in Keras, which is now in Tensorflow\n",
    "deep_net = tf.keras.wrappers.scikit_learn.KerasClassifier(build_fn=neural_net_model, epochs=5, \n",
    "                                                          batch_size=256, verbose=0)"
   ]
  },
  {
   "cell_type": "markdown",
   "metadata": {},
   "source": [
    "### Train the NN"
   ]
  },
  {
   "cell_type": "code",
   "execution_count": 71,
   "metadata": {},
   "outputs": [
    {
     "data": {
      "text/plain": [
       "<tensorflow.python.keras._impl.keras.callbacks.History at 0x1a26bae0f0>"
      ]
     },
     "execution_count": 71,
     "metadata": {},
     "output_type": "execute_result"
    }
   ],
   "source": [
    "deep_net.fit(np.array(train_data), train_y)"
   ]
  },
  {
   "cell_type": "code",
   "execution_count": 72,
   "metadata": {
    "collapsed": true
   },
   "outputs": [],
   "source": [
    "val_prediction = deep_net.predict_proba(np.array(validation_data))[:,1]"
   ]
  },
  {
   "cell_type": "code",
   "execution_count": 73,
   "metadata": {},
   "outputs": [
    {
     "name": "stdout",
     "output_type": "stream",
     "text": [
      "Validation AUC Score: 0.705472154137\n"
     ]
    }
   ],
   "source": [
    "val_auc = AUC(validation_y, val_prediction)\n",
    "print(\"Validation AUC Score:\", val_auc)"
   ]
  },
  {
   "cell_type": "code",
   "execution_count": 74,
   "metadata": {
    "collapsed": true
   },
   "outputs": [],
   "source": [
    "test_prediction = deep_net.predict_proba(np.array(test_data))[:,1]"
   ]
  },
  {
   "cell_type": "code",
   "execution_count": 75,
   "metadata": {},
   "outputs": [
    {
     "name": "stdout",
     "output_type": "stream",
     "text": [
      "Test AUC Score: 0.679825944415\n"
     ]
    }
   ],
   "source": [
    "test_auc = AUC(test_y, test_prediction)\n",
    "print(\"Test AUC Score:\", test_auc)"
   ]
  },
  {
   "cell_type": "code",
   "execution_count": 76,
   "metadata": {
    "collapsed": true
   },
   "outputs": [],
   "source": [
    "test_pred_df = pd.DataFrame({\"userid\": test_userid, \"track-name\": test_track_name,\n",
    "                             \"artist-name\": test_artist_name, \"weekend\": test_weekend, \n",
    "                             \"timestamp\":test_timestamp, \"skipped\": test_y, \n",
    "                             \"prediction\": test_prediction})"
   ]
  },
  {
   "cell_type": "code",
   "execution_count": 77,
   "metadata": {
    "collapsed": true
   },
   "outputs": [],
   "source": [
    "test_pred_df.to_csv(\"NNResults2.csv\", index=False)"
   ]
  },
  {
   "cell_type": "markdown",
   "metadata": {
    "collapsed": true
   },
   "source": [
    "### Train a Logistic Regression Model with L2 Regularization"
   ]
  },
  {
   "cell_type": "code",
   "execution_count": 19,
   "metadata": {
    "collapsed": true
   },
   "outputs": [],
   "source": [
    "linear_model = LR(penalty='l2', dual=False, tol=0.001, C=0.9, fit_intercept=True, \n",
    "                  intercept_scaling=1, class_weight=None, random_state=42, \n",
    "                  solver='liblinear', max_iter=50, multi_class='ovr', \n",
    "                  verbose=0, warm_start=False, n_jobs=1)"
   ]
  },
  {
   "cell_type": "code",
   "execution_count": 20,
   "metadata": {},
   "outputs": [
    {
     "data": {
      "text/plain": [
       "LogisticRegression(C=0.9, class_weight=None, dual=False, fit_intercept=True,\n",
       "          intercept_scaling=1, max_iter=50, multi_class='ovr', n_jobs=1,\n",
       "          penalty='l2', random_state=42, solver='liblinear', tol=0.001,\n",
       "          verbose=0, warm_start=False)"
      ]
     },
     "execution_count": 20,
     "metadata": {},
     "output_type": "execute_result"
    }
   ],
   "source": [
    "linear_model.fit(np.array(train_data), train_y)"
   ]
  },
  {
   "cell_type": "code",
   "execution_count": 21,
   "metadata": {
    "collapsed": true
   },
   "outputs": [],
   "source": [
    "linear_val_prediction = linear_model.predict_proba(np.array(validation_data))[:,1]"
   ]
  },
  {
   "cell_type": "code",
   "execution_count": 22,
   "metadata": {},
   "outputs": [
    {
     "name": "stdout",
     "output_type": "stream",
     "text": [
      "Validation AUC Score: 0.520982793133\n"
     ]
    }
   ],
   "source": [
    "linear_val_auc = AUC(validation_y, linear_val_prediction)\n",
    "print(\"Validation AUC Score:\", linear_val_auc)"
   ]
  },
  {
   "cell_type": "code",
   "execution_count": null,
   "metadata": {
    "collapsed": true
   },
   "outputs": [],
   "source": []
  }
 ],
 "metadata": {
  "kernelspec": {
   "display_name": "Python 3",
   "language": "python",
   "name": "python3"
  },
  "language_info": {
   "codemirror_mode": {
    "name": "ipython",
    "version": 3
   },
   "file_extension": ".py",
   "mimetype": "text/x-python",
   "name": "python",
   "nbconvert_exporter": "python",
   "pygments_lexer": "ipython3",
   "version": "3.6.3"
  }
 },
 "nbformat": 4,
 "nbformat_minor": 2
}
