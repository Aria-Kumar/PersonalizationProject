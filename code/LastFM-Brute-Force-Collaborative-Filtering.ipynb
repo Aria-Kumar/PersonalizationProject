{
 "cells": [
  {
   "cell_type": "markdown",
   "metadata": {},
   "source": [
    "# Brute Force Collaborative Filtering"
   ]
  },
  {
   "cell_type": "markdown",
   "metadata": {},
   "source": [
    "Notebook to perform brute force collaborative filtering on the LastFM dataset. \n",
    "\n",
    "### About the dataset\n",
    "The data contains the complete music listening history of 992 users on LastFM over a span of several years, with a total of 19.1M records. Every song played by each of the users is available along with the timestamps. For this collaborative filtering exercise, we work with an aggregated version with only users and artists.\n",
    "\n",
    "### Collaborative filtering methodology\n",
    "We employ a user-user neighborhood based collaborative filtering. Since this is \n",
    "1. Split the data into training and testing data. Split is done by keeping a hold out (20%) of artists for every user.\n",
    "2. Find the similarity between all pairs of users in the training data. Here we use Pearson Correlation for similarity, owing to it's ease of calculation using Pandas\n",
    "3. Determine the peers of every user. We use a paraemeter k to determine the number of closest neighbors to consider. This parameter is tuned.\n",
    "4. Calculate a weighted average of all music interests of the neighbors (weighted by the correlation to user). The values are mean centered. \n",
    "5. This weighted average is added to the average count of the user to get the counts in the test data\n",
    "\n",
    "### Model Evaluation\n",
    "We use Root Mean Squared Error (RMSE) and Mean Abbsolute Error (MAE) of the test predicitons to select our model parameters.\n",
    "\n"
   ]
  },
  {
   "cell_type": "code",
   "execution_count": 51,
   "metadata": {
    "collapsed": true
   },
   "outputs": [],
   "source": [
    "import pandas as pd\n",
    "import numpy as np\n",
    "import seaborn as sns\n",
    "import matplotlib.pyplot as plt\n",
    "from sklearn.model_selection import train_test_split\n",
    "from sklearn.metrics import mean_squared_error as MSE\n",
    "from sklearn.metrics import mean_absolute_error as MAE"
   ]
  },
  {
   "cell_type": "markdown",
   "metadata": {},
   "source": [
    "## Read Data"
   ]
  },
  {
   "cell_type": "markdown",
   "metadata": {},
   "source": [
    "Read the dataset using Pandas and see what it looks like."
   ]
  },
  {
   "cell_type": "code",
   "execution_count": 52,
   "metadata": {},
   "outputs": [],
   "source": [
    "data = pd.read_csv(\"./lastfm-dataset-1K/userid-timestamp-artid-artname-traid-traname.tsv\", \n",
    "                   delimiter=\"\\t\", header=None, \n",
    "                   names = [\"userid\",\"timestamp\",\"musicbrainz-artist-id\",\n",
    "                            \"artist-name\",\"musicbrainz-track-id\",\"track-name\"])"
   ]
  },
  {
   "cell_type": "code",
   "execution_count": 53,
   "metadata": {},
   "outputs": [
    {
     "name": "stdout",
     "output_type": "stream",
     "text": [
      "Total number of rows: 19098862\n"
     ]
    },
    {
     "data": {
      "text/html": [
       "<div>\n",
       "<style>\n",
       "    .dataframe thead tr:only-child th {\n",
       "        text-align: right;\n",
       "    }\n",
       "\n",
       "    .dataframe thead th {\n",
       "        text-align: left;\n",
       "    }\n",
       "\n",
       "    .dataframe tbody tr th {\n",
       "        vertical-align: top;\n",
       "    }\n",
       "</style>\n",
       "<table border=\"1\" class=\"dataframe\">\n",
       "  <thead>\n",
       "    <tr style=\"text-align: right;\">\n",
       "      <th></th>\n",
       "      <th>userid</th>\n",
       "      <th>timestamp</th>\n",
       "      <th>musicbrainz-artist-id</th>\n",
       "      <th>artist-name</th>\n",
       "      <th>musicbrainz-track-id</th>\n",
       "      <th>track-name</th>\n",
       "    </tr>\n",
       "  </thead>\n",
       "  <tbody>\n",
       "    <tr>\n",
       "      <th>14783634</th>\n",
       "      <td>user_000783</td>\n",
       "      <td>2007-02-26T21:48:44Z</td>\n",
       "      <td>22e981ec-110f-4a8c-a73c-1746eac4ca12</td>\n",
       "      <td>Black Funeral</td>\n",
       "      <td>NaN</td>\n",
       "      <td>Leviathan (The Roaring Black Oceans)</td>\n",
       "    </tr>\n",
       "    <tr>\n",
       "      <th>16808738</th>\n",
       "      <td>user_000870</td>\n",
       "      <td>2006-11-29T11:28:55Z</td>\n",
       "      <td>b21ef19b-c6aa-4775-90d3-3cc3e067ce6d</td>\n",
       "      <td>Serge Gainsbourg</td>\n",
       "      <td>dcffbf5a-7333-454f-ae42-7c1f44bbcab6</td>\n",
       "      <td>Daisy Temple</td>\n",
       "    </tr>\n",
       "    <tr>\n",
       "      <th>2716865</th>\n",
       "      <td>user_000137</td>\n",
       "      <td>2007-03-27T03:00:57Z</td>\n",
       "      <td>cbf9738d-8f81-4a92-bc64-ede09341652d</td>\n",
       "      <td>Chris Cornell</td>\n",
       "      <td>182060ce-23f0-4242-91de-f467a70067cb</td>\n",
       "      <td>You Know My Name</td>\n",
       "    </tr>\n",
       "    <tr>\n",
       "      <th>10026933</th>\n",
       "      <td>user_000535</td>\n",
       "      <td>2005-07-13T13:49:17Z</td>\n",
       "      <td>df360f0d-44bf-44c4-9b60-38d4fc13996a</td>\n",
       "      <td>Fc Kahuna</td>\n",
       "      <td>dee835d1-6abc-448c-96d6-187961d2088f</td>\n",
       "      <td>Hayling (Ils Remix)</td>\n",
       "    </tr>\n",
       "    <tr>\n",
       "      <th>5082085</th>\n",
       "      <td>user_000263</td>\n",
       "      <td>2008-05-14T18:43:07Z</td>\n",
       "      <td>bc91f8af-a6e5-46f3-b239-b5b1c390e535</td>\n",
       "      <td>The Glove</td>\n",
       "      <td>NaN</td>\n",
       "      <td>Perfect Murder (2006 Remastered Lp Version)</td>\n",
       "    </tr>\n",
       "  </tbody>\n",
       "</table>\n",
       "</div>"
      ],
      "text/plain": [
       "               userid             timestamp  \\\n",
       "14783634  user_000783  2007-02-26T21:48:44Z   \n",
       "16808738  user_000870  2006-11-29T11:28:55Z   \n",
       "2716865   user_000137  2007-03-27T03:00:57Z   \n",
       "10026933  user_000535  2005-07-13T13:49:17Z   \n",
       "5082085   user_000263  2008-05-14T18:43:07Z   \n",
       "\n",
       "                         musicbrainz-artist-id       artist-name  \\\n",
       "14783634  22e981ec-110f-4a8c-a73c-1746eac4ca12     Black Funeral   \n",
       "16808738  b21ef19b-c6aa-4775-90d3-3cc3e067ce6d  Serge Gainsbourg   \n",
       "2716865   cbf9738d-8f81-4a92-bc64-ede09341652d     Chris Cornell   \n",
       "10026933  df360f0d-44bf-44c4-9b60-38d4fc13996a         Fc Kahuna   \n",
       "5082085   bc91f8af-a6e5-46f3-b239-b5b1c390e535         The Glove   \n",
       "\n",
       "                          musicbrainz-track-id  \\\n",
       "14783634                                   NaN   \n",
       "16808738  dcffbf5a-7333-454f-ae42-7c1f44bbcab6   \n",
       "2716865   182060ce-23f0-4242-91de-f467a70067cb   \n",
       "10026933  dee835d1-6abc-448c-96d6-187961d2088f   \n",
       "5082085                                    NaN   \n",
       "\n",
       "                                           track-name  \n",
       "14783634         Leviathan (The Roaring Black Oceans)  \n",
       "16808738                                 Daisy Temple  \n",
       "2716865                              You Know My Name  \n",
       "10026933                          Hayling (Ils Remix)  \n",
       "5082085   Perfect Murder (2006 Remastered Lp Version)  "
      ]
     },
     "execution_count": 53,
     "metadata": {},
     "output_type": "execute_result"
    }
   ],
   "source": [
    "print(\"Total number of rows:\", len(data))\n",
    "data.sample(5)"
   ]
  },
  {
   "cell_type": "markdown",
   "metadata": {},
   "source": [
    "## Group data into artists and users"
   ]
  },
  {
   "cell_type": "markdown",
   "metadata": {},
   "source": [
    "For part 1 of the project we will only be working with the grouped data at an artist level. We will not be incorporating timestamps or songs in this."
   ]
  },
  {
   "cell_type": "code",
   "execution_count": 14,
   "metadata": {
    "collapsed": true
   },
   "outputs": [],
   "source": [
    "user_artist_groups = data.groupby(['userid','artist-name'])['timestamp'].count().reset_index()\n",
    "user_artist_groups.columns = ['userid', 'artist-name', 'count']"
   ]
  },
  {
   "cell_type": "markdown",
   "metadata": {},
   "source": [
    "Print the first 5 and last 5 rows of this grouped dataset"
   ]
  },
  {
   "cell_type": "code",
   "execution_count": 15,
   "metadata": {},
   "outputs": [
    {
     "data": {
      "text/html": [
       "<div>\n",
       "<style>\n",
       "    .dataframe thead tr:only-child th {\n",
       "        text-align: right;\n",
       "    }\n",
       "\n",
       "    .dataframe thead th {\n",
       "        text-align: left;\n",
       "    }\n",
       "\n",
       "    .dataframe tbody tr th {\n",
       "        vertical-align: top;\n",
       "    }\n",
       "</style>\n",
       "<table border=\"1\" class=\"dataframe\">\n",
       "  <thead>\n",
       "    <tr style=\"text-align: right;\">\n",
       "      <th></th>\n",
       "      <th>userid</th>\n",
       "      <th>artist-name</th>\n",
       "      <th>count</th>\n",
       "    </tr>\n",
       "  </thead>\n",
       "  <tbody>\n",
       "    <tr>\n",
       "      <th>0</th>\n",
       "      <td>user_000001</td>\n",
       "      <td>2562</td>\n",
       "      <td>26</td>\n",
       "    </tr>\n",
       "    <tr>\n",
       "      <th>1</th>\n",
       "      <td>user_000001</td>\n",
       "      <td>310</td>\n",
       "      <td>1</td>\n",
       "    </tr>\n",
       "    <tr>\n",
       "      <th>2</th>\n",
       "      <td>user_000001</td>\n",
       "      <td>3582</td>\n",
       "      <td>1</td>\n",
       "    </tr>\n",
       "    <tr>\n",
       "      <th>3</th>\n",
       "      <td>user_000001</td>\n",
       "      <td>4 Wings</td>\n",
       "      <td>2</td>\n",
       "    </tr>\n",
       "    <tr>\n",
       "      <th>4</th>\n",
       "      <td>user_000001</td>\n",
       "      <td>4Hero</td>\n",
       "      <td>146</td>\n",
       "    </tr>\n",
       "  </tbody>\n",
       "</table>\n",
       "</div>"
      ],
      "text/plain": [
       "        userid artist-name  count\n",
       "0  user_000001        2562     26\n",
       "1  user_000001         310      1\n",
       "2  user_000001        3582      1\n",
       "3  user_000001     4 Wings      2\n",
       "4  user_000001       4Hero    146"
      ]
     },
     "execution_count": 15,
     "metadata": {},
     "output_type": "execute_result"
    }
   ],
   "source": [
    "user_artist_groups.head(5)"
   ]
  },
  {
   "cell_type": "code",
   "execution_count": 16,
   "metadata": {},
   "outputs": [
    {
     "data": {
      "text/html": [
       "<div>\n",
       "<style>\n",
       "    .dataframe thead tr:only-child th {\n",
       "        text-align: right;\n",
       "    }\n",
       "\n",
       "    .dataframe thead th {\n",
       "        text-align: left;\n",
       "    }\n",
       "\n",
       "    .dataframe tbody tr th {\n",
       "        vertical-align: top;\n",
       "    }\n",
       "</style>\n",
       "<table border=\"1\" class=\"dataframe\">\n",
       "  <thead>\n",
       "    <tr style=\"text-align: right;\">\n",
       "      <th></th>\n",
       "      <th>userid</th>\n",
       "      <th>artist-name</th>\n",
       "      <th>count</th>\n",
       "    </tr>\n",
       "  </thead>\n",
       "  <tbody>\n",
       "    <tr>\n",
       "      <th>897416</th>\n",
       "      <td>user_001000</td>\n",
       "      <td>Zigmat</td>\n",
       "      <td>1</td>\n",
       "    </tr>\n",
       "    <tr>\n",
       "      <th>897417</th>\n",
       "      <td>user_001000</td>\n",
       "      <td>Zion I</td>\n",
       "      <td>2</td>\n",
       "    </tr>\n",
       "    <tr>\n",
       "      <th>897418</th>\n",
       "      <td>user_001000</td>\n",
       "      <td>Zy-</td>\n",
       "      <td>2</td>\n",
       "    </tr>\n",
       "    <tr>\n",
       "      <th>897419</th>\n",
       "      <td>user_001000</td>\n",
       "      <td>浜崎あゆみ</td>\n",
       "      <td>1</td>\n",
       "    </tr>\n",
       "    <tr>\n",
       "      <th>897420</th>\n",
       "      <td>user_001000</td>\n",
       "      <td>長沼英樹</td>\n",
       "      <td>18</td>\n",
       "    </tr>\n",
       "  </tbody>\n",
       "</table>\n",
       "</div>"
      ],
      "text/plain": [
       "             userid artist-name  count\n",
       "897416  user_001000      Zigmat      1\n",
       "897417  user_001000      Zion I      2\n",
       "897418  user_001000         Zy-      2\n",
       "897419  user_001000       浜崎あゆみ      1\n",
       "897420  user_001000        長沼英樹     18"
      ]
     },
     "execution_count": 16,
     "metadata": {},
     "output_type": "execute_result"
    }
   ],
   "source": [
    "user_artist_groups.tail(5)"
   ]
  },
  {
   "cell_type": "markdown",
   "metadata": {},
   "source": [
    "### Save the file!"
   ]
  },
  {
   "cell_type": "markdown",
   "metadata": {},
   "source": [
    "Let's save this grouped data into a csv for later use"
   ]
  },
  {
   "cell_type": "code",
   "execution_count": 17,
   "metadata": {},
   "outputs": [],
   "source": [
    "user_artist_groups.to_csv(\"users_and_artists.csv\", index=False)"
   ]
  },
  {
   "cell_type": "markdown",
   "metadata": {},
   "source": [
    "### Counting the number of artists and users in the dataset"
   ]
  },
  {
   "cell_type": "code",
   "execution_count": 18,
   "metadata": {
    "collapsed": true
   },
   "outputs": [],
   "source": [
    "unique_users = np.unique(user_artist_groups[\"userid\"])\n",
    "unique_artists = np.unique(user_artist_groups[\"artist-name\"])"
   ]
  },
  {
   "cell_type": "code",
   "execution_count": 19,
   "metadata": {},
   "outputs": [
    {
     "name": "stdout",
     "output_type": "stream",
     "text": [
      "Number of unique users: 992\n",
      "Number of unique artists: 173923\n"
     ]
    }
   ],
   "source": [
    "print('Number of unique users:', len(unique_users))\n",
    "print('Number of unique artists:', len(unique_artists))"
   ]
  },
  {
   "cell_type": "markdown",
   "metadata": {},
   "source": [
    "## Making Train-Test splits"
   ]
  },
  {
   "cell_type": "markdown",
   "metadata": {},
   "source": [
    "Before proceeding further, it is important for us to make a train-test split of the dataset. The collaborative filter will be built on the training data only and tested on the test data. We use an 80-20 split which is done in a manner such that 20% of artists of each user are put in the test data. This ensures that 80% of the artists for each user is available for each user."
   ]
  },
  {
   "cell_type": "code",
   "execution_count": 20,
   "metadata": {
    "collapsed": true
   },
   "outputs": [],
   "source": [
    "train_data = pd.DataFrame()\n",
    "test_data = pd.DataFrame()"
   ]
  },
  {
   "cell_type": "code",
   "execution_count": 21,
   "metadata": {
    "collapsed": true
   },
   "outputs": [],
   "source": [
    "user_artist_groups = pd.read_csv(\"users_and_artists.csv\")"
   ]
  },
  {
   "cell_type": "code",
   "execution_count": null,
   "metadata": {},
   "outputs": [],
   "source": [
    "# 20% artists for each user\n",
    "for u in unique_users:\n",
    "    user_u_all_data = user_artist_groups.loc[user_artist_groups[\"userid\"]==u,:]\n",
    "    user_u_train, user_u_test = train_test_split(user_u_all_data, test_size=0.20, random_state=42)\n",
    "    train_data = train_data.append(user_u_train)\n",
    "    test_data = test_data.append(user_u_test)"
   ]
  },
  {
   "cell_type": "code",
   "execution_count": 23,
   "metadata": {
    "collapsed": true
   },
   "outputs": [],
   "source": [
    "# write to csv\n",
    "train_data.to_csv(\"train_data.csv\", index=False)\n",
    "test_data.to_csv(\"test_data.csv\", index=False)"
   ]
  },
  {
   "cell_type": "markdown",
   "metadata": {
    "collapsed": true
   },
   "source": [
    "## Make the user-item count matrix using the training data"
   ]
  },
  {
   "cell_type": "code",
   "execution_count": 24,
   "metadata": {
    "collapsed": true
   },
   "outputs": [],
   "source": [
    "count_matrix = pd.DataFrame(columns = unique_users, index=unique_artists) #initialize with blanks"
   ]
  },
  {
   "cell_type": "markdown",
   "metadata": {},
   "source": [
    "### Fill up the values of the matrix"
   ]
  },
  {
   "cell_type": "code",
   "execution_count": 25,
   "metadata": {
    "collapsed": true
   },
   "outputs": [],
   "source": [
    "for index, row in train_data.iterrows():\n",
    "    count_matrix.loc[row['artist-name'], row['userid']] = row['count'] #fill each user-artist pair"
   ]
  },
  {
   "cell_type": "code",
   "execution_count": 26,
   "metadata": {
    "collapsed": true
   },
   "outputs": [],
   "source": [
    "count_matrix = count_matrix.astype(float) # ensure the dataframe is float type for correlation to work"
   ]
  },
  {
   "cell_type": "code",
   "execution_count": 27,
   "metadata": {
    "collapsed": true
   },
   "outputs": [],
   "source": [
    "count_matrix.to_csv(\"count_matrix.csv\", index = True) # save this to a csv "
   ]
  },
  {
   "cell_type": "code",
   "execution_count": 28,
   "metadata": {
    "collapsed": true
   },
   "outputs": [],
   "source": [
    "del data, user_artist_groups # clearing up some RAM"
   ]
  },
  {
   "cell_type": "markdown",
   "metadata": {},
   "source": [
    "## Finding k most correlated users (nearest neighbors) for each user"
   ]
  },
  {
   "cell_type": "markdown",
   "metadata": {},
   "source": [
    "This is the key step in the process of building a collaborative filter - generating the user-user similarity matrix. The similarity measure we emply here is the Pearson correlation, for its simplicity and ease of interpretability. We'll use the Pandas correlation method to create this similarity matrix. It is a useful funtion as it also handles sparse vectors well."
   ]
  },
  {
   "cell_type": "code",
   "execution_count": 29,
   "metadata": {
    "collapsed": true
   },
   "outputs": [],
   "source": [
    "user_corr_matrix = count_matrix.corr() # create correlation matrix"
   ]
  },
  {
   "cell_type": "code",
   "execution_count": 30,
   "metadata": {},
   "outputs": [
    {
     "data": {
      "text/html": [
       "<div>\n",
       "<style>\n",
       "    .dataframe thead tr:only-child th {\n",
       "        text-align: right;\n",
       "    }\n",
       "\n",
       "    .dataframe thead th {\n",
       "        text-align: left;\n",
       "    }\n",
       "\n",
       "    .dataframe tbody tr th {\n",
       "        vertical-align: top;\n",
       "    }\n",
       "</style>\n",
       "<table border=\"1\" class=\"dataframe\">\n",
       "  <thead>\n",
       "    <tr style=\"text-align: right;\">\n",
       "      <th></th>\n",
       "      <th>user_000001</th>\n",
       "      <th>user_000002</th>\n",
       "      <th>user_000003</th>\n",
       "      <th>user_000004</th>\n",
       "      <th>user_000005</th>\n",
       "      <th>user_000006</th>\n",
       "      <th>user_000007</th>\n",
       "      <th>user_000008</th>\n",
       "      <th>user_000009</th>\n",
       "      <th>user_000010</th>\n",
       "      <th>...</th>\n",
       "      <th>user_000991</th>\n",
       "      <th>user_000992</th>\n",
       "      <th>user_000993</th>\n",
       "      <th>user_000994</th>\n",
       "      <th>user_000995</th>\n",
       "      <th>user_000996</th>\n",
       "      <th>user_000997</th>\n",
       "      <th>user_000998</th>\n",
       "      <th>user_000999</th>\n",
       "      <th>user_001000</th>\n",
       "    </tr>\n",
       "  </thead>\n",
       "  <tbody>\n",
       "    <tr>\n",
       "      <th>user_000001</th>\n",
       "      <td>1.000000</td>\n",
       "      <td>-0.057230</td>\n",
       "      <td>0.427027</td>\n",
       "      <td>0.267180</td>\n",
       "      <td>-0.081073</td>\n",
       "      <td>0.342353</td>\n",
       "      <td>-0.109686</td>\n",
       "      <td>-0.430294</td>\n",
       "      <td>0.181502</td>\n",
       "      <td>-0.366927</td>\n",
       "      <td>...</td>\n",
       "      <td>-0.093730</td>\n",
       "      <td>-0.071619</td>\n",
       "      <td>0.380880</td>\n",
       "      <td>-0.251751</td>\n",
       "      <td>-0.047091</td>\n",
       "      <td>0.184118</td>\n",
       "      <td>-1.000000</td>\n",
       "      <td>0.929310</td>\n",
       "      <td>-0.018227</td>\n",
       "      <td>0.486616</td>\n",
       "    </tr>\n",
       "    <tr>\n",
       "      <th>user_000002</th>\n",
       "      <td>-0.057230</td>\n",
       "      <td>1.000000</td>\n",
       "      <td>0.006609</td>\n",
       "      <td>-0.031759</td>\n",
       "      <td>0.103367</td>\n",
       "      <td>0.110244</td>\n",
       "      <td>-0.159582</td>\n",
       "      <td>-0.213852</td>\n",
       "      <td>-0.073812</td>\n",
       "      <td>-0.214448</td>\n",
       "      <td>...</td>\n",
       "      <td>-0.018367</td>\n",
       "      <td>-0.042882</td>\n",
       "      <td>0.136112</td>\n",
       "      <td>0.297763</td>\n",
       "      <td>0.029010</td>\n",
       "      <td>-0.028058</td>\n",
       "      <td>-0.069850</td>\n",
       "      <td>0.156928</td>\n",
       "      <td>0.001762</td>\n",
       "      <td>0.274594</td>\n",
       "    </tr>\n",
       "    <tr>\n",
       "      <th>user_000003</th>\n",
       "      <td>0.427027</td>\n",
       "      <td>0.006609</td>\n",
       "      <td>1.000000</td>\n",
       "      <td>0.224455</td>\n",
       "      <td>0.202054</td>\n",
       "      <td>-0.028400</td>\n",
       "      <td>-0.068726</td>\n",
       "      <td>0.520668</td>\n",
       "      <td>0.111141</td>\n",
       "      <td>-0.030965</td>\n",
       "      <td>...</td>\n",
       "      <td>0.104279</td>\n",
       "      <td>-0.053574</td>\n",
       "      <td>-0.070045</td>\n",
       "      <td>0.222945</td>\n",
       "      <td>0.045960</td>\n",
       "      <td>0.208109</td>\n",
       "      <td>-0.327386</td>\n",
       "      <td>0.221143</td>\n",
       "      <td>-0.004975</td>\n",
       "      <td>0.038799</td>\n",
       "    </tr>\n",
       "    <tr>\n",
       "      <th>user_000004</th>\n",
       "      <td>0.267180</td>\n",
       "      <td>-0.031759</td>\n",
       "      <td>0.224455</td>\n",
       "      <td>1.000000</td>\n",
       "      <td>0.054552</td>\n",
       "      <td>-0.044578</td>\n",
       "      <td>0.087069</td>\n",
       "      <td>-0.280795</td>\n",
       "      <td>-0.055148</td>\n",
       "      <td>0.115495</td>\n",
       "      <td>...</td>\n",
       "      <td>-0.028945</td>\n",
       "      <td>0.209526</td>\n",
       "      <td>0.239227</td>\n",
       "      <td>-0.013614</td>\n",
       "      <td>0.096783</td>\n",
       "      <td>0.760990</td>\n",
       "      <td>-0.017256</td>\n",
       "      <td>0.625875</td>\n",
       "      <td>-0.043685</td>\n",
       "      <td>0.295971</td>\n",
       "    </tr>\n",
       "    <tr>\n",
       "      <th>user_000005</th>\n",
       "      <td>-0.081073</td>\n",
       "      <td>0.103367</td>\n",
       "      <td>0.202054</td>\n",
       "      <td>0.054552</td>\n",
       "      <td>1.000000</td>\n",
       "      <td>-0.059106</td>\n",
       "      <td>-0.129849</td>\n",
       "      <td>-0.120712</td>\n",
       "      <td>-0.082940</td>\n",
       "      <td>-0.040968</td>\n",
       "      <td>...</td>\n",
       "      <td>-0.513507</td>\n",
       "      <td>-0.053357</td>\n",
       "      <td>0.535216</td>\n",
       "      <td>0.102244</td>\n",
       "      <td>0.049824</td>\n",
       "      <td>-0.051752</td>\n",
       "      <td>-1.000000</td>\n",
       "      <td>-0.153929</td>\n",
       "      <td>-0.137953</td>\n",
       "      <td>-0.169765</td>\n",
       "    </tr>\n",
       "  </tbody>\n",
       "</table>\n",
       "<p>5 rows × 992 columns</p>\n",
       "</div>"
      ],
      "text/plain": [
       "             user_000001  user_000002  user_000003  user_000004  user_000005  \\\n",
       "user_000001     1.000000    -0.057230     0.427027     0.267180    -0.081073   \n",
       "user_000002    -0.057230     1.000000     0.006609    -0.031759     0.103367   \n",
       "user_000003     0.427027     0.006609     1.000000     0.224455     0.202054   \n",
       "user_000004     0.267180    -0.031759     0.224455     1.000000     0.054552   \n",
       "user_000005    -0.081073     0.103367     0.202054     0.054552     1.000000   \n",
       "\n",
       "             user_000006  user_000007  user_000008  user_000009  user_000010  \\\n",
       "user_000001     0.342353    -0.109686    -0.430294     0.181502    -0.366927   \n",
       "user_000002     0.110244    -0.159582    -0.213852    -0.073812    -0.214448   \n",
       "user_000003    -0.028400    -0.068726     0.520668     0.111141    -0.030965   \n",
       "user_000004    -0.044578     0.087069    -0.280795    -0.055148     0.115495   \n",
       "user_000005    -0.059106    -0.129849    -0.120712    -0.082940    -0.040968   \n",
       "\n",
       "                ...       user_000991  user_000992  user_000993  user_000994  \\\n",
       "user_000001     ...         -0.093730    -0.071619     0.380880    -0.251751   \n",
       "user_000002     ...         -0.018367    -0.042882     0.136112     0.297763   \n",
       "user_000003     ...          0.104279    -0.053574    -0.070045     0.222945   \n",
       "user_000004     ...         -0.028945     0.209526     0.239227    -0.013614   \n",
       "user_000005     ...         -0.513507    -0.053357     0.535216     0.102244   \n",
       "\n",
       "             user_000995  user_000996  user_000997  user_000998  user_000999  \\\n",
       "user_000001    -0.047091     0.184118    -1.000000     0.929310    -0.018227   \n",
       "user_000002     0.029010    -0.028058    -0.069850     0.156928     0.001762   \n",
       "user_000003     0.045960     0.208109    -0.327386     0.221143    -0.004975   \n",
       "user_000004     0.096783     0.760990    -0.017256     0.625875    -0.043685   \n",
       "user_000005     0.049824    -0.051752    -1.000000    -0.153929    -0.137953   \n",
       "\n",
       "             user_001000  \n",
       "user_000001     0.486616  \n",
       "user_000002     0.274594  \n",
       "user_000003     0.038799  \n",
       "user_000004     0.295971  \n",
       "user_000005    -0.169765  \n",
       "\n",
       "[5 rows x 992 columns]"
      ]
     },
     "execution_count": 30,
     "metadata": {},
     "output_type": "execute_result"
    }
   ],
   "source": [
    "user_corr_matrix.head(5) # first 5 rows"
   ]
  },
  {
   "cell_type": "code",
   "execution_count": 31,
   "metadata": {
    "collapsed": true
   },
   "outputs": [],
   "source": [
    "user_corr_matrix.to_csv(\"user_corr_matrix.csv\") # save to csv"
   ]
  },
  {
   "cell_type": "markdown",
   "metadata": {},
   "source": [
    "### Visualizing peers\n",
    "\n",
    "For every user, we will consider a peer set of k other users who are most correlated to the given user.\n",
    "The graph below illustrates all pairs of users who are higly correlated. The users are the nodes and each edge represents a correlation above 95%. \n",
    "\n",
    "The plot was obtained using Gephy, a handy tool for visualizing graphs."
   ]
  },
  {
   "cell_type": "markdown",
   "metadata": {},
   "source": [
    "![Visualization of correlation between users](highly-correlated-users2.png)\n",
    "\n"
   ]
  },
  {
   "cell_type": "markdown",
   "metadata": {},
   "source": [
    "## Predicting for test data"
   ]
  },
  {
   "cell_type": "markdown",
   "metadata": {},
   "source": [
    "Let's use the correlation matrix to do predict the interest for every user in the artists we set aside"
   ]
  },
  {
   "cell_type": "code",
   "execution_count": 33,
   "metadata": {
    "collapsed": true
   },
   "outputs": [],
   "source": [
    "test_data = pd.read_csv(\"test_data.csv\")"
   ]
  },
  {
   "cell_type": "code",
   "execution_count": 34,
   "metadata": {},
   "outputs": [
    {
     "data": {
      "text/html": [
       "<div>\n",
       "<style>\n",
       "    .dataframe thead tr:only-child th {\n",
       "        text-align: right;\n",
       "    }\n",
       "\n",
       "    .dataframe thead th {\n",
       "        text-align: left;\n",
       "    }\n",
       "\n",
       "    .dataframe tbody tr th {\n",
       "        vertical-align: top;\n",
       "    }\n",
       "</style>\n",
       "<table border=\"1\" class=\"dataframe\">\n",
       "  <thead>\n",
       "    <tr style=\"text-align: right;\">\n",
       "      <th></th>\n",
       "      <th>userid</th>\n",
       "      <th>artist-name</th>\n",
       "      <th>count</th>\n",
       "    </tr>\n",
       "  </thead>\n",
       "  <tbody>\n",
       "    <tr>\n",
       "      <th>0</th>\n",
       "      <td>user_000001</td>\n",
       "      <td>Yanokami</td>\n",
       "      <td>42</td>\n",
       "    </tr>\n",
       "    <tr>\n",
       "      <th>1</th>\n",
       "      <td>user_000001</td>\n",
       "      <td>Jeff Beck</td>\n",
       "      <td>15</td>\n",
       "    </tr>\n",
       "    <tr>\n",
       "      <th>2</th>\n",
       "      <td>user_000001</td>\n",
       "      <td>Jonny Greenwood</td>\n",
       "      <td>2</td>\n",
       "    </tr>\n",
       "    <tr>\n",
       "      <th>3</th>\n",
       "      <td>user_000001</td>\n",
       "      <td>Björk</td>\n",
       "      <td>448</td>\n",
       "    </tr>\n",
       "    <tr>\n",
       "      <th>4</th>\n",
       "      <td>user_000001</td>\n",
       "      <td>Ken Ishii</td>\n",
       "      <td>13</td>\n",
       "    </tr>\n",
       "  </tbody>\n",
       "</table>\n",
       "</div>"
      ],
      "text/plain": [
       "        userid      artist-name  count\n",
       "0  user_000001         Yanokami     42\n",
       "1  user_000001        Jeff Beck     15\n",
       "2  user_000001  Jonny Greenwood      2\n",
       "3  user_000001            Björk    448\n",
       "4  user_000001        Ken Ishii     13"
      ]
     },
     "execution_count": 34,
     "metadata": {},
     "output_type": "execute_result"
    }
   ],
   "source": [
    "test_data.head(5) # preview"
   ]
  },
  {
   "cell_type": "markdown",
   "metadata": {},
   "source": [
    "Let's define a few routines which would be required for making the predicitons"
   ]
  },
  {
   "cell_type": "code",
   "execution_count": 35,
   "metadata": {
    "collapsed": true
   },
   "outputs": [],
   "source": [
    "def get_user_nearest_neighbor_list(k, corr_matrix, user):\n",
    "    \"\"\"\n",
    "    Function to find the K nearest neighbors (peer-set) for a given user\n",
    "    \n",
    "    :param k: Number of Neighbors, positive integer\n",
    "    :param corr_matrix: The user correlation matrix, created on the training data, Pandas dataframe\n",
    "    :param user: The user for whom neighbors have to be found, string\n",
    "    :return: nearest_neighbors[:k], the k nearest neighbors, numpy array of strings\n",
    "    \"\"\"\n",
    "    user_list = np.array(list(corr_matrix))\n",
    "    user_correlations = np.array(corr_matrix.loc[user,:]) # get correlations to all other users\n",
    "    nearest_neighbors_inds = np.argsort(user_correlations)[::-1] # sort by largest to smallest\n",
    "    nearest_neighbors_inds = nearest_neighbors_inds[user_correlations[nearest_neighbors_inds] > 0] # consider only positive\n",
    "    nearest_neighbors = user_list[nearest_neighbors_inds]\n",
    "    nearest_neighbors = np.delete(nearest_neighbors, np.where(nearest_neighbors==user)[0]) \n",
    "    return nearest_neighbors[:k] # return k nearest\n",
    "\n",
    "def find_means(count_matrix):\n",
    "    \"\"\"\n",
    "    Function to find the average times a user listens to any given artist, for all users\n",
    "    \n",
    "    :param count_matrix: the user-artist matrix, pandas dataframe\n",
    "    :return means, pandas Series \n",
    "    \"\"\"\n",
    "    user_list = list(count_matrix)\n",
    "    means = count_matrix.mean()\n",
    "    return means\n",
    "\n",
    "def predict_test_recommendations(test_data, train_count_matrix, train_corr_matrix, n_neighbors):\n",
    "    \"\"\"\n",
    "    Function to predict artist counts for all test users.\n",
    "    \n",
    "    :param test_data: The test data, pandas dataframe\n",
    "    :param train_count_matrix: The user-artist matrix, pandas dataframe\n",
    "    :param train_corr_matrix: The user-user correlation matrix, pandas dataframe\n",
    "    :param n_neighbors: size of the peer-set to consider, postive integer\n",
    "    \n",
    "    :return test_prediction_table: prediction matrix for the test data, pandas dataframe\n",
    "    :return root_mean_sq_error: RMSE value of the predicition, float\n",
    "    :return mean_abs_error: MAE value of the prediction, float\n",
    "    \"\"\"\n",
    "    test_true_counts = np.array([]) # empty initialize ground truth\n",
    "    test_predicted_counts = np.array([]) # empty initialize predictions\n",
    "    test_prediction_table = pd.DataFrame() # empty initialize prediction table\n",
    "    \n",
    "    test_users = np.unique(np.array(test_data[\"userid\"])) # get list of all user-ids in test data\n",
    "    mean_counts_of_users = find_means(train_count_matrix) # :pandas series: series of mean artist counts for each user\n",
    "    \n",
    "    # Find peer set for each user and predict based on peers' tastes\n",
    "    for user in test_users:\n",
    "        mean_user_counts = np.int8(mean_counts_of_users[user]) # user's mean counts, for centering\n",
    "        # get list of k nearest neighbors (peer set) for the user\n",
    "        peers = get_user_nearest_neighbor_list(k=n_neighbors, \n",
    "                                               corr_matrix=train_corr_matrix,\n",
    "                                               user=user)\n",
    "        peers_artist_counts = train_count_matrix.loc[:,peers] # artist counts of the peer-set\n",
    "        mean_counts_of_peers = mean_counts_of_users[peers]\n",
    "        peers_corrs = pd.Series()\n",
    "\n",
    "        for nn in peers:\n",
    "            peers_corrs[nn] = user_corr_matrix.loc[user, nn]\n",
    "            peers_artist_counts.loc[:,nn] -= mean_counts_of_peers[nn] # mean centering\n",
    "            peers_artist_counts.loc[:,nn] *= peers_corrs[nn] # weighted by correlation value\n",
    "\n",
    "        user_count_predictions_all_artists = peers_artist_counts.sum(axis=1)/peers_corrs.sum() # weighted average across all peers  \n",
    "        user_test_data = test_data.loc[test_data[\"userid\"]==user,:].loc[:,[\"artist-name\",\"count\"]]    \n",
    "        user_test_data_series = pd.Series(data = np.array(user_test_data[\"count\"]), index = np.array(user_test_data[\"artist-name\"]))\n",
    "        # Find predicitons only artists in the test set:\n",
    "        user_count_predictions_test_artists = user_count_predictions_all_artists[user_test_data_series.index]\n",
    "        user_count_predictions_test_artists += mean_user_counts # add the mean back\n",
    "        # put predicitons into a table\n",
    "        test_predicted_counts = np.append(test_predicted_counts,np.ravel(np.array(user_count_predictions_test_artists)))\n",
    "        test_true_counts = np.append(test_true_counts,np.ravel(np.array(user_test_data[\"count\"])))\n",
    "        user_test_data[\"predicted-counts\"] = np.ravel(np.array(user_count_predictions_test_artists))\n",
    "        test_prediction_table = test_prediction_table.append(user_test_data)\n",
    "    # Calculate RMSE and MAE\n",
    "    root_mean_sq_error = np.sqrt(MSE(test_true_counts[~np.isnan(test_predicted_counts)], # only for non-NaN values\n",
    "                                     test_predicted_counts[~np.isnan(test_predicted_counts)]))\n",
    "    mean_abs_error = MAE(test_true_counts[~np.isnan(test_predicted_counts)],\n",
    "                         test_predicted_counts[~np.isnan(test_predicted_counts)])\n",
    "    return test_prediction_table, root_mean_sq_error, mean_abs_error\n",
    "    "
   ]
  },
  {
   "cell_type": "markdown",
   "metadata": {},
   "source": [
    "## What K works best?"
   ]
  },
  {
   "cell_type": "markdown",
   "metadata": {},
   "source": [
    "Let's run the CF for different values of K (size of peer-set) and see how the relative performance of the metrics (RMSE and MAE) look for the test data"
   ]
  },
  {
   "cell_type": "code",
   "execution_count": 37,
   "metadata": {},
   "outputs": [
    {
     "name": "stderr",
     "output_type": "stream",
     "text": [
      "/anaconda/lib/python3.6/site-packages/ipykernel_launcher.py:5: RuntimeWarning: invalid value encountered in greater\n",
      "  \"\"\"\n"
     ]
    }
   ],
   "source": [
    "k_values = [1, 2, 5, 10, 20, 50, 100]\n",
    "rmses = np.zeros(len(k_values))\n",
    "maes = np.zeros(len(k_values))\n",
    "for i, k in enumerate(k_values):\n",
    "    _, rmses[i], maes[i] = predict_test_recommendations(test_data,count_matrix,user_corr_matrix, k) \n",
    "    "
   ]
  },
  {
   "cell_type": "markdown",
   "metadata": {},
   "source": [
    "Let's put the results into a dataframe"
   ]
  },
  {
   "cell_type": "code",
   "execution_count": 58,
   "metadata": {},
   "outputs": [
    {
     "data": {
      "text/html": [
       "<div>\n",
       "<style>\n",
       "    .dataframe thead tr:only-child th {\n",
       "        text-align: right;\n",
       "    }\n",
       "\n",
       "    .dataframe thead th {\n",
       "        text-align: left;\n",
       "    }\n",
       "\n",
       "    .dataframe tbody tr th {\n",
       "        vertical-align: top;\n",
       "    }\n",
       "</style>\n",
       "<table border=\"1\" class=\"dataframe\">\n",
       "  <thead>\n",
       "    <tr style=\"text-align: right;\">\n",
       "      <th></th>\n",
       "      <th>K</th>\n",
       "      <th>MAE</th>\n",
       "      <th>RMSE</th>\n",
       "    </tr>\n",
       "  </thead>\n",
       "  <tbody>\n",
       "    <tr>\n",
       "      <th>0</th>\n",
       "      <td>1</td>\n",
       "      <td>27.349993</td>\n",
       "      <td>134.973686</td>\n",
       "    </tr>\n",
       "    <tr>\n",
       "      <th>1</th>\n",
       "      <td>2</td>\n",
       "      <td>27.232644</td>\n",
       "      <td>112.247534</td>\n",
       "    </tr>\n",
       "    <tr>\n",
       "      <th>2</th>\n",
       "      <td>5</td>\n",
       "      <td>27.269896</td>\n",
       "      <td>107.418270</td>\n",
       "    </tr>\n",
       "    <tr>\n",
       "      <th>3</th>\n",
       "      <td>10</td>\n",
       "      <td>27.243184</td>\n",
       "      <td>104.629164</td>\n",
       "    </tr>\n",
       "    <tr>\n",
       "      <th>4</th>\n",
       "      <td>20</td>\n",
       "      <td>27.207705</td>\n",
       "      <td>103.545891</td>\n",
       "    </tr>\n",
       "    <tr>\n",
       "      <th>5</th>\n",
       "      <td>50</td>\n",
       "      <td>27.132056</td>\n",
       "      <td>102.701092</td>\n",
       "    </tr>\n",
       "    <tr>\n",
       "      <th>6</th>\n",
       "      <td>100</td>\n",
       "      <td>27.133519</td>\n",
       "      <td>102.382434</td>\n",
       "    </tr>\n",
       "  </tbody>\n",
       "</table>\n",
       "</div>"
      ],
      "text/plain": [
       "     K        MAE        RMSE\n",
       "0    1  27.349993  134.973686\n",
       "1    2  27.232644  112.247534\n",
       "2    5  27.269896  107.418270\n",
       "3   10  27.243184  104.629164\n",
       "4   20  27.207705  103.545891\n",
       "5   50  27.132056  102.701092\n",
       "6  100  27.133519  102.382434"
      ]
     },
     "execution_count": 58,
     "metadata": {},
     "output_type": "execute_result"
    }
   ],
   "source": [
    "metric_table = pd.DataFrame({'K':[str(x) for x in k_values], 'RMSE':rmses, 'MAE': maes})\n",
    "metric_table"
   ]
  },
  {
   "cell_type": "markdown",
   "metadata": {},
   "source": [
    "There seems to very little improvement in the MAE values with increasing k. The RMSE values appear to improve though. The results would make more sense once we benchmark them against a baseline prediction."
   ]
  },
  {
   "cell_type": "markdown",
   "metadata": {},
   "source": [
    "## Baseline Predicitons"
   ]
  },
  {
   "cell_type": "markdown",
   "metadata": {},
   "source": [
    "We define the baseline predicition as the average number of times a user listened to. For example, if user A listened to Led Zeppelin 50 times, Pink Floyd 30 times and Guns&Roses 40 times, the baseline prediciton for any other artist would be the average of 30, 40 and 50 = 40."
   ]
  },
  {
   "cell_type": "code",
   "execution_count": 44,
   "metadata": {
    "collapsed": true
   },
   "outputs": [],
   "source": [
    "def predict_baseline_recommendations(test_data, train_count_matrix):\n",
    "    \"\"\"\n",
    "    Function to predict baseline predicitons for all test users.\n",
    "    \n",
    "    :param test_data: The test data, pandas dataframe\n",
    "    :param train_count_matrix: The user-artist matrix, pandas dataframe\n",
    "    \n",
    "    :return test_prediction_table: baseline prediction matrix for the test data, pandas dataframe\n",
    "    :return root_mean_sq_error: RMSE value of the baseline, float\n",
    "    :return mean_abs_error: MAE value of the baseline, float\n",
    "    \"\"\"\n",
    "    \n",
    "    test_true_counts = np.array([]) # empty initialize ground truth\n",
    "    test_predicted_counts = np.array([]) # empty initialize predictions\n",
    "    test_prediction_table = pd.DataFrame() # empty initialize prediction table\n",
    "    \n",
    "    test_users = np.unique(np.array(test_data[\"userid\"])) # get list of all user-ids in test data\n",
    "    mean_counts_of_users = find_means(train_count_matrix) # :pandas series: series of mean artist counts for each user\n",
    "    \n",
    "    # Find peer set for each user and predict based on peers' tastes\n",
    "    for user in test_users:\n",
    "        mean_user_counts = np.int8(mean_counts_of_users[user]) # user's mean counts, for centering    \n",
    "        user_test_data = test_data.loc[test_data[\"userid\"]==user,:].loc[:,[\"artist-name\",\"count\"]]    \n",
    "        user_test_data_series = pd.Series(data = np.array(user_test_data[\"count\"]), index = np.array(user_test_data[\"artist-name\"]))\n",
    "        user_test_preds = mean_user_counts * np.ones(len(user_test_data)) # AVERAGE VALUES!\n",
    "        test_predicted_counts = np.append(test_predicted_counts,user_test_preds)\n",
    "        test_true_counts = np.append(test_true_counts,np.ravel(np.array(user_test_data[\"count\"])))\n",
    "        user_test_data[\"predicted-counts\"] = user_test_preds\n",
    "        test_prediction_table = test_prediction_table.append(user_test_data)\n",
    "    \n",
    "    root_mean_sq_error = np.sqrt(MSE(test_true_counts[~np.isnan(test_predicted_counts)], \n",
    "                                     test_predicted_counts[~np.isnan(test_predicted_counts)]))\n",
    "    mean_abs_error = MAE(test_true_counts[~np.isnan(test_predicted_counts)],\n",
    "                         test_predicted_counts[~np.isnan(test_predicted_counts)])\n",
    "    return test_prediction_table, root_mean_sq_error, mean_abs_error"
   ]
  },
  {
   "cell_type": "markdown",
   "metadata": {},
   "source": [
    "Let's calculate the baseline RMSE and MAE"
   ]
  },
  {
   "cell_type": "code",
   "execution_count": 45,
   "metadata": {},
   "outputs": [],
   "source": [
    "_, baseline_rmse, baseline_mae = predict_baseline_recommendations(test_data,count_matrix)"
   ]
  },
  {
   "cell_type": "code",
   "execution_count": 46,
   "metadata": {},
   "outputs": [
    {
     "data": {
      "text/plain": [
       "102.98551732270417"
      ]
     },
     "execution_count": 46,
     "metadata": {},
     "output_type": "execute_result"
    }
   ],
   "source": [
    "baseline_rmse"
   ]
  },
  {
   "cell_type": "code",
   "execution_count": 47,
   "metadata": {},
   "outputs": [
    {
     "data": {
      "text/plain": [
       "26.94809757833174"
      ]
     },
     "execution_count": 47,
     "metadata": {},
     "output_type": "execute_result"
    }
   ],
   "source": [
    "baseline_mae"
   ]
  },
  {
   "cell_type": "markdown",
   "metadata": {},
   "source": [
    "## Plot the results "
   ]
  },
  {
   "cell_type": "code",
   "execution_count": 71,
   "metadata": {
    "scrolled": true
   },
   "outputs": [
    {
     "data": {
      "image/png": "[encoded data removed]",
      "text/plain": [
       "<matplotlib.figure.Figure at 0x1a15da10b8>"
      ]
     },
     "metadata": {},
     "output_type": "display_data"
    }
   ],
   "source": [
    "plt.plot(k_values, rmses, '-ko', label='CF Prediction')\n",
    "plt.plot(k_values, baseline_rmse* np.ones(len(rmses)), '-b', label='Baseline')\n",
    "\n",
    "plt.xscale('log')\n",
    "plt.xlabel('K')\n",
    "plt.ylabel('RMSE')\n",
    "plt.title(\"RMSE vs K\")\n",
    "plt.legend(loc='upper right')\n",
    "plt.show()"
   ]
  },
  {
   "cell_type": "code",
   "execution_count": 72,
   "metadata": {},
   "outputs": [
    {
     "data": {
      "image/png": "[encoded data removed]",
      "text/plain": [
       "<matplotlib.figure.Figure at 0x1a1cbf37b8>"
      ]
     },
     "metadata": {},
     "output_type": "display_data"
    }
   ],
   "source": [
    "plt.plot(k_values, maes, '-ko',  label='CF Prediction')\n",
    "plt.plot(k_values, baseline_mae* np.ones(len(maes)), '-b', label='Baseline')\n",
    "plt.xscale('log')\n",
    "plt.xlabel('K')\n",
    "plt.ylabel('MAE')\n",
    "plt.title(\"MAE vs K\")\n",
    "plt.legend(loc='upper right')\n",
    "plt.show()"
   ]
  },
  {
   "cell_type": "markdown",
   "metadata": {},
   "source": [
    "##### The CF model fails to beat the baseline when evaluated on MAE. It does however,  outperform the baseline when evaluated on RMSE."
   ]
  },
  {
   "cell_type": "code",
   "execution_count": null,
   "metadata": {
    "collapsed": true
   },
   "outputs": [],
   "source": []
  }
 ],
 "metadata": {
  "kernelspec": {
   "display_name": "Python 3",
   "language": "python",
   "name": "python3"
  },
  "language_info": {
   "codemirror_mode": {
    "name": "ipython",
    "version": 3
   },
   "file_extension": ".py",
   "mimetype": "text/x-python",
   "name": "python",
   "nbconvert_exporter": "python",
   "pygments_lexer": "ipython3",
   "version": "3.6.3"
  }
 },
 "nbformat": 4,
 "nbformat_minor": 2
}
