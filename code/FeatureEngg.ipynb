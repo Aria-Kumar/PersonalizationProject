{
 "cells": [
  {
   "cell_type": "code",
   "execution_count": 1,
   "metadata": {
    "collapsed": true
   },
   "outputs": [],
   "source": [
    "import os\n",
    "import pandas as pd\n",
    "import matplotlib.pyplot as plt\n",
    "import seaborn as sns\n",
    "import numpy\n",
    "import datetime"
   ]
  },
  {
   "cell_type": "markdown",
   "metadata": {},
   "source": [
    "### Read Data"
   ]
  },
  {
   "cell_type": "code",
   "execution_count": 7,
   "metadata": {},
   "outputs": [],
   "source": [
    "# modify the read_csv path to personal computer\n",
    "data = pd.read_csv(\"~/Columbia/Personalization Theory/lastfm-dataset-1K/userid-timestamp-artid-artname-traid-traname.tsv\", \n",
    "                   delimiter=\"\\t\", header=None, \n",
    "                   names = [\"userid\",\"timestamp\",\"musicbrainz-artist-id\",\n",
    "                            \"artist-name\",\"musicbrainz-track-id\",\"track-name\"])\n"
   ]
  },
  {
   "cell_type": "code",
   "execution_count": 8,
   "metadata": {},
   "outputs": [],
   "source": [
    "user_profiles = pd.read_csv(\"~/Columbia/Personalization Theory/lastfm-dataset-1K/userid-profile.tsv\", delimiter = \"\\t\")\n",
    "user_profiles.columns = [\"userid\", \"gender\",\"age\",\"country\",\"registered\"]\n",
    "user_profiles.drop([\"country\", \"registered\"], axis=1, inplace=True)"
   ]
  },
  {
   "cell_type": "markdown",
   "metadata": {},
   "source": [
    "### Make timestamps, days of week, hours. Sort by time and users"
   ]
  },
  {
   "cell_type": "code",
   "execution_count": 9,
   "metadata": {},
   "outputs": [],
   "source": [
    "data = data.rename(columns={0:'userid', 1:'timestamp', 2:'artistid', 3:'artistname', 4:'trackid', 5:'trackname'})\n",
    "data['timestamp'] = pd.to_datetime(data['timestamp'])"
   ]
  },
  {
   "cell_type": "code",
   "execution_count": 10,
   "metadata": {
    "collapsed": true
   },
   "outputs": [],
   "source": [
    "data['weekday'] = data['timestamp'].dt.weekday_name.astype('category',\n",
    "                                                           categories=[\"Sunday\",\"Monday\",\"Tuesday\",\"Wednesday\",\n",
    "                                                                       \"Thursday\",\"Friday\",\"Saturday\"],\n",
    "                                                           ordered=True)\n",
    "data['hour'] = data['timestamp'].dt.hour\n"
   ]
  },
  {
   "cell_type": "code",
   "execution_count": 11,
   "metadata": {
    "collapsed": true
   },
   "outputs": [],
   "source": [
    "data = data.sort_values(['userid', 'timestamp'], ascending=[True, True])"
   ]
  },
  {
   "cell_type": "markdown",
   "metadata": {},
   "source": [
    "### Time of day (morning, noon etc)"
   ]
  },
  {
   "cell_type": "code",
   "execution_count": 12,
   "metadata": {
    "collapsed": true
   },
   "outputs": [],
   "source": [
    "data['weekend'] = 0 \n",
    "data.loc[data['weekday'].isin(['Saturday', 'Sunday']), 'weekend'] = 1\n",
    "\n",
    "# data['timestamp'] = pd.to_datetime(data['timestamp'])\n",
    "# data_user['hour'] = data_user['timestamp'].dt.hour\n",
    "\n",
    "data['daytime'] = 0\n",
    "data.loc[(data['hour'] >= 0) & (data['hour'] <= 3), 'daytime'] = 0\n",
    "data.loc[(data['hour'] > 3) & (data['hour'] <= 5), 'daytime'] = 1\n",
    "data.loc[(data['hour'] > 5) & (data['hour'] <= 11), 'daytime'] = 2\n",
    "data.loc[(data['hour'] > 11) & (data['hour'] <= 19), 'daytime'] = 3\n",
    "data.loc[(data['hour'] > 19) & (data['hour'] <= 23), 'daytime'] = 4"
   ]
  },
  {
   "cell_type": "markdown",
   "metadata": {},
   "source": [
    "### count of how many times an SONG was listened to in given day and time"
   ]
  },
  {
   "cell_type": "code",
   "execution_count": 13,
   "metadata": {
    "collapsed": true
   },
   "outputs": [],
   "source": [
    "data['counted'] = 1\n",
    "\n",
    "#data_user_counted = data.groupby(['userid','track-name', 'daytime', 'weekend'])['counted'].count().reset_index()\n",
    "#data_user_counted.columns = ['userid','track-name', 'daytime', 'weekend', 'track-weekday-daytime-count']\n",
    "\n",
    "data['track-total-count'] = data.groupby(['userid','track-name']).cumcount() + 1\n",
    "data['track-weekday-daytime-count'] = data.groupby(['userid','track-name', 'daytime', 'weekend']).cumcount() + 1\n",
    "\n",
    "#data = pd.merge(data, data_user_counted, on = ['userid','track-name', 'daytime', 'weekend'], how = 'left')"
   ]
  },
  {
   "cell_type": "markdown",
   "metadata": {},
   "source": [
    "### Determine how long a song was played and when was it last played"
   ]
  },
  {
   "cell_type": "code",
   "execution_count": 14,
   "metadata": {
    "collapsed": true
   },
   "outputs": [],
   "source": [
    "data['songlength'] = data.groupby('userid')['timestamp'].diff()\n",
    "data['last-seen-song'] = data.groupby(['track-name'])['timestamp'].diff()\n",
    "data['last-seen-song'] = data['last-seen-song'].dt.total_seconds() / (24 * 60 * 60)"
   ]
  },
  {
   "cell_type": "markdown",
   "metadata": {},
   "source": [
    "### Quarters of the year"
   ]
  },
  {
   "cell_type": "code",
   "execution_count": 15,
   "metadata": {
    "collapsed": true
   },
   "outputs": [],
   "source": [
    "data['month'] = data['timestamp'].dt.month\n",
    "data['quarter'] = 1\n",
    "data.loc[(data['month'] > 3) & (data['month'] <= 6), 'quarter'] = 2\n",
    "data.loc[(data['month'] > 6) & (data['month'] <= 9), 'quarter'] = 3\n",
    "data.loc[(data['month'] > 9) & (data['month'] <= 12), 'quarter'] = 4"
   ]
  },
  {
   "cell_type": "markdown",
   "metadata": {},
   "source": [
    "## SKIPS variable - The independent variable"
   ]
  },
  {
   "cell_type": "code",
   "execution_count": 16,
   "metadata": {
    "collapsed": true
   },
   "outputs": [],
   "source": [
    "data['skipped'] = (data.songlength  < datetime.timedelta(minutes=1)).astype('int')"
   ]
  },
  {
   "cell_type": "markdown",
   "metadata": {},
   "source": [
    "### count of how many times an ARTIST was listened to in given day and time"
   ]
  },
  {
   "cell_type": "code",
   "execution_count": 17,
   "metadata": {
    "collapsed": true
   },
   "outputs": [],
   "source": [
    "#data_user_counted = data.groupby(['userid','artist-name', 'daytime', 'weekend'])['counted'].count().reset_index()\n",
    "#data_user_counted.columns = ['userid','artist-name', 'daytime', 'weekend', 'artist-weekday-daytime-count']\n",
    "\n",
    "data['artist-total-count'] = data.groupby(['userid','artist-name']).cumcount() + 1\n",
    "data['artist-weekday-daytime-count'] = data.groupby(['userid','artist-name', 'daytime', 'weekend']).cumcount() + 1\n",
    "\n",
    "#data = pd.merge(data, data_user_counted, on = ['userid','artist-name', 'daytime', 'weekend'], how = 'left')"
   ]
  },
  {
   "cell_type": "markdown",
   "metadata": {},
   "source": [
    "### Determine when an artist was last played"
   ]
  },
  {
   "cell_type": "code",
   "execution_count": 18,
   "metadata": {
    "collapsed": true
   },
   "outputs": [],
   "source": [
    "data['last-seen-artist'] = data.groupby(['artist-name'])['timestamp'].diff()\n",
    "data['last-seen-artist'] = data['last-seen-artist'].dt.total_seconds() / (24 * 60 * 60)"
   ]
  },
  {
   "cell_type": "markdown",
   "metadata": {},
   "source": [
    "### Merge user metadata"
   ]
  },
  {
   "cell_type": "code",
   "execution_count": 19,
   "metadata": {
    "collapsed": true
   },
   "outputs": [],
   "source": [
    "data = pd.merge(data, user_profiles, on = ['userid'], how = 'left')"
   ]
  },
  {
   "cell_type": "code",
   "execution_count": 20,
   "metadata": {
    "collapsed": true
   },
   "outputs": [],
   "source": [
    "data.drop([\"musicbrainz-artist-id\", \"musicbrainz-track-id\",\"counted\"], axis=1, inplace=True)"
   ]
  },
  {
   "cell_type": "markdown",
   "metadata": {},
   "source": [
    "### Convert days into numerical values (Mon = 0, Sun = 6)"
   ]
  },
  {
   "cell_type": "code",
   "execution_count": 21,
   "metadata": {
    "collapsed": true
   },
   "outputs": [],
   "source": [
    "data['weekday'] = data['timestamp'].dt.dayofweek"
   ]
  },
  {
   "cell_type": "markdown",
   "metadata": {},
   "source": [
    "### Pick top 1000 song for each user"
   ]
  },
  {
   "cell_type": "code",
   "execution_count": 22,
   "metadata": {
    "collapsed": true
   },
   "outputs": [],
   "source": [
    "import numpy as np"
   ]
  },
  {
   "cell_type": "code",
   "execution_count": 23,
   "metadata": {
    "collapsed": true
   },
   "outputs": [],
   "source": [
    "songs = data.groupby(['userid', 'track-name', 'artist-name']).size().reset_index(name=\"count\")\n"
   ]
  },
  {
   "cell_type": "code",
   "execution_count": 24,
   "metadata": {},
   "outputs": [],
   "source": [
    "top1000 = songs.groupby(['userid'])['track-name','artist-name','count'].apply(lambda grp: grp.nlargest(1000, 'count')).reset_index()\n"
   ]
  },
  {
   "cell_type": "code",
   "execution_count": 25,
   "metadata": {},
   "outputs": [
    {
     "data": {
      "text/html": [
       "<div>\n",
       "<style>\n",
       "    .dataframe thead tr:only-child th {\n",
       "        text-align: right;\n",
       "    }\n",
       "\n",
       "    .dataframe thead th {\n",
       "        text-align: left;\n",
       "    }\n",
       "\n",
       "    .dataframe tbody tr th {\n",
       "        vertical-align: top;\n",
       "    }\n",
       "</style>\n",
       "<table border=\"1\" class=\"dataframe\">\n",
       "  <thead>\n",
       "    <tr style=\"text-align: right;\">\n",
       "      <th></th>\n",
       "      <th>userid</th>\n",
       "      <th>level_1</th>\n",
       "      <th>track-name</th>\n",
       "      <th>artist-name</th>\n",
       "      <th>count</th>\n",
       "    </tr>\n",
       "  </thead>\n",
       "  <tbody>\n",
       "    <tr>\n",
       "      <th>0</th>\n",
       "      <td>user_000001</td>\n",
       "      <td>1654</td>\n",
       "      <td>Music</td>\n",
       "      <td>Cornelius</td>\n",
       "      <td>70</td>\n",
       "    </tr>\n",
       "    <tr>\n",
       "      <th>1</th>\n",
       "      <td>user_000001</td>\n",
       "      <td>998</td>\n",
       "      <td>Gum</td>\n",
       "      <td>Cornelius</td>\n",
       "      <td>63</td>\n",
       "    </tr>\n",
       "    <tr>\n",
       "      <th>2</th>\n",
       "      <td>user_000001</td>\n",
       "      <td>1525</td>\n",
       "      <td>Mario Basanov &amp; Vidis ‘Test’</td>\n",
       "      <td>Gilles Peterson</td>\n",
       "      <td>52</td>\n",
       "    </tr>\n",
       "    <tr>\n",
       "      <th>3</th>\n",
       "      <td>user_000001</td>\n",
       "      <td>441</td>\n",
       "      <td>Child Song</td>\n",
       "      <td>The Cinematic Orchestra</td>\n",
       "      <td>45</td>\n",
       "    </tr>\n",
       "    <tr>\n",
       "      <th>4</th>\n",
       "      <td>user_000001</td>\n",
       "      <td>1051</td>\n",
       "      <td>Hibari</td>\n",
       "      <td>坂本龍一</td>\n",
       "      <td>42</td>\n",
       "    </tr>\n",
       "  </tbody>\n",
       "</table>\n",
       "</div>"
      ],
      "text/plain": [
       "        userid  level_1                    track-name  \\\n",
       "0  user_000001     1654                         Music   \n",
       "1  user_000001      998                           Gum   \n",
       "2  user_000001     1525  Mario Basanov & Vidis ‘Test’   \n",
       "3  user_000001      441                    Child Song   \n",
       "4  user_000001     1051                        Hibari   \n",
       "\n",
       "               artist-name  count  \n",
       "0                Cornelius     70  \n",
       "1                Cornelius     63  \n",
       "2          Gilles Peterson     52  \n",
       "3  The Cinematic Orchestra     45  \n",
       "4                     坂本龍一     42  "
      ]
     },
     "execution_count": 25,
     "metadata": {},
     "output_type": "execute_result"
    }
   ],
   "source": [
    "top1000.head()"
   ]
  },
  {
   "cell_type": "code",
   "execution_count": 26,
   "metadata": {
    "collapsed": true
   },
   "outputs": [],
   "source": [
    "top1000.drop([\"level_1\", \"count\"], axis=1, inplace=True)"
   ]
  },
  {
   "cell_type": "code",
   "execution_count": 27,
   "metadata": {
    "collapsed": true
   },
   "outputs": [],
   "source": [
    "data_subset = pd.merge(top1000, data, on = ['userid','track-name', 'artist-name'], how = 'left')"
   ]
  },
  {
   "cell_type": "code",
   "execution_count": 28,
   "metadata": {},
   "outputs": [
    {
     "name": "stdout",
     "output_type": "stream",
     "text": [
      "(19098862, 20)\n",
      "(10543035, 20)\n"
     ]
    }
   ],
   "source": [
    "print(np.shape(data))\n",
    "print(np.shape(data_subset))"
   ]
  },
  {
   "cell_type": "code",
   "execution_count": 29,
   "metadata": {
    "collapsed": true
   },
   "outputs": [],
   "source": [
    "data_subset = data_subset.sort_values(['userid', 'timestamp'], ascending=[True, True])"
   ]
  },
  {
   "cell_type": "code",
   "execution_count": 30,
   "metadata": {},
   "outputs": [
    {
     "data": {
      "text/html": [
       "<div>\n",
       "<style>\n",
       "    .dataframe thead tr:only-child th {\n",
       "        text-align: right;\n",
       "    }\n",
       "\n",
       "    .dataframe thead th {\n",
       "        text-align: left;\n",
       "    }\n",
       "\n",
       "    .dataframe tbody tr th {\n",
       "        vertical-align: top;\n",
       "    }\n",
       "</style>\n",
       "<table border=\"1\" class=\"dataframe\">\n",
       "  <thead>\n",
       "    <tr style=\"text-align: right;\">\n",
       "      <th></th>\n",
       "      <th>userid</th>\n",
       "      <th>track-name</th>\n",
       "      <th>artist-name</th>\n",
       "      <th>timestamp</th>\n",
       "      <th>weekday</th>\n",
       "      <th>hour</th>\n",
       "      <th>weekend</th>\n",
       "      <th>daytime</th>\n",
       "      <th>track-total-count</th>\n",
       "      <th>track-weekday-daytime-count</th>\n",
       "      <th>songlength</th>\n",
       "      <th>last-seen-song</th>\n",
       "      <th>month</th>\n",
       "      <th>quarter</th>\n",
       "      <th>skipped</th>\n",
       "      <th>artist-total-count</th>\n",
       "      <th>artist-weekday-daytime-count</th>\n",
       "      <th>last-seen-artist</th>\n",
       "      <th>gender</th>\n",
       "      <th>age</th>\n",
       "    </tr>\n",
       "  </thead>\n",
       "  <tbody>\n",
       "    <tr>\n",
       "      <th>8512</th>\n",
       "      <td>user_000001</td>\n",
       "      <td>The Launching Of Big Face</td>\n",
       "      <td>Plaid &amp; Bob Jaroc</td>\n",
       "      <td>2006-08-13 13:59:20</td>\n",
       "      <td>6</td>\n",
       "      <td>13</td>\n",
       "      <td>1</td>\n",
       "      <td>3</td>\n",
       "      <td>1</td>\n",
       "      <td>1</td>\n",
       "      <td>NaT</td>\n",
       "      <td>NaN</td>\n",
       "      <td>8</td>\n",
       "      <td>3</td>\n",
       "      <td>0</td>\n",
       "      <td>1</td>\n",
       "      <td>1</td>\n",
       "      <td>NaN</td>\n",
       "      <td>m</td>\n",
       "      <td>NaN</td>\n",
       "    </tr>\n",
       "    <tr>\n",
       "      <th>7890</th>\n",
       "      <td>user_000001</td>\n",
       "      <td>Zn Zero</td>\n",
       "      <td>Plaid &amp; Bob Jaroc</td>\n",
       "      <td>2006-08-13 14:03:29</td>\n",
       "      <td>6</td>\n",
       "      <td>14</td>\n",
       "      <td>1</td>\n",
       "      <td>3</td>\n",
       "      <td>1</td>\n",
       "      <td>1</td>\n",
       "      <td>00:04:09</td>\n",
       "      <td>NaN</td>\n",
       "      <td>8</td>\n",
       "      <td>3</td>\n",
       "      <td>0</td>\n",
       "      <td>2</td>\n",
       "      <td>2</td>\n",
       "      <td>0.002882</td>\n",
       "      <td>m</td>\n",
       "      <td>NaN</td>\n",
       "    </tr>\n",
       "    <tr>\n",
       "      <th>3782</th>\n",
       "      <td>user_000001</td>\n",
       "      <td>The Return Of Super Barrio - End Credits</td>\n",
       "      <td>Plaid &amp; Bob Jaroc</td>\n",
       "      <td>2006-08-13 14:10:43</td>\n",
       "      <td>6</td>\n",
       "      <td>14</td>\n",
       "      <td>1</td>\n",
       "      <td>3</td>\n",
       "      <td>1</td>\n",
       "      <td>1</td>\n",
       "      <td>00:07:14</td>\n",
       "      <td>NaN</td>\n",
       "      <td>8</td>\n",
       "      <td>3</td>\n",
       "      <td>0</td>\n",
       "      <td>3</td>\n",
       "      <td>3</td>\n",
       "      <td>0.005023</td>\n",
       "      <td>m</td>\n",
       "      <td>NaN</td>\n",
       "    </tr>\n",
       "    <tr>\n",
       "      <th>3101</th>\n",
       "      <td>user_000001</td>\n",
       "      <td>Dayvan Cowboy</td>\n",
       "      <td>Boards Of Canada</td>\n",
       "      <td>2006-08-13 15:44:17</td>\n",
       "      <td>6</td>\n",
       "      <td>15</td>\n",
       "      <td>1</td>\n",
       "      <td>3</td>\n",
       "      <td>1</td>\n",
       "      <td>1</td>\n",
       "      <td>00:04:04</td>\n",
       "      <td>NaN</td>\n",
       "      <td>8</td>\n",
       "      <td>3</td>\n",
       "      <td>0</td>\n",
       "      <td>1</td>\n",
       "      <td>1</td>\n",
       "      <td>NaN</td>\n",
       "      <td>m</td>\n",
       "      <td>NaN</td>\n",
       "    </tr>\n",
       "    <tr>\n",
       "      <th>5295</th>\n",
       "      <td>user_000001</td>\n",
       "      <td>A Moment Of Clarity</td>\n",
       "      <td>Boards Of Canada</td>\n",
       "      <td>2006-08-13 16:46:52</td>\n",
       "      <td>6</td>\n",
       "      <td>16</td>\n",
       "      <td>1</td>\n",
       "      <td>3</td>\n",
       "      <td>1</td>\n",
       "      <td>1</td>\n",
       "      <td>00:00:40</td>\n",
       "      <td>NaN</td>\n",
       "      <td>8</td>\n",
       "      <td>3</td>\n",
       "      <td>1</td>\n",
       "      <td>3</td>\n",
       "      <td>3</td>\n",
       "      <td>0.000463</td>\n",
       "      <td>m</td>\n",
       "      <td>NaN</td>\n",
       "    </tr>\n",
       "  </tbody>\n",
       "</table>\n",
       "</div>"
      ],
      "text/plain": [
       "           userid                                track-name  \\\n",
       "8512  user_000001                 The Launching Of Big Face   \n",
       "7890  user_000001                                   Zn Zero   \n",
       "3782  user_000001  The Return Of Super Barrio - End Credits   \n",
       "3101  user_000001                             Dayvan Cowboy   \n",
       "5295  user_000001                       A Moment Of Clarity   \n",
       "\n",
       "            artist-name           timestamp  weekday  hour  weekend  daytime  \\\n",
       "8512  Plaid & Bob Jaroc 2006-08-13 13:59:20        6    13        1        3   \n",
       "7890  Plaid & Bob Jaroc 2006-08-13 14:03:29        6    14        1        3   \n",
       "3782  Plaid & Bob Jaroc 2006-08-13 14:10:43        6    14        1        3   \n",
       "3101   Boards Of Canada 2006-08-13 15:44:17        6    15        1        3   \n",
       "5295   Boards Of Canada 2006-08-13 16:46:52        6    16        1        3   \n",
       "\n",
       "      track-total-count  track-weekday-daytime-count songlength  \\\n",
       "8512                  1                            1        NaT   \n",
       "7890                  1                            1   00:04:09   \n",
       "3782                  1                            1   00:07:14   \n",
       "3101                  1                            1   00:04:04   \n",
       "5295                  1                            1   00:00:40   \n",
       "\n",
       "      last-seen-song  month  quarter  skipped  artist-total-count  \\\n",
       "8512             NaN      8        3        0                   1   \n",
       "7890             NaN      8        3        0                   2   \n",
       "3782             NaN      8        3        0                   3   \n",
       "3101             NaN      8        3        0                   1   \n",
       "5295             NaN      8        3        1                   3   \n",
       "\n",
       "      artist-weekday-daytime-count  last-seen-artist gender  age  \n",
       "8512                             1               NaN      m  NaN  \n",
       "7890                             2          0.002882      m  NaN  \n",
       "3782                             3          0.005023      m  NaN  \n",
       "3101                             1               NaN      m  NaN  \n",
       "5295                             3          0.000463      m  NaN  "
      ]
     },
     "execution_count": 30,
     "metadata": {},
     "output_type": "execute_result"
    }
   ],
   "source": [
    "data_subset.head(5)"
   ]
  },
  {
   "cell_type": "markdown",
   "metadata": {},
   "source": [
    "### Write to CSV"
   ]
  },
  {
   "cell_type": "code",
   "execution_count": 31,
   "metadata": {
    "collapsed": true
   },
   "outputs": [],
   "source": [
    "data_subset.to_csv(\"data_engineered_features.csv\", index=False)"
   ]
  },
  {
   "cell_type": "markdown",
   "metadata": {},
   "source": [
    "### Also do just top 500?"
   ]
  },
  {
   "cell_type": "code",
   "execution_count": 32,
   "metadata": {
    "collapsed": true
   },
   "outputs": [],
   "source": [
    "top500 = songs.groupby(['userid'])['track-name','artist-name','count'].apply(lambda grp: grp.nlargest(500, 'count')).reset_index()"
   ]
  },
  {
   "cell_type": "code",
   "execution_count": 33,
   "metadata": {
    "collapsed": true
   },
   "outputs": [],
   "source": [
    "top500.drop([\"level_1\", \"count\"], axis=1, inplace=True)\n",
    "data_subset = pd.merge(top500, data, on = ['userid','track-name', 'artist-name'], how = 'left')\n",
    "data_subset = data_subset.sort_values(['userid', 'timestamp'], ascending=[True, True])\n",
    "data_subset.to_csv(\"data_engineered_features500.csv\", index=False)"
   ]
  },
  {
   "cell_type": "code",
   "execution_count": 34,
   "metadata": {},
   "outputs": [
    {
     "data": {
      "text/plain": [
       "(468483, 3)"
      ]
     },
     "execution_count": 34,
     "metadata": {},
     "output_type": "execute_result"
    }
   ],
   "source": [
    "np.shape(top500)"
   ]
  }
 ],
 "metadata": {
  "kernelspec": {
   "display_name": "Python 3",
   "language": "python",
   "name": "python3"
  },
  "language_info": {
   "codemirror_mode": {
    "name": "ipython",
    "version": 3
   },
   "file_extension": ".py",
   "mimetype": "text/x-python",
   "name": "python",
   "nbconvert_exporter": "python",
   "pygments_lexer": "ipython3",
   "version": "3.6.0"
  }
 },
 "nbformat": 4,
 "nbformat_minor": 2
}
