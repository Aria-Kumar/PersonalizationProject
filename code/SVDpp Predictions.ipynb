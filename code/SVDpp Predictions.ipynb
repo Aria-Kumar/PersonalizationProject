{
 "cells": [
  {
   "cell_type": "code",
   "execution_count": 1,
   "metadata": {
    "collapsed": true
   },
   "outputs": [],
   "source": [
    "import pandas as pd\n",
    "import numpy as np\n",
    "import datetime\n",
    "\n",
    "from surprise import Reader, Dataset, evaluate, print_perf, GridSearch\n",
    "from surprise import SVD, SVDpp, Prediction, accuracy\n",
    "from surprise import NormalPredictor, BaselineOnly\n",
    "\n",
    "from sklearn.metrics import roc_auc_score as AUC"
   ]
  },
  {
   "cell_type": "code",
   "execution_count": 2,
   "metadata": {},
   "outputs": [
    {
     "data": {
      "text/html": [
       "<div>\n",
       "<style>\n",
       "    .dataframe thead tr:only-child th {\n",
       "        text-align: right;\n",
       "    }\n",
       "\n",
       "    .dataframe thead th {\n",
       "        text-align: left;\n",
       "    }\n",
       "\n",
       "    .dataframe tbody tr th {\n",
       "        vertical-align: top;\n",
       "    }\n",
       "</style>\n",
       "<table border=\"1\" class=\"dataframe\">\n",
       "  <thead>\n",
       "    <tr style=\"text-align: right;\">\n",
       "      <th></th>\n",
       "      <th>userid</th>\n",
       "      <th>trackartist_weekend</th>\n",
       "      <th>skipped</th>\n",
       "    </tr>\n",
       "  </thead>\n",
       "  <tbody>\n",
       "    <tr>\n",
       "      <th>0</th>\n",
       "      <td>user_000001</td>\n",
       "      <td>'84 Pontiac Dream___Boards Of Canada___0</td>\n",
       "      <td>0.833333</td>\n",
       "    </tr>\n",
       "    <tr>\n",
       "      <th>1</th>\n",
       "      <td>user_000001</td>\n",
       "      <td>'84 Pontiac Dream___Boards Of Canada___1</td>\n",
       "      <td>0.500000</td>\n",
       "    </tr>\n",
       "    <tr>\n",
       "      <th>2</th>\n",
       "      <td>user_000001</td>\n",
       "      <td>(It'S Just) Talk___Pat Metheny Group___0</td>\n",
       "      <td>0.000000</td>\n",
       "    </tr>\n",
       "    <tr>\n",
       "      <th>3</th>\n",
       "      <td>user_000001</td>\n",
       "      <td>(It'S Just) Talk___Pat Metheny Group___1</td>\n",
       "      <td>0.000000</td>\n",
       "    </tr>\n",
       "    <tr>\n",
       "      <th>4</th>\n",
       "      <td>user_000001</td>\n",
       "      <td>...Short Wave Lies___The Black Dog___0</td>\n",
       "      <td>0.000000</td>\n",
       "    </tr>\n",
       "  </tbody>\n",
       "</table>\n",
       "</div>"
      ],
      "text/plain": [
       "        userid                       trackartist_weekend   skipped\n",
       "0  user_000001  '84 Pontiac Dream___Boards Of Canada___0  0.833333\n",
       "1  user_000001  '84 Pontiac Dream___Boards Of Canada___1  0.500000\n",
       "2  user_000001  (It'S Just) Talk___Pat Metheny Group___0  0.000000\n",
       "3  user_000001  (It'S Just) Talk___Pat Metheny Group___1  0.000000\n",
       "4  user_000001    ...Short Wave Lies___The Black Dog___0  0.000000"
      ]
     },
     "execution_count": 2,
     "metadata": {},
     "output_type": "execute_result"
    }
   ],
   "source": [
    "train = pd.read_csv('train_features500.csv')\n",
    "train.head()"
   ]
  },
  {
   "cell_type": "markdown",
   "metadata": {},
   "source": [
    "## Model"
   ]
  },
  {
   "cell_type": "code",
   "execution_count": 4,
   "metadata": {},
   "outputs": [],
   "source": [
    "reader = Reader(rating_scale=(0, 1))\n",
    "algo = SVDpp()\n",
    "\n",
    "trainset = Dataset.load_from_df(train[['userid','trackartist_weekend','skipped']], reader)\n",
    "trainset = trainset.build_full_trainset()\n",
    "\n",
    "algo.train(trainset)"
   ]
  },
  {
   "cell_type": "markdown",
   "metadata": {},
   "source": [
    "## Test"
   ]
  },
  {
   "cell_type": "code",
   "execution_count": 5,
   "metadata": {
    "collapsed": true
   },
   "outputs": [],
   "source": [
    "test = pd.read_csv('test_features500.csv')"
   ]
  },
  {
   "cell_type": "code",
   "execution_count": null,
   "metadata": {},
   "outputs": [],
   "source": [
    "pred_df = pd.DataFrame(columns = ['userid', 'trackartist_weekend', 'prediction'])\n",
    "\n",
    "test_array = np.array(test)\n",
    "for n, row in enumerate(test_array):\n",
    "    p = list(algo.predict(row[0], row[1]))\n",
    "    row_pred = [p[0], p[1], p[3]]\n",
    "    pred_df.loc[n,:] = row_pred"
   ]
  },
  {
   "cell_type": "code",
   "execution_count": null,
   "metadata": {
    "collapsed": true
   },
   "outputs": [],
   "source": [
    "pred_df.head()"
   ]
  },
  {
   "cell_type": "markdown",
   "metadata": {},
   "source": [
    "# Model Results"
   ]
  },
  {
   "cell_type": "code",
   "execution_count": null,
   "metadata": {
    "collapsed": true
   },
   "outputs": [],
   "source": [
    "pred_df[['track-name', 'artist-name', 'weekend']] = pred_df['trackartist_weekend'].str.split('___', expand = True, n=3)\n",
    "pred_df.drop(['trackartist_weekend'], axis=1, inplace=True)\n",
    "pred_df['weekend'] = pred_df['weekend'].astype(int)\n",
    "pred_df['prediction'] = pred_df['prediction'].astype(int)\n",
    "\n",
    "\n",
    "truth = pd.read_csv('testset500.csv')\n",
    "truth = truth[['userid', 'track-name', 'artist-name', 'weekend', 'skipped']]\n",
    "\n",
    "eval_df = pd.merge(truth, pred_df,\n",
    "                   on = ['userid', 'track-name', 'artist-name', 'weekend'],\n",
    "                   how = 'left')"
   ]
  },
  {
   "cell_type": "code",
   "execution_count": null,
   "metadata": {
    "collapsed": true
   },
   "outputs": [],
   "source": [
    "# imputation\n",
    "\n",
    "eval_df['prediction'] = np.where(eval_df['prediction']>0.6, 1, 0)\n",
    "\n",
    "val_auc = AUC(truth[['skipped']], truth[['prediction']])"
   ]
  },
  {
   "cell_type": "markdown",
   "metadata": {},
   "source": [
    "## Benchmarks"
   ]
  },
  {
   "cell_type": "code",
   "execution_count": null,
   "metadata": {
    "collapsed": true
   },
   "outputs": [],
   "source": [
    "## RMSE and MAE for pred, not truth"
   ]
  },
  {
   "cell_type": "code",
   "execution_count": null,
   "metadata": {},
   "outputs": [],
   "source": [
    "testset = Dataset.load_from_df(test[['userid','trackartist_weekend','skipped']], reader)\n",
    "\n",
    "normalAlgo = NormalPredictor()\n",
    "normalPerf = evaluate(normalAlgo, testset, measures=['RMSE', 'MAE'])\n",
    "print_perf(normalPerf)"
   ]
  },
  {
   "cell_type": "code",
   "execution_count": null,
   "metadata": {},
   "outputs": [],
   "source": [
    "bsl_options = {'method': 'sgd'}\n",
    "baselineAlgo = BaselineOnly(bsl_options=bsl_options)\n",
    "baselinePerf = evaluate(baselineAlgo, testset, measures=['RMSE', 'MAE'])\n",
    "print_perf(baselinePerf)"
   ]
  }
 ],
 "metadata": {
  "kernelspec": {
   "display_name": "Python 3",
   "language": "python",
   "name": "python3"
  },
  "language_info": {
   "codemirror_mode": {
    "name": "ipython",
    "version": 3
   },
   "file_extension": ".py",
   "mimetype": "text/x-python",
   "name": "python",
   "nbconvert_exporter": "python",
   "pygments_lexer": "ipython3",
   "version": "3.6.0"
  }
 },
 "nbformat": 4,
 "nbformat_minor": 2
}
