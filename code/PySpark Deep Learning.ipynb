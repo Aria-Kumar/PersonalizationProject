{
 "cells": [
  {
   "cell_type": "code",
   "execution_count": 1,
   "metadata": {},
   "outputs": [],
   "source": [
    "import pandas as pd\n",
    "from pyspark import SparkContext\n",
    "from pyspark.sql import SQLContext\n",
    "\n",
    "\n",
    "sc = SparkContext('local','Neural Nets on Spark')  # if using locally\n",
    "sql_sc = SQLContext(sc)"
   ]
  },
  {
   "cell_type": "code",
   "execution_count": 2,
   "metadata": {
    "collapsed": true
   },
   "outputs": [],
   "source": [
    "pandas_df = pd.read_csv('data_engineered_features500.csv') \n",
    "#s_df = sql_sc.createDataFrame(pandas_df)"
   ]
  },
  {
   "cell_type": "code",
   "execution_count": 3,
   "metadata": {
    "collapsed": true
   },
   "outputs": [],
   "source": [
    "pandas_df[\"gender_int\"] = 0\n",
    "pandas_df.loc[pandas_df[\"gender\"] == \"m\", \"gender_int\"] = 1\n",
    "pandas_df.loc[pandas_df[\"gender\"] == \"f\", \"gender_int\"] = 2"
   ]
  },
  {
   "cell_type": "code",
   "execution_count": 4,
   "metadata": {
    "collapsed": true
   },
   "outputs": [],
   "source": [
    "pandas_df.drop([\"userid\", \"track-name\",\"artist-name\",\"timestamp\", \"songlength\", \"gender\"], axis=1, inplace=True)"
   ]
  },
  {
   "cell_type": "code",
   "execution_count": 5,
   "metadata": {},
   "outputs": [
    {
     "data": {
      "text/html": [
       "<div>\n",
       "<style>\n",
       "    .dataframe thead tr:only-child th {\n",
       "        text-align: right;\n",
       "    }\n",
       "\n",
       "    .dataframe thead th {\n",
       "        text-align: left;\n",
       "    }\n",
       "\n",
       "    .dataframe tbody tr th {\n",
       "        vertical-align: top;\n",
       "    }\n",
       "</style>\n",
       "<table border=\"1\" class=\"dataframe\">\n",
       "  <thead>\n",
       "    <tr style=\"text-align: right;\">\n",
       "      <th></th>\n",
       "      <th>weekday</th>\n",
       "      <th>hour</th>\n",
       "      <th>weekend</th>\n",
       "      <th>daytime</th>\n",
       "      <th>track-total-count</th>\n",
       "      <th>track-weekday-daytime-count</th>\n",
       "      <th>last-seen-song</th>\n",
       "      <th>month</th>\n",
       "      <th>quarter</th>\n",
       "      <th>skipped</th>\n",
       "      <th>artist-total-count</th>\n",
       "      <th>artist-weekday-daytime-count</th>\n",
       "      <th>last-seen-artist</th>\n",
       "      <th>age</th>\n",
       "      <th>gender_int</th>\n",
       "    </tr>\n",
       "  </thead>\n",
       "  <tbody>\n",
       "    <tr>\n",
       "      <th>0</th>\n",
       "      <td>6</td>\n",
       "      <td>13</td>\n",
       "      <td>1</td>\n",
       "      <td>3</td>\n",
       "      <td>1</td>\n",
       "      <td>1</td>\n",
       "      <td>NaN</td>\n",
       "      <td>8</td>\n",
       "      <td>3</td>\n",
       "      <td>0</td>\n",
       "      <td>1</td>\n",
       "      <td>1</td>\n",
       "      <td>NaN</td>\n",
       "      <td>NaN</td>\n",
       "      <td>1</td>\n",
       "    </tr>\n",
       "    <tr>\n",
       "      <th>1</th>\n",
       "      <td>6</td>\n",
       "      <td>14</td>\n",
       "      <td>1</td>\n",
       "      <td>3</td>\n",
       "      <td>1</td>\n",
       "      <td>1</td>\n",
       "      <td>NaN</td>\n",
       "      <td>8</td>\n",
       "      <td>3</td>\n",
       "      <td>0</td>\n",
       "      <td>2</td>\n",
       "      <td>2</td>\n",
       "      <td>0.002882</td>\n",
       "      <td>NaN</td>\n",
       "      <td>1</td>\n",
       "    </tr>\n",
       "    <tr>\n",
       "      <th>2</th>\n",
       "      <td>6</td>\n",
       "      <td>14</td>\n",
       "      <td>1</td>\n",
       "      <td>3</td>\n",
       "      <td>1</td>\n",
       "      <td>1</td>\n",
       "      <td>NaN</td>\n",
       "      <td>8</td>\n",
       "      <td>3</td>\n",
       "      <td>0</td>\n",
       "      <td>3</td>\n",
       "      <td>3</td>\n",
       "      <td>0.005023</td>\n",
       "      <td>NaN</td>\n",
       "      <td>1</td>\n",
       "    </tr>\n",
       "    <tr>\n",
       "      <th>3</th>\n",
       "      <td>6</td>\n",
       "      <td>15</td>\n",
       "      <td>1</td>\n",
       "      <td>3</td>\n",
       "      <td>1</td>\n",
       "      <td>1</td>\n",
       "      <td>NaN</td>\n",
       "      <td>8</td>\n",
       "      <td>3</td>\n",
       "      <td>0</td>\n",
       "      <td>1</td>\n",
       "      <td>1</td>\n",
       "      <td>NaN</td>\n",
       "      <td>NaN</td>\n",
       "      <td>1</td>\n",
       "    </tr>\n",
       "    <tr>\n",
       "      <th>4</th>\n",
       "      <td>6</td>\n",
       "      <td>16</td>\n",
       "      <td>1</td>\n",
       "      <td>3</td>\n",
       "      <td>1</td>\n",
       "      <td>1</td>\n",
       "      <td>NaN</td>\n",
       "      <td>8</td>\n",
       "      <td>3</td>\n",
       "      <td>1</td>\n",
       "      <td>3</td>\n",
       "      <td>3</td>\n",
       "      <td>0.000463</td>\n",
       "      <td>NaN</td>\n",
       "      <td>1</td>\n",
       "    </tr>\n",
       "  </tbody>\n",
       "</table>\n",
       "</div>"
      ],
      "text/plain": [
       "   weekday  hour  weekend  daytime  track-total-count  \\\n",
       "0        6    13        1        3                  1   \n",
       "1        6    14        1        3                  1   \n",
       "2        6    14        1        3                  1   \n",
       "3        6    15        1        3                  1   \n",
       "4        6    16        1        3                  1   \n",
       "\n",
       "   track-weekday-daytime-count  last-seen-song  month  quarter  skipped  \\\n",
       "0                            1             NaN      8        3        0   \n",
       "1                            1             NaN      8        3        0   \n",
       "2                            1             NaN      8        3        0   \n",
       "3                            1             NaN      8        3        0   \n",
       "4                            1             NaN      8        3        1   \n",
       "\n",
       "   artist-total-count  artist-weekday-daytime-count  last-seen-artist  age  \\\n",
       "0                   1                             1               NaN  NaN   \n",
       "1                   2                             2          0.002882  NaN   \n",
       "2                   3                             3          0.005023  NaN   \n",
       "3                   1                             1               NaN  NaN   \n",
       "4                   3                             3          0.000463  NaN   \n",
       "\n",
       "   gender_int  \n",
       "0           1  \n",
       "1           1  \n",
       "2           1  \n",
       "3           1  \n",
       "4           1  "
      ]
     },
     "execution_count": 5,
     "metadata": {},
     "output_type": "execute_result"
    }
   ],
   "source": [
    "pandas_df.head(5)"
   ]
  },
  {
   "cell_type": "code",
   "execution_count": 6,
   "metadata": {},
   "outputs": [
    {
     "data": {
      "text/plain": [
       "['weekday',\n",
       " 'hour',\n",
       " 'weekend',\n",
       " 'daytime',\n",
       " 'track-total-count',\n",
       " 'track-weekday-daytime-count',\n",
       " 'last-seen-song',\n",
       " 'month',\n",
       " 'quarter',\n",
       " 'skipped',\n",
       " 'artist-total-count',\n",
       " 'artist-weekday-daytime-count',\n",
       " 'last-seen-artist',\n",
       " 'age',\n",
       " 'gender_int']"
      ]
     },
     "execution_count": 6,
     "metadata": {},
     "output_type": "execute_result"
    }
   ],
   "source": [
    "list(pandas_df)"
   ]
  },
  {
   "cell_type": "code",
   "execution_count": 7,
   "metadata": {},
   "outputs": [],
   "source": [
    "pandas_df = pandas_df.fillna(0)\n",
    "pandas_df = pandas_df.astype('float')\n",
    "for c in pandas_df.columns:\n",
    "    if (c!= \"last-seen-song\") or (c!= \"last-seen-artist\"):\n",
    "        pandas_df[c] = pandas_df[c].astype('int')\n",
    "    if (c== \"last-seen-song\") or (c== \"last-seen-artist\"):\n",
    "        pandas_df[c] = pandas_df[c].astype('float')"
   ]
  },
  {
   "cell_type": "code",
   "execution_count": 8,
   "metadata": {
    "collapsed": true
   },
   "outputs": [],
   "source": [
    "from pyspark.sql.types import StructType, StructField\n",
    "from pyspark.sql.types import DoubleType, IntegerType, StringType, FloatType\n",
    "from pyspark.ml.feature import VectorAssembler"
   ]
  },
  {
   "cell_type": "code",
   "execution_count": 9,
   "metadata": {
    "collapsed": true
   },
   "outputs": [],
   "source": [
    "schema = StructType([\n",
    "    StructField(\"weekday\", IntegerType()),\n",
    "    StructField(\"hour\", IntegerType()),\n",
    "    StructField(\"weekend\", IntegerType()),\n",
    "    StructField(\"daytime\", IntegerType()),\n",
    "    StructField(\"track-total-count\", IntegerType()),\n",
    "    StructField(\"track-weekday-daytime-count\", IntegerType()),\n",
    "    StructField(\"last-seen-song\", FloatType()),\n",
    "    StructField(\"month\", IntegerType()),\n",
    "    StructField(\"quarter\", IntegerType()),\n",
    "    StructField(\"label\", IntegerType()),\n",
    "    StructField(\"artist-total-count\", IntegerType()),\n",
    "    StructField(\"artist-weekday-daytime-count\", IntegerType()),\n",
    "    StructField(\"last-seen-artist\", FloatType()),\n",
    "    StructField(\"age\", IntegerType()),\n",
    "    StructField(\"gender_int\", IntegerType()),\n",
    "])"
   ]
  },
  {
   "cell_type": "code",
   "execution_count": null,
   "metadata": {
    "collapsed": true
   },
   "outputs": [],
   "source": [
    "schema_lol = StructType([\n",
    "    StructField(\"features\", IntegerType()),\n",
    "    StructField(\"features\", IntegerType()),\n",
    "    StructField(\"features\", IntegerType()),\n",
    "    StructField(\"features\", IntegerType()),\n",
    "    StructField(\"features\", IntegerType()),\n",
    "    StructField(\"features\", IntegerType()),\n",
    "    StructField(\"features\", FloatType()),\n",
    "    StructField(\"features\", IntegerType()),\n",
    "    StructField(\"features\", IntegerType()),\n",
    "    StructField(\"label\", DoubleType()),\n",
    "    StructField(\"features\", IntegerType()),\n",
    "    StructField(\"features\", IntegerType()),\n",
    "    StructField(\"features\", FloatType()),\n",
    "    StructField(\"features\", IntegerType()),\n",
    "    StructField(\"features\", IntegerType()),\n",
    "])"
   ]
  },
  {
   "cell_type": "code",
   "execution_count": null,
   "metadata": {},
   "outputs": [],
   "source": [
    "spark_df = sql_sc.createDataFrame(pandas_df,  schema = schema)\n",
    "vecAssembler = VectorAssembler(inputCols=['weekday','hour','weekend','daytime','track-total-count',\n",
    "                                           'track-weekday-daytime-count','last-seen-song','month','quarter',\n",
    "                                           'artist-total-count','artist-weekday-daytime-count','last-seen-artist',\n",
    "                                           'age','gender_int'], \n",
    "                               outputCol=\"features\")\n",
    "spark_df = vecAssembler.transform(spark_df)"
   ]
  },
  {
   "cell_type": "code",
   "execution_count": null,
   "metadata": {},
   "outputs": [],
   "source": [
    "spark_df"
   ]
  },
  {
   "cell_type": "code",
   "execution_count": null,
   "metadata": {
    "collapsed": true
   },
   "outputs": [],
   "source": [
    "del pandas_df"
   ]
  },
  {
   "cell_type": "code",
   "execution_count": null,
   "metadata": {
    "collapsed": true
   },
   "outputs": [],
   "source": [
    "from pyspark.ml.classification import MultilayerPerceptronClassifier\n",
    "from pyspark.ml.evaluation import MulticlassClassificationEvaluator"
   ]
  },
  {
   "cell_type": "code",
   "execution_count": null,
   "metadata": {},
   "outputs": [],
   "source": [
    "'''\n",
    "from pyspark.ml.feature import VectorAssembler\n",
    "\n",
    "assembler = VectorAssembler(\n",
    "    inputCols=[\"weekday\", \"hour\", \"weekend\", \"daytime\", \"track-total-count\", \n",
    "               \"track-weekday-daytime-count\", \"last-seen-song\", \"month\", \"quarter\",\n",
    "               \"artist-total-count\", \"artist-weekday-daytime-count\", \"last-seen-artist\", \n",
    "               \"age\", \"gender_int\"],\n",
    "    outputCol=\"features\")\n",
    "\n",
    "transformed = assembler.transform(spark_df)\n",
    "'''\n"
   ]
  },
  {
   "cell_type": "code",
   "execution_count": null,
   "metadata": {},
   "outputs": [],
   "source": [
    "'''\n",
    "from pyspark.mllib.regression import LabeledPoint\n",
    "from pyspark.sql.functions import col\n",
    "\n",
    "transformed = (transformed.select(col(\"skipped\").alias(\"label\"), col(\"features\"))\n",
    "  .rdd\n",
    "  .map(lambda row: LabeledPoint(row.label, row.features)))\n",
    "'''\n"
   ]
  },
  {
   "cell_type": "code",
   "execution_count": null,
   "metadata": {},
   "outputs": [],
   "source": [
    "spark_df"
   ]
  },
  {
   "cell_type": "code",
   "execution_count": null,
   "metadata": {},
   "outputs": [],
   "source": [
    "#transformed"
   ]
  },
  {
   "cell_type": "markdown",
   "metadata": {},
   "source": [
    "### Split the data into train and test"
   ]
  },
  {
   "cell_type": "code",
   "execution_count": null,
   "metadata": {
    "collapsed": true
   },
   "outputs": [],
   "source": [
    "splits = spark_df.randomSplit([0.8, 0.2], 1234)\n",
    "train = splits[0]\n",
    "test = splits[1]"
   ]
  },
  {
   "cell_type": "code",
   "execution_count": null,
   "metadata": {},
   "outputs": [],
   "source": [
    "train"
   ]
  },
  {
   "cell_type": "code",
   "execution_count": null,
   "metadata": {
    "collapsed": true
   },
   "outputs": [],
   "source": [
    "layers = [14,20,2]"
   ]
  },
  {
   "cell_type": "code",
   "execution_count": null,
   "metadata": {},
   "outputs": [],
   "source": [
    "# create the trainer and set its parameters\n",
    "trainer = MultilayerPerceptronClassifier(maxIter=2, layers=layers, blockSize=128, seed=1234)\n",
    "\n",
    "# train the model\n",
    "model = trainer.fit(train)\n"
   ]
  },
  {
   "cell_type": "code",
   "execution_count": null,
   "metadata": {
    "collapsed": true
   },
   "outputs": [],
   "source": []
  }
 ],
 "metadata": {
  "kernelspec": {
   "display_name": "Python 3",
   "language": "python",
   "name": "python3"
  },
  "language_info": {
   "codemirror_mode": {
    "name": "ipython",
    "version": 3
   },
   "file_extension": ".py",
   "mimetype": "text/x-python",
   "name": "python",
   "nbconvert_exporter": "python",
   "pygments_lexer": "ipython3",
   "version": "3.6.3"
  }
 },
 "nbformat": 4,
 "nbformat_minor": 2
}
