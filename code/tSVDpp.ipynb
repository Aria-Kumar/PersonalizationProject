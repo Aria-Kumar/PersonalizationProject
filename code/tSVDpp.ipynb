{
 "cells": [
  {
   "cell_type": "code",
   "execution_count": 1,
   "metadata": {
    "collapsed": true
   },
   "outputs": [],
   "source": [
    "import pandas as pd\n",
    "import numpy as np\n",
    "import datetime\n",
    "from itertools import product\n",
    "from scipy.sparse.linalg import svds\n",
    "\n",
    "#from surprise import Reader, Dataset, evaluate, print_perf, GridSearch\n",
    "#from surprise import SVD, SVDpp, Prediction, accuracy\n",
    "#from sklearn.metrics import roc_auc_score"
   ]
  },
  {
   "cell_type": "code",
   "execution_count": 2,
   "metadata": {},
   "outputs": [],
   "source": [
    "data = pd.read_csv('data_engineered_features500.csv', nrows=60018)\n",
    "#data = data.query(\"userid == ['user_000001','user_000002','user_000003','user_000004','user_000005']\")\n",
    "\n",
    "data.rename(columns={'track-name':'track',\n",
    "                     'artist-name':'artist',\n",
    "                     'track-total-count':'trackcount',\n",
    "                     'track-weekday-daytime-count':'trackweekdaydaytimecount',\n",
    "                     'artist-total-count':'artistcount',\n",
    "                     'artist-weekday-daytime-count':'artistweekdaydaytimecount'}, inplace=True)\n",
    "\n",
    "data.drop(['timestamp', 'songlength', 'last-seen-song', 'last-seen-artist', 'gender', 'age'], axis=1, inplace=True)\n",
    "data = data[[c for c in data if c not in ['skipped']] + ['skipped']]"
   ]
  },
  {
   "cell_type": "code",
   "execution_count": 3,
   "metadata": {},
   "outputs": [
    {
     "name": "stdout",
     "output_type": "stream",
     "text": [
      "60018\n"
     ]
    },
    {
     "data": {
      "text/plain": [
       "userid                       object\n",
       "track                        object\n",
       "artist                       object\n",
       "weekday                       int64\n",
       "hour                          int64\n",
       "weekend                       int64\n",
       "daytime                       int64\n",
       "trackcount                    int64\n",
       "trackweekdaydaytimecount      int64\n",
       "month                         int64\n",
       "quarter                       int64\n",
       "artistcount                   int64\n",
       "artistweekdaydaytimecount     int64\n",
       "skipped                       int64\n",
       "dtype: object"
      ]
     },
     "execution_count": 3,
     "metadata": {},
     "output_type": "execute_result"
    }
   ],
   "source": [
    "data.dtypes"
   ]
  },
  {
   "cell_type": "code",
   "execution_count": 10,
   "metadata": {},
   "outputs": [],
   "source": [
    "df = data[['userid', 'track', 'artist', 'weekend', 'skipped']].copy()\n",
    "\n",
    "# merge track and artist to one column, so that\n",
    "# when doing combinations, we don't have every track with every artist\n",
    "df['trackartist'] = df['track']+'___'+df['artist']\n",
    "df['trackartist_weekend'] = df['trackartist']+'___'+df['weekend'].map(str)\n",
    "df.drop(['track', 'artist', 'weekend', 'trackartist'], axis=1, inplace=True)\n",
    "\n",
    "# find rate at which users skip songs by weekend status\n",
    "df = df.groupby(['userid', 'trackartist_weekend'], as_index=False).mean()"
   ]
  },
  {
   "cell_type": "markdown",
   "metadata": {},
   "source": [
    "## Imputation\n",
    "\n",
    "Create every combination of user, trackartist, and period, then impute missing values."
   ]
  },
  {
   "cell_type": "code",
   "execution_count": 11,
   "metadata": {},
   "outputs": [
    {
     "data": {
      "text/plain": [
       "23860"
      ]
     },
     "execution_count": 11,
     "metadata": {},
     "output_type": "execute_result"
    }
   ],
   "source": [
    "# create combinations\n",
    "# need to remove duplicates to have only distinct combinations\n",
    "temp = pd.DataFrame(list(product(df['userid'].drop_duplicates(),\n",
    "                                 df['trackartist_weekend'].drop_duplicates())),\n",
    "                   columns = ['userid', 'trackartist_weekend'])\n",
    "len(temp)"
   ]
  },
  {
   "cell_type": "code",
   "execution_count": 12,
   "metadata": {},
   "outputs": [],
   "source": [
    "# create dense matrix with all combinations\n",
    "dense_data = temp.merge(df, how='left',\n",
    "                      on=['userid', 'trackartist_weekend'])\n",
    "\n",
    "# create indicator variable to signify whether a value was imputed\n",
    "dense_data['missing'] = dense_data['skipped'].isnull().astype('int')\n",
    "\n",
    "# impute missing values\n",
    "# potentially calculate artist-level probability first,\n",
    "# then impute that\n",
    "dense_data = dense_data.fillna(1)\n",
    "\n",
    "# delete temp dataframe to clear space\n",
    "del temp"
   ]
  },
  {
   "cell_type": "code",
   "execution_count": 13,
   "metadata": {},
   "outputs": [
    {
     "data": {
      "text/html": [
       "<div>\n",
       "<style>\n",
       "    .dataframe thead tr:only-child th {\n",
       "        text-align: right;\n",
       "    }\n",
       "\n",
       "    .dataframe thead th {\n",
       "        text-align: left;\n",
       "    }\n",
       "\n",
       "    .dataframe tbody tr th {\n",
       "        vertical-align: top;\n",
       "    }\n",
       "</style>\n",
       "<table border=\"1\" class=\"dataframe\">\n",
       "  <thead>\n",
       "    <tr style=\"text-align: right;\">\n",
       "      <th></th>\n",
       "      <th>skipped</th>\n",
       "      <th>missing</th>\n",
       "    </tr>\n",
       "  </thead>\n",
       "  <tbody>\n",
       "    <tr>\n",
       "      <th>count</th>\n",
       "      <td>23860.000000</td>\n",
       "      <td>23860.000000</td>\n",
       "    </tr>\n",
       "    <tr>\n",
       "      <th>mean</th>\n",
       "      <td>0.799798</td>\n",
       "      <td>0.795935</td>\n",
       "    </tr>\n",
       "    <tr>\n",
       "      <th>std</th>\n",
       "      <td>0.396817</td>\n",
       "      <td>0.403025</td>\n",
       "    </tr>\n",
       "    <tr>\n",
       "      <th>min</th>\n",
       "      <td>0.000000</td>\n",
       "      <td>0.000000</td>\n",
       "    </tr>\n",
       "    <tr>\n",
       "      <th>25%</th>\n",
       "      <td>1.000000</td>\n",
       "      <td>1.000000</td>\n",
       "    </tr>\n",
       "    <tr>\n",
       "      <th>50%</th>\n",
       "      <td>1.000000</td>\n",
       "      <td>1.000000</td>\n",
       "    </tr>\n",
       "    <tr>\n",
       "      <th>75%</th>\n",
       "      <td>1.000000</td>\n",
       "      <td>1.000000</td>\n",
       "    </tr>\n",
       "    <tr>\n",
       "      <th>max</th>\n",
       "      <td>1.000000</td>\n",
       "      <td>1.000000</td>\n",
       "    </tr>\n",
       "  </tbody>\n",
       "</table>\n",
       "</div>"
      ],
      "text/plain": [
       "            skipped       missing\n",
       "count  23860.000000  23860.000000\n",
       "mean       0.799798      0.795935\n",
       "std        0.396817      0.403025\n",
       "min        0.000000      0.000000\n",
       "25%        1.000000      1.000000\n",
       "50%        1.000000      1.000000\n",
       "75%        1.000000      1.000000\n",
       "max        1.000000      1.000000"
      ]
     },
     "execution_count": 13,
     "metadata": {},
     "output_type": "execute_result"
    }
   ],
   "source": [
    "dense_data.describe()"
   ]
  },
  {
   "cell_type": "markdown",
   "metadata": {},
   "source": [
    "# Model"
   ]
  },
  {
   "cell_type": "code",
   "execution_count": 16,
   "metadata": {},
   "outputs": [
    {
     "name": "stdout",
     "output_type": "stream",
     "text": [
      "Evaluating RMSE, MAE of algorithm SVDpp.\n",
      "\n",
      "------------\n",
      "Fold 1\n",
      "RMSE: 0.4254\n",
      "MAE:  0.3487\n",
      "------------\n",
      "Fold 2\n",
      "RMSE: 0.4297\n",
      "MAE:  0.3510\n",
      "------------\n",
      "Fold 3\n",
      "RMSE: 0.4342\n",
      "MAE:  0.3415\n",
      "------------\n",
      "------------\n",
      "Mean RMSE: 0.4297\n",
      "Mean MAE : 0.3471\n",
      "------------\n",
      "------------\n",
      "        Fold 1  Fold 2  Fold 3  Mean    \n",
      "RMSE    0.4254  0.4297  0.4342  0.4297  \n",
      "MAE     0.3487  0.3510  0.3415  0.3471  \n"
     ]
    }
   ],
   "source": [
    "from surprise import Reader, Dataset, evaluate, print_perf\n",
    "from surprise import SVD, SVDpp, Prediction, accuracy\n",
    "\n",
    "\n",
    "reader = Reader(rating_scale=(0, 1))\n",
    "\n",
    "# The columns must correspond to user id, item id and ratings (in that order).\n",
    "model_data = Dataset.load_from_df(dense_data[['userid','trackartist_weekend','skipped']], reader)\n",
    "model_data.split(n_folds=3)\n",
    "\n",
    "# Specify algorithm\n",
    "algo = SVDpp()\n",
    "\n",
    "# Evaluate performances of our algorithm on the dataset.\n",
    "perf = evaluate(algo, model_data, measures=['RMSE', 'MAE'])\n",
    "\n",
    "# predictions = predict(data['userid'], data['artistname'], data['plays'])\n",
    "print_perf(perf)"
   ]
  },
  {
   "cell_type": "code",
   "execution_count": null,
   "metadata": {
    "collapsed": true
   },
   "outputs": [],
   "source": []
  }
 ],
 "metadata": {
  "kernelspec": {
   "display_name": "Python 3",
   "language": "python",
   "name": "python3"
  },
  "language_info": {
   "codemirror_mode": {
    "name": "ipython",
    "version": 3
   },
   "file_extension": ".py",
   "mimetype": "text/x-python",
   "name": "python",
   "nbconvert_exporter": "python",
   "pygments_lexer": "ipython3",
   "version": "3.6.0"
  }
 },
 "nbformat": 4,
 "nbformat_minor": 2
}
