{
 "cells": [
  {
   "cell_type": "code",
   "execution_count": 1,
   "metadata": {
    "collapsed": true
   },
   "outputs": [],
   "source": [
    "import pandas as pd\n",
    "import numpy as np\n",
    "import datetime\n",
    "from itertools import product\n",
    "from scipy.sparse.linalg import svds\n",
    "\n",
    "#from surprise import Reader, Dataset, evaluate, print_perf, GridSearch\n",
    "#from surprise import SVD, SVDpp, Prediction, accuracy\n",
    "#from sklearn.metrics import roc_auc_score"
   ]
  },
  {
   "cell_type": "code",
   "execution_count": 2,
   "metadata": {},
   "outputs": [],
   "source": [
    "data = pd.read_csv('data_engineered_features500.csv', nrows=60018)\n",
    "#data = data.query(\"userid == ['user_000001','user_000002','user_000003','user_000004','user_000005']\")\n",
    "\n",
    "#data = data[['userid', 'track-name', 'artist-name', 'weekend', 'skipped']]\n",
    "data.rename(columns={'track-name':'track',\n",
    "                     'artist-name':'artist',\n",
    "                     'track-total-count':'trackcount',\n",
    "                     'track-weekday-daytime-count':'trackweekdaydaytimecount',\n",
    "                     'artist-total-count':'artistcount',\n",
    "                     'artist-weekday-daytime-count':'artistweekdaydaytimecount'}, inplace=True)\n",
    "\n",
    "data.drop(['timestamp', 'songlength', 'last-seen-song', 'last-seen-artist', 'gender', 'age'], axis=1, inplace=True)\n",
    "data = data[[c for c in data if c not in ['skipped']] + ['skipped']]"
   ]
  },
  {
   "cell_type": "code",
   "execution_count": 4,
   "metadata": {},
   "outputs": [
    {
     "name": "stdout",
     "output_type": "stream",
     "text": [
      "60018\n"
     ]
    },
    {
     "data": {
      "text/plain": [
       "userid                       object\n",
       "track                        object\n",
       "artist                       object\n",
       "weekday                       int64\n",
       "hour                          int64\n",
       "weekend                       int64\n",
       "daytime                       int64\n",
       "trackcount                    int64\n",
       "trackweekdaydaytimecount      int64\n",
       "month                         int64\n",
       "quarter                       int64\n",
       "artistcount                   int64\n",
       "artistweekdaydaytimecount     int64\n",
       "skipped                       int64\n",
       "dtype: object"
      ]
     },
     "execution_count": 4,
     "metadata": {},
     "output_type": "execute_result"
    }
   ],
   "source": [
    "print(len(data))\n",
    "data.dtypes"
   ]
  },
  {
   "cell_type": "code",
   "execution_count": 47,
   "metadata": {},
   "outputs": [],
   "source": [
    "df = data[['userid', 'track', 'artist', 'weekend', 'skipped']].copy()\n",
    "df['trackartist'] = df['track']+'___'+df['artist']\n",
    "df.drop(['track', 'artist'], axis=1, inplace=True)\n",
    "\n",
    "df = df.groupby(['userid', 'trackartist', 'weekend'], as_index=False).mean()"
   ]
  },
  {
   "cell_type": "code",
   "execution_count": 48,
   "metadata": {},
   "outputs": [
    {
     "data": {
      "text/plain": [
       "24500"
      ]
     },
     "execution_count": 48,
     "metadata": {},
     "output_type": "execute_result"
    }
   ],
   "source": [
    "distinct_df = df.drop('skipped', axis=1).drop_duplicates()\n",
    "\n",
    "temp = pd.DataFrame(list(product(distinct_df['userid'].drop_duplicates(),\n",
    "                                 distinct_df['trackartist'].drop_duplicates(),\n",
    "                                 distinct_df['weekend'].drop_duplicates())),\n",
    "                   columns = ['userid', 'trackartist', 'weekend'])\n",
    "len(temp)"
   ]
  },
  {
   "cell_type": "code",
   "execution_count": 53,
   "metadata": {},
   "outputs": [],
   "source": [
    "new_data = temp.merge(df, how='left',\n",
    "                      on=['userid', 'trackartist', 'weekend']) \\\n",
    "               .fillna(1)\n",
    "\n",
    "del"
   ]
  },
  {
   "cell_type": "code",
   "execution_count": 54,
   "metadata": {},
   "outputs": [
    {
     "data": {
      "text/html": [
       "<div>\n",
       "<style>\n",
       "    .dataframe thead tr:only-child th {\n",
       "        text-align: right;\n",
       "    }\n",
       "\n",
       "    .dataframe thead th {\n",
       "        text-align: left;\n",
       "    }\n",
       "\n",
       "    .dataframe tbody tr th {\n",
       "        vertical-align: top;\n",
       "    }\n",
       "</style>\n",
       "<table border=\"1\" class=\"dataframe\">\n",
       "  <thead>\n",
       "    <tr style=\"text-align: right;\">\n",
       "      <th></th>\n",
       "      <th>weekend</th>\n",
       "      <th>skipped</th>\n",
       "    </tr>\n",
       "  </thead>\n",
       "  <tbody>\n",
       "    <tr>\n",
       "      <th>count</th>\n",
       "      <td>24500.00000</td>\n",
       "      <td>24500.000000</td>\n",
       "    </tr>\n",
       "    <tr>\n",
       "      <th>mean</th>\n",
       "      <td>0.50000</td>\n",
       "      <td>0.805027</td>\n",
       "    </tr>\n",
       "    <tr>\n",
       "      <th>std</th>\n",
       "      <td>0.50001</td>\n",
       "      <td>0.392899</td>\n",
       "    </tr>\n",
       "    <tr>\n",
       "      <th>min</th>\n",
       "      <td>0.00000</td>\n",
       "      <td>0.000000</td>\n",
       "    </tr>\n",
       "    <tr>\n",
       "      <th>25%</th>\n",
       "      <td>0.00000</td>\n",
       "      <td>1.000000</td>\n",
       "    </tr>\n",
       "    <tr>\n",
       "      <th>50%</th>\n",
       "      <td>0.50000</td>\n",
       "      <td>1.000000</td>\n",
       "    </tr>\n",
       "    <tr>\n",
       "      <th>75%</th>\n",
       "      <td>1.00000</td>\n",
       "      <td>1.000000</td>\n",
       "    </tr>\n",
       "    <tr>\n",
       "      <th>max</th>\n",
       "      <td>1.00000</td>\n",
       "      <td>1.000000</td>\n",
       "    </tr>\n",
       "  </tbody>\n",
       "</table>\n",
       "</div>"
      ],
      "text/plain": [
       "           weekend       skipped\n",
       "count  24500.00000  24500.000000\n",
       "mean       0.50000      0.805027\n",
       "std        0.50001      0.392899\n",
       "min        0.00000      0.000000\n",
       "25%        0.00000      1.000000\n",
       "50%        0.50000      1.000000\n",
       "75%        1.00000      1.000000\n",
       "max        1.00000      1.000000"
      ]
     },
     "execution_count": 54,
     "metadata": {},
     "output_type": "execute_result"
    }
   ],
   "source": [
    "new_data.describe()"
   ]
  },
  {
   "cell_type": "code",
   "execution_count": null,
   "metadata": {
    "collapsed": true
   },
   "outputs": [],
   "source": []
  }
 ],
 "metadata": {
  "kernelspec": {
   "display_name": "Python 3",
   "language": "python",
   "name": "python3"
  },
  "language_info": {
   "codemirror_mode": {
    "name": "ipython",
    "version": 3
   },
   "file_extension": ".py",
   "mimetype": "text/x-python",
   "name": "python",
   "nbconvert_exporter": "python",
   "pygments_lexer": "ipython3",
   "version": "3.6.0"
  }
 },
 "nbformat": 4,
 "nbformat_minor": 2
}
