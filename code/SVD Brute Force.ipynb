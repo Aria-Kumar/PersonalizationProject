{
 "cells": [
  {
   "cell_type": "code",
   "execution_count": 1,
   "metadata": {},
   "outputs": [],
   "source": [
    "import os\n",
    "import pandas as pd\n",
    "import numpy as np\n",
    "import datetime\n",
    "import scipy.sparse as sparse\n",
    "from scipy.sparse.linalg import spsolve\n",
    "import random\n",
    "\n",
    "from surprise import Reader, Dataset, evaluate, print_perf, GridSearch\n",
    "from surprise import SVD, BaselineOnly, Prediction, accuracy\n",
    "from sklearn.metrics import roc_auc_score\n",
    "\n",
    "random.seed(561)"
   ]
  },
  {
   "cell_type": "code",
   "execution_count": 2,
   "metadata": {},
   "outputs": [],
   "source": [
    "# users = pd.read_csv('~/Columbia/Personalization Theory/lastfm-dataset-1K/userid-profile.tsv', header=None)\n",
    "data = pd.read_csv('~/Columbia/Personalization Theory/lastfm-dataset-1K/userid-timestamp-artid-artname-traid-traname.tsv',\n",
    "                   delimiter=\"\\t\", header=None,\n",
    "                   names = [\"userid\",\"timestamp\",\"artistid\",\n",
    "                            \"artistname\",\"trackid\",\"trackname\"])"
   ]
  },
  {
   "cell_type": "code",
   "execution_count": 3,
   "metadata": {
    "collapsed": true
   },
   "outputs": [],
   "source": [
    "data['timestamp'] = pd.to_datetime(data['timestamp'])"
   ]
  },
  {
   "cell_type": "markdown",
   "metadata": {},
   "source": [
    "For the mini-project, we are using a smaller dataset. The following transformations will convert the dataset to use number of plays as our metric, grouped by user and artist.\n",
    "\n",
    "To help with our data cleaning and setting up the matrices, we used [this website](https://jessesw.com/Rec-System/) to guide us."
   ]
  },
  {
   "cell_type": "code",
   "execution_count": 4,
   "metadata": {
    "collapsed": true
   },
   "outputs": [],
   "source": [
    "data = data.groupby(['userid', 'artistname']).size().reset_index(name='plays')"
   ]
  },
  {
   "cell_type": "code",
   "execution_count": 5,
   "metadata": {},
   "outputs": [
    {
     "data": {
      "text/plain": [
       "<992x897421 sparse matrix of type '<class 'numpy.int64'>'\n",
       "\twith 897421 stored elements in Compressed Sparse Row format>"
      ]
     },
     "execution_count": 5,
     "metadata": {},
     "output_type": "execute_result"
    }
   ],
   "source": [
    "users = list(np.sort(data.userid.unique())) # Get our unique users\n",
    "artists = list(data.artistname.unique()) # Get our unique artists\n",
    "quantity = list(data.plays) # All of our plays\n",
    "\n",
    "rows = data.userid.astype('category', categories = users).cat.codes \n",
    "# Get the associated row indices\n",
    "cols = data.artistname.astype('category', categories = artists).cat.codes \n",
    "# Get the associated column indices\n",
    "plays_sparse = sparse.csr_matrix((quantity, (rows, cols)), shape=(len(users), len(quantity)))\n",
    "plays_sparse"
   ]
  },
  {
   "cell_type": "code",
   "execution_count": 6,
   "metadata": {},
   "outputs": [
    {
     "data": {
      "text/plain": [
       "99.8991935483871"
      ]
     },
     "execution_count": 6,
     "metadata": {},
     "output_type": "execute_result"
    }
   ],
   "source": [
    "# Sparsity of the matrix\n",
    "matrix_size = plays_sparse.shape[0]*plays_sparse.shape[1] # Number of possible interactions in the matrix\n",
    "num_plays = len(plays_sparse.nonzero()[0]) # Number of items interacted with\n",
    "sparsity = 100*(1 - (num_plays/matrix_size))\n",
    "sparsity"
   ]
  },
  {
   "cell_type": "markdown",
   "metadata": {},
   "source": [
    "## Dataset Reduction\n",
    "\n",
    "The data set has a sparsity of 99.899%, which is very low even for matrices that are intended to be sparse. We experimented with removing rare artists and including only the top n artists, which had minimal effect on the sparsity."
   ]
  },
  {
   "cell_type": "code",
   "execution_count": 7,
   "metadata": {
    "collapsed": true
   },
   "outputs": [],
   "source": [
    "#rare_artists = data.query(\"plays < 6\"). \\\n",
    "#    groupby('artistname').size().reset_index(name='users_listening_to_artist'). \\\n",
    "#    query(\"users_listening_to_artist < 10\")\n",
    "    \n",
    "top5000_artists = data.groupby('artistname')['plays'].sum().reset_index(name='plays'). \\\n",
    "    nlargest(5000,'plays')"
   ]
  },
  {
   "cell_type": "code",
   "execution_count": 9,
   "metadata": {},
   "outputs": [
    {
     "name": "stdout",
     "output_type": "stream",
     "text": [
      "(424743, 3) (897421, 3)\n"
     ]
    }
   ],
   "source": [
    "reduced_data = data[data.artistname.isin(top5000_artists['artistname'])]\n",
    "\n",
    "print(reduced_data.shape, data.shape)"
   ]
  },
  {
   "cell_type": "code",
   "execution_count": 10,
   "metadata": {},
   "outputs": [
    {
     "data": {
      "text/plain": [
       "<991x424743 sparse matrix of type '<class 'numpy.int64'>'\n",
       "\twith 424743 stored elements in Compressed Sparse Row format>"
      ]
     },
     "execution_count": 10,
     "metadata": {},
     "output_type": "execute_result"
    }
   ],
   "source": [
    "users = list(np.sort(reduced_data.userid.unique())) # Get our unique users\n",
    "artists = list(reduced_data.artistname.unique()) # Get our unique artists\n",
    "quantity = list(reduced_data.plays) # All of our plays\n",
    "\n",
    "rows = reduced_data.userid.astype('category', categories = users).cat.codes \n",
    "# Get the associated row indices\n",
    "cols = reduced_data.artistname.astype('category', categories = artists).cat.codes \n",
    "# Get the associated column indices\n",
    "plays_sparse = sparse.csr_matrix((quantity, (rows, cols)), shape=(len(users), len(quantity)))\n",
    "\n",
    "plays_sparse"
   ]
  },
  {
   "cell_type": "code",
   "execution_count": 11,
   "metadata": {},
   "outputs": [
    {
     "data": {
      "text/plain": [
       "99.89909182643795"
      ]
     },
     "execution_count": 11,
     "metadata": {},
     "output_type": "execute_result"
    }
   ],
   "source": [
    "# Sparsity of the matrix\n",
    "matrix_size = plays_sparse.shape[0]*plays_sparse.shape[1] # Number of possible interactions in the matrix\n",
    "num_plays = len(plays_sparse.nonzero()[0]) # Number of items interacted with\n",
    "sparsity = 100*(1 - (num_plays/matrix_size))\n",
    "sparsity"
   ]
  },
  {
   "cell_type": "code",
   "execution_count": 12,
   "metadata": {
    "collapsed": true
   },
   "outputs": [],
   "source": [
    "# free up memory\n",
    "del users, artists, quantity, rows, cols, plays_sparse, matrix_size, num_plays, sparsity"
   ]
  },
  {
   "cell_type": "markdown",
   "metadata": {},
   "source": [
    "## Data Preprocessing\n",
    "\n",
    "For the SVD algorithm, we use the Surprise package. We modify the plays parameter to be a binary indicator of whether someone has listened to an artist.\n",
    "\n",
    "Including every artist would result in a dataset with over 173 million rows. We chose to limit the data to the top 5000 artists by number of plays, which brings the dataset down to 5 million rows."
   ]
  },
  {
   "cell_type": "code",
   "execution_count": 13,
   "metadata": {},
   "outputs": [
    {
     "name": "stdout",
     "output_type": "stream",
     "text": [
      "4955000\n"
     ]
    },
    {
     "data": {
      "text/html": [
       "<div>\n",
       "<style>\n",
       "    .dataframe thead tr:only-child th {\n",
       "        text-align: right;\n",
       "    }\n",
       "\n",
       "    .dataframe thead th {\n",
       "        text-align: left;\n",
       "    }\n",
       "\n",
       "    .dataframe tbody tr th {\n",
       "        vertical-align: top;\n",
       "    }\n",
       "</style>\n",
       "<table border=\"1\" class=\"dataframe\">\n",
       "  <thead>\n",
       "    <tr style=\"text-align: right;\">\n",
       "      <th></th>\n",
       "      <th>userid</th>\n",
       "      <th>artistname</th>\n",
       "      <th>plays</th>\n",
       "    </tr>\n",
       "  </thead>\n",
       "  <tbody>\n",
       "    <tr>\n",
       "      <th>0</th>\n",
       "      <td>user_000001</td>\n",
       "      <td>!!!</td>\n",
       "      <td>0.0</td>\n",
       "    </tr>\n",
       "    <tr>\n",
       "      <th>1</th>\n",
       "      <td>user_000002</td>\n",
       "      <td>!!!</td>\n",
       "      <td>0.0</td>\n",
       "    </tr>\n",
       "    <tr>\n",
       "      <th>2</th>\n",
       "      <td>user_000003</td>\n",
       "      <td>!!!</td>\n",
       "      <td>0.0</td>\n",
       "    </tr>\n",
       "    <tr>\n",
       "      <th>3</th>\n",
       "      <td>user_000004</td>\n",
       "      <td>!!!</td>\n",
       "      <td>1.0</td>\n",
       "    </tr>\n",
       "    <tr>\n",
       "      <th>4</th>\n",
       "      <td>user_000005</td>\n",
       "      <td>!!!</td>\n",
       "      <td>0.0</td>\n",
       "    </tr>\n",
       "  </tbody>\n",
       "</table>\n",
       "</div>"
      ],
      "text/plain": [
       "        userid artistname  plays\n",
       "0  user_000001        !!!    0.0\n",
       "1  user_000002        !!!    0.0\n",
       "2  user_000003        !!!    0.0\n",
       "3  user_000004        !!!    1.0\n",
       "4  user_000005        !!!    0.0"
      ]
     },
     "execution_count": 13,
     "metadata": {},
     "output_type": "execute_result"
    }
   ],
   "source": [
    "# Normalize plays to be a percentage of total plays by artist\n",
    "# usertotal = data.groupby('userid')['plays'].sum().reset_index(name=\"total_plays\")\n",
    "# normalized_data = pd.merge(reduced_data, usertotal)\n",
    "# normalized_data['normalized_plays'] = normalized_data['plays']/normalized_data['total_plays']\n",
    "# normalized_data.drop(['total_plays'], inplace=True, axis=1)\n",
    "# normalized_data.loc[normalized_data['plays'] != 0, 'plays'] = 1\n",
    "\n",
    "# set to binary of whether a user listed to an artist\n",
    "data.loc[data['plays'] != 0, 'plays'] = 1\n",
    "# remove all artists not in the top 5000\n",
    "data = data[data.artistname.isin(top5000_artists['artistname'])]\n",
    "\n",
    "# Add all user-artist combos, with no plays = 0\n",
    "data = data.pivot(index='userid', columns='artistname', values='plays').fillna(0).reset_index()\n",
    "data = data.melt(id_vars=['userid'], var_name=['artistname'])\n",
    "data = data.rename(columns = {'value':'plays'})\n",
    "\n",
    "print(len(data))\n",
    "data.head()"
   ]
  },
  {
   "cell_type": "markdown",
   "metadata": {
    "collapsed": true
   },
   "source": [
    "## Baseline\n",
    "\n",
    "We will use a simple algorithm to determine a benchmark for our SVD model. From the `Surprise` package, the baseline model is a simple alternating least squares."
   ]
  },
  {
   "cell_type": "code",
   "execution_count": 16,
   "metadata": {},
   "outputs": [
    {
     "name": "stdout",
     "output_type": "stream",
     "text": [
      "Evaluating RMSE, MAE of algorithm BaselineOnly.\n",
      "\n",
      "------------\n",
      "Fold 1\n",
      "Estimating biases using als...\n",
      "RMSE: 0.2546\n",
      "MAE:  0.1365\n",
      "------------\n",
      "Fold 2\n",
      "Estimating biases using als...\n",
      "RMSE: 0.2547\n",
      "MAE:  0.1367\n",
      "------------\n",
      "Fold 3\n",
      "Estimating biases using als...\n",
      "RMSE: 0.2546\n",
      "MAE:  0.1366\n",
      "------------\n",
      "------------\n",
      "Mean RMSE: 0.2547\n",
      "Mean MAE : 0.1366\n",
      "------------\n",
      "------------\n",
      "        Fold 1  Fold 2  Fold 3  Mean    \n",
      "RMSE    0.2546  0.2547  0.2546  0.2547  \n",
      "MAE     0.1365  0.1367  0.1366  0.1366  \n"
     ]
    }
   ],
   "source": [
    "reader = Reader(rating_scale=(0, 1))\n",
    "\n",
    "# The columns must correspond to user id, item id and ratings (in that order).\n",
    "model_data = Dataset.load_from_df(data, reader)\n",
    "model_data.split(n_folds=3)\n",
    "\n",
    "# We'll use the famous SVD algorithm.\n",
    "algo = BaselineOnly(bsl_options = {'method': 'als'})\n",
    "\n",
    "# Evaluate performances of our algorithm on the dataset.\n",
    "perf = evaluate(algo, model_data, measures=['RMSE', 'MAE'])\n",
    "\n",
    "# predictions = predict(data['userid'], data['artistname'], data['plays'])\n",
    "print_perf(perf)"
   ]
  },
  {
   "cell_type": "markdown",
   "metadata": {},
   "source": [
    "## SVD\n",
    "\n",
    "We used GridSearch to tune our hyperparameters for our SVD model. We investigated including the 'epoch' parameter, but it drastically increased the run time of the code below. Instead, we chose to keep the default number of epochs and tune the other 3 parameters."
   ]
  },
  {
   "cell_type": "code",
   "execution_count": 15,
   "metadata": {
    "scrolled": true
   },
   "outputs": [
    {
     "name": "stdout",
     "output_type": "stream",
     "text": [
      "[{'n_factors': 60, 'lr_all': 0.002, 'reg_all': 0.02}, {'n_factors': 60, 'lr_all': 0.002, 'reg_all': 0.040000000000000001}, {'n_factors': 60, 'lr_all': 0.002, 'reg_all': 0.059999999999999998}, {'n_factors': 60, 'lr_all': 0.002, 'reg_all': 0.080000000000000002}, {'n_factors': 60, 'lr_all': 0.0060000000000000001, 'reg_all': 0.02}, {'n_factors': 60, 'lr_all': 0.0060000000000000001, 'reg_all': 0.040000000000000001}, {'n_factors': 60, 'lr_all': 0.0060000000000000001, 'reg_all': 0.059999999999999998}, {'n_factors': 60, 'lr_all': 0.0060000000000000001, 'reg_all': 0.080000000000000002}, {'n_factors': 60, 'lr_all': 0.01, 'reg_all': 0.02}, {'n_factors': 60, 'lr_all': 0.01, 'reg_all': 0.040000000000000001}, {'n_factors': 60, 'lr_all': 0.01, 'reg_all': 0.059999999999999998}, {'n_factors': 60, 'lr_all': 0.01, 'reg_all': 0.080000000000000002}, {'n_factors': 80, 'lr_all': 0.002, 'reg_all': 0.02}, {'n_factors': 80, 'lr_all': 0.002, 'reg_all': 0.040000000000000001}, {'n_factors': 80, 'lr_all': 0.002, 'reg_all': 0.059999999999999998}, {'n_factors': 80, 'lr_all': 0.002, 'reg_all': 0.080000000000000002}, {'n_factors': 80, 'lr_all': 0.0060000000000000001, 'reg_all': 0.02}, {'n_factors': 80, 'lr_all': 0.0060000000000000001, 'reg_all': 0.040000000000000001}, {'n_factors': 80, 'lr_all': 0.0060000000000000001, 'reg_all': 0.059999999999999998}, {'n_factors': 80, 'lr_all': 0.0060000000000000001, 'reg_all': 0.080000000000000002}, {'n_factors': 80, 'lr_all': 0.01, 'reg_all': 0.02}, {'n_factors': 80, 'lr_all': 0.01, 'reg_all': 0.040000000000000001}, {'n_factors': 80, 'lr_all': 0.01, 'reg_all': 0.059999999999999998}, {'n_factors': 80, 'lr_all': 0.01, 'reg_all': 0.080000000000000002}, {'n_factors': 100, 'lr_all': 0.002, 'reg_all': 0.02}, {'n_factors': 100, 'lr_all': 0.002, 'reg_all': 0.040000000000000001}, {'n_factors': 100, 'lr_all': 0.002, 'reg_all': 0.059999999999999998}, {'n_factors': 100, 'lr_all': 0.002, 'reg_all': 0.080000000000000002}, {'n_factors': 100, 'lr_all': 0.0060000000000000001, 'reg_all': 0.02}, {'n_factors': 100, 'lr_all': 0.0060000000000000001, 'reg_all': 0.040000000000000001}, {'n_factors': 100, 'lr_all': 0.0060000000000000001, 'reg_all': 0.059999999999999998}, {'n_factors': 100, 'lr_all': 0.0060000000000000001, 'reg_all': 0.080000000000000002}, {'n_factors': 100, 'lr_all': 0.01, 'reg_all': 0.02}, {'n_factors': 100, 'lr_all': 0.01, 'reg_all': 0.040000000000000001}, {'n_factors': 100, 'lr_all': 0.01, 'reg_all': 0.059999999999999998}, {'n_factors': 100, 'lr_all': 0.01, 'reg_all': 0.080000000000000002}, {'n_factors': 120, 'lr_all': 0.002, 'reg_all': 0.02}, {'n_factors': 120, 'lr_all': 0.002, 'reg_all': 0.040000000000000001}, {'n_factors': 120, 'lr_all': 0.002, 'reg_all': 0.059999999999999998}, {'n_factors': 120, 'lr_all': 0.002, 'reg_all': 0.080000000000000002}, {'n_factors': 120, 'lr_all': 0.0060000000000000001, 'reg_all': 0.02}, {'n_factors': 120, 'lr_all': 0.0060000000000000001, 'reg_all': 0.040000000000000001}, {'n_factors': 120, 'lr_all': 0.0060000000000000001, 'reg_all': 0.059999999999999998}, {'n_factors': 120, 'lr_all': 0.0060000000000000001, 'reg_all': 0.080000000000000002}, {'n_factors': 120, 'lr_all': 0.01, 'reg_all': 0.02}, {'n_factors': 120, 'lr_all': 0.01, 'reg_all': 0.040000000000000001}, {'n_factors': 120, 'lr_all': 0.01, 'reg_all': 0.059999999999999998}, {'n_factors': 120, 'lr_all': 0.01, 'reg_all': 0.080000000000000002}]\n",
      "------------\n",
      "Parameters combination 1 of 48\n",
      "params:  {'n_factors': 60, 'lr_all': 0.002, 'reg_all': 0.02}\n",
      "------------\n",
      "Mean RMSE: 0.2519\n",
      "------------\n",
      "------------\n",
      "Parameters combination 2 of 48\n",
      "params:  {'n_factors': 60, 'lr_all': 0.002, 'reg_all': 0.040000000000000001}\n",
      "------------\n",
      "Mean RMSE: 0.2545\n",
      "------------\n",
      "------------\n",
      "Parameters combination 3 of 48\n",
      "params:  {'n_factors': 60, 'lr_all': 0.002, 'reg_all': 0.059999999999999998}\n",
      "------------\n",
      "Mean RMSE: 0.2549\n",
      "------------\n",
      "------------\n",
      "Parameters combination 4 of 48\n",
      "params:  {'n_factors': 60, 'lr_all': 0.002, 'reg_all': 0.080000000000000002}\n",
      "------------\n",
      "Mean RMSE: 0.2551\n",
      "------------\n",
      "------------\n",
      "Parameters combination 5 of 48\n",
      "params:  {'n_factors': 60, 'lr_all': 0.0060000000000000001, 'reg_all': 0.02}\n",
      "------------\n",
      "Mean RMSE: 0.2386\n",
      "------------\n",
      "------------\n",
      "Parameters combination 6 of 48\n",
      "params:  {'n_factors': 60, 'lr_all': 0.0060000000000000001, 'reg_all': 0.040000000000000001}\n",
      "------------\n",
      "Mean RMSE: 0.2500\n",
      "------------\n",
      "------------\n",
      "Parameters combination 7 of 48\n",
      "params:  {'n_factors': 60, 'lr_all': 0.0060000000000000001, 'reg_all': 0.059999999999999998}\n",
      "------------\n",
      "Mean RMSE: 0.2551\n",
      "------------\n",
      "------------\n",
      "Parameters combination 8 of 48\n",
      "params:  {'n_factors': 60, 'lr_all': 0.0060000000000000001, 'reg_all': 0.080000000000000002}\n",
      "------------\n",
      "Mean RMSE: 0.2554\n",
      "------------\n",
      "------------\n",
      "Parameters combination 9 of 48\n",
      "params:  {'n_factors': 60, 'lr_all': 0.01, 'reg_all': 0.02}\n",
      "------------\n",
      "Mean RMSE: 0.2361\n",
      "------------\n",
      "------------\n",
      "Parameters combination 10 of 48\n",
      "params:  {'n_factors': 60, 'lr_all': 0.01, 'reg_all': 0.040000000000000001}\n",
      "------------\n",
      "Mean RMSE: 0.2492\n",
      "------------\n",
      "------------\n",
      "Parameters combination 11 of 48\n",
      "params:  {'n_factors': 60, 'lr_all': 0.01, 'reg_all': 0.059999999999999998}\n",
      "------------\n",
      "Mean RMSE: 0.2551\n",
      "------------\n",
      "------------\n",
      "Parameters combination 12 of 48\n",
      "params:  {'n_factors': 60, 'lr_all': 0.01, 'reg_all': 0.080000000000000002}\n",
      "------------\n",
      "Mean RMSE: 0.2558\n",
      "------------\n",
      "------------\n",
      "Parameters combination 13 of 48\n",
      "params:  {'n_factors': 80, 'lr_all': 0.002, 'reg_all': 0.02}\n",
      "------------\n",
      "Mean RMSE: 0.2516\n",
      "------------\n",
      "------------\n",
      "Parameters combination 14 of 48\n",
      "params:  {'n_factors': 80, 'lr_all': 0.002, 'reg_all': 0.040000000000000001}\n",
      "------------\n",
      "Mean RMSE: 0.2543\n",
      "------------\n",
      "------------\n",
      "Parameters combination 15 of 48\n",
      "params:  {'n_factors': 80, 'lr_all': 0.002, 'reg_all': 0.059999999999999998}\n",
      "------------\n",
      "Mean RMSE: 0.2549\n",
      "------------\n",
      "------------\n",
      "Parameters combination 16 of 48\n",
      "params:  {'n_factors': 80, 'lr_all': 0.002, 'reg_all': 0.080000000000000002}\n",
      "------------\n",
      "Mean RMSE: 0.2551\n",
      "------------\n",
      "------------\n",
      "Parameters combination 17 of 48\n",
      "params:  {'n_factors': 80, 'lr_all': 0.0060000000000000001, 'reg_all': 0.02}\n",
      "------------\n",
      "Mean RMSE: 0.2383\n",
      "------------\n",
      "------------\n",
      "Parameters combination 18 of 48\n",
      "params:  {'n_factors': 80, 'lr_all': 0.0060000000000000001, 'reg_all': 0.040000000000000001}\n",
      "------------\n",
      "Mean RMSE: 0.2498\n",
      "------------\n",
      "------------\n",
      "Parameters combination 19 of 48\n",
      "params:  {'n_factors': 80, 'lr_all': 0.0060000000000000001, 'reg_all': 0.059999999999999998}\n",
      "------------\n",
      "Mean RMSE: 0.2551\n",
      "------------\n",
      "------------\n",
      "Parameters combination 20 of 48\n",
      "params:  {'n_factors': 80, 'lr_all': 0.0060000000000000001, 'reg_all': 0.080000000000000002}\n",
      "------------\n",
      "Mean RMSE: 0.2554\n",
      "------------\n",
      "------------\n",
      "Parameters combination 21 of 48\n",
      "params:  {'n_factors': 80, 'lr_all': 0.01, 'reg_all': 0.02}\n",
      "------------\n",
      "Mean RMSE: 0.2358\n",
      "------------\n",
      "------------\n",
      "Parameters combination 22 of 48\n",
      "params:  {'n_factors': 80, 'lr_all': 0.01, 'reg_all': 0.040000000000000001}\n",
      "------------\n",
      "Mean RMSE: 0.2490\n",
      "------------\n",
      "------------\n",
      "Parameters combination 23 of 48\n",
      "params:  {'n_factors': 80, 'lr_all': 0.01, 'reg_all': 0.059999999999999998}\n",
      "------------\n",
      "Mean RMSE: 0.2550\n",
      "------------\n",
      "------------\n",
      "Parameters combination 24 of 48\n",
      "params:  {'n_factors': 80, 'lr_all': 0.01, 'reg_all': 0.080000000000000002}\n",
      "------------\n",
      "Mean RMSE: 0.2558\n",
      "------------\n",
      "------------\n",
      "Parameters combination 25 of 48\n",
      "params:  {'n_factors': 100, 'lr_all': 0.002, 'reg_all': 0.02}\n",
      "------------\n",
      "Mean RMSE: 0.2509\n",
      "------------\n",
      "------------\n",
      "Parameters combination 26 of 48\n",
      "params:  {'n_factors': 100, 'lr_all': 0.002, 'reg_all': 0.040000000000000001}\n",
      "------------\n",
      "Mean RMSE: 0.2543\n",
      "------------\n",
      "------------\n",
      "Parameters combination 27 of 48\n",
      "params:  {'n_factors': 100, 'lr_all': 0.002, 'reg_all': 0.059999999999999998}\n",
      "------------\n",
      "Mean RMSE: 0.2549\n",
      "------------\n",
      "------------\n",
      "Parameters combination 28 of 48\n",
      "params:  {'n_factors': 100, 'lr_all': 0.002, 'reg_all': 0.080000000000000002}\n",
      "------------\n",
      "Mean RMSE: 0.2551\n",
      "------------\n",
      "------------\n",
      "Parameters combination 29 of 48\n",
      "params:  {'n_factors': 100, 'lr_all': 0.0060000000000000001, 'reg_all': 0.02}\n",
      "------------\n",
      "Mean RMSE: 0.2380\n",
      "------------\n",
      "------------\n",
      "Parameters combination 30 of 48\n",
      "params:  {'n_factors': 100, 'lr_all': 0.0060000000000000001, 'reg_all': 0.040000000000000001}\n",
      "------------\n",
      "Mean RMSE: 0.2497\n",
      "------------\n",
      "------------\n",
      "Parameters combination 31 of 48\n"
     ]
    },
    {
     "name": "stdout",
     "output_type": "stream",
     "text": [
      "params:  {'n_factors': 100, 'lr_all': 0.0060000000000000001, 'reg_all': 0.059999999999999998}\n",
      "------------\n",
      "Mean RMSE: 0.2550\n",
      "------------\n",
      "------------\n",
      "Parameters combination 32 of 48\n",
      "params:  {'n_factors': 100, 'lr_all': 0.0060000000000000001, 'reg_all': 0.080000000000000002}\n",
      "------------\n",
      "Mean RMSE: 0.2554\n",
      "------------\n",
      "------------\n",
      "Parameters combination 33 of 48\n",
      "params:  {'n_factors': 100, 'lr_all': 0.01, 'reg_all': 0.02}\n",
      "------------\n",
      "Mean RMSE: 0.2357\n",
      "------------\n",
      "------------\n",
      "Parameters combination 34 of 48\n",
      "params:  {'n_factors': 100, 'lr_all': 0.01, 'reg_all': 0.040000000000000001}\n",
      "------------\n",
      "Mean RMSE: 0.2488\n",
      "------------\n",
      "------------\n",
      "Parameters combination 35 of 48\n",
      "params:  {'n_factors': 100, 'lr_all': 0.01, 'reg_all': 0.059999999999999998}\n",
      "------------\n",
      "Mean RMSE: 0.2548\n",
      "------------\n",
      "------------\n",
      "Parameters combination 36 of 48\n",
      "params:  {'n_factors': 100, 'lr_all': 0.01, 'reg_all': 0.080000000000000002}\n",
      "------------\n",
      "Mean RMSE: 0.2558\n",
      "------------\n",
      "------------\n",
      "Parameters combination 37 of 48\n",
      "params:  {'n_factors': 120, 'lr_all': 0.002, 'reg_all': 0.02}\n",
      "------------\n",
      "Mean RMSE: 0.2504\n",
      "------------\n",
      "------------\n",
      "Parameters combination 38 of 48\n",
      "params:  {'n_factors': 120, 'lr_all': 0.002, 'reg_all': 0.040000000000000001}\n",
      "------------\n",
      "Mean RMSE: 0.2542\n",
      "------------\n",
      "------------\n",
      "Parameters combination 39 of 48\n",
      "params:  {'n_factors': 120, 'lr_all': 0.002, 'reg_all': 0.059999999999999998}\n",
      "------------\n",
      "Mean RMSE: 0.2549\n",
      "------------\n",
      "------------\n",
      "Parameters combination 40 of 48\n",
      "params:  {'n_factors': 120, 'lr_all': 0.002, 'reg_all': 0.080000000000000002}\n",
      "------------\n",
      "Mean RMSE: 0.2551\n",
      "------------\n",
      "------------\n",
      "Parameters combination 41 of 48\n",
      "params:  {'n_factors': 120, 'lr_all': 0.0060000000000000001, 'reg_all': 0.02}\n",
      "------------\n",
      "Mean RMSE: 0.2377\n",
      "------------\n",
      "------------\n",
      "Parameters combination 42 of 48\n",
      "params:  {'n_factors': 120, 'lr_all': 0.0060000000000000001, 'reg_all': 0.040000000000000001}\n",
      "------------\n",
      "Mean RMSE: 0.2495\n",
      "------------\n",
      "------------\n",
      "Parameters combination 43 of 48\n",
      "params:  {'n_factors': 120, 'lr_all': 0.0060000000000000001, 'reg_all': 0.059999999999999998}\n",
      "------------\n",
      "Mean RMSE: 0.2549\n",
      "------------\n",
      "------------\n",
      "Parameters combination 44 of 48\n",
      "params:  {'n_factors': 120, 'lr_all': 0.0060000000000000001, 'reg_all': 0.080000000000000002}\n",
      "------------\n",
      "Mean RMSE: 0.2554\n",
      "------------\n",
      "------------\n",
      "Parameters combination 45 of 48\n",
      "params:  {'n_factors': 120, 'lr_all': 0.01, 'reg_all': 0.02}\n",
      "------------\n",
      "Mean RMSE: 0.2355\n",
      "------------\n",
      "------------\n",
      "Parameters combination 46 of 48\n",
      "params:  {'n_factors': 120, 'lr_all': 0.01, 'reg_all': 0.040000000000000001}\n",
      "------------\n",
      "Mean RMSE: 0.2487\n",
      "------------\n",
      "------------\n",
      "Parameters combination 47 of 48\n",
      "params:  {'n_factors': 120, 'lr_all': 0.01, 'reg_all': 0.059999999999999998}\n",
      "------------\n",
      "Mean RMSE: 0.2549\n",
      "------------\n",
      "------------\n",
      "Parameters combination 48 of 48\n",
      "params:  {'n_factors': 120, 'lr_all': 0.01, 'reg_all': 0.080000000000000002}\n",
      "------------\n",
      "Mean RMSE: 0.2558\n",
      "------------\n"
     ]
    }
   ],
   "source": [
    "reader = Reader(rating_scale=(0, 1))\n",
    "\n",
    "param_grid = {'n_factors': np.arange(60,140,20),\n",
    "              'lr_all': np.arange(0.002,0.014, 0.004),'reg_all': np.arange(0.02,0.1, 0.02)}\n",
    "grid_search = GridSearch(SVD, param_grid, measures=['RMSE'])\n",
    "\n",
    "model_data = Dataset.load_from_df(data[['userid', 'artistname', 'plays']], reader)\n",
    "model_data.split(n_folds=3)\n",
    "\n",
    "grid_search.evaluate(model_data)\n",
    "\n",
    "results_df = pd.DataFrame.from_dict(grid_search.cv_results)"
   ]
  },
  {
   "cell_type": "markdown",
   "metadata": {},
   "source": [
    "## Results\n",
    "\n",
    "The optimal parameters to reduce RMSE are as follows:\n",
    "- `factors` = 120,\n",
    "- `learning rate` = 0.01,\n",
    "- `regularization` = 0.02."
   ]
  },
  {
   "cell_type": "code",
   "execution_count": 17,
   "metadata": {
    "collapsed": true
   },
   "outputs": [
    {
     "name": "stdout",
     "output_type": "stream",
     "text": [
      "Evaluating RMSE, MAE of algorithm SVD.\n",
      "\n",
      "------------\n",
      "Fold 1\n",
      "RMSE: 0.2355\n",
      "MAE:  0.1197\n",
      "------------\n",
      "Fold 2\n",
      "RMSE: 0.2355\n",
      "MAE:  0.1200\n",
      "------------\n",
      "Fold 3\n",
      "RMSE: 0.2354\n",
      "MAE:  0.1201\n",
      "------------\n",
      "------------\n",
      "Mean RMSE: 0.2355\n",
      "Mean MAE : 0.1199\n",
      "------------\n",
      "------------\n",
      "        Fold 1  Fold 2  Fold 3  Mean    \n",
      "RMSE    0.2355  0.2355  0.2354  0.2355  \n",
      "MAE     0.1197  0.1200  0.1201  0.1199  \n"
     ]
    }
   ],
   "source": [
    "#reader = Reader(rating_scale=(0, 1))\n",
    "\n",
    "# The columns must correspond to user id, item id and ratings (in that order).\n",
    "#model_data = Dataset.load_from_df(data, reader)\n",
    "#model_data.split(n_folds=3)\n",
    "\n",
    "# We'll use the famous SVD algorithm.\n",
    "algo = SVD(n_factors = 120, lr_all = 0.01, reg_all = 0.02)\n",
    "\n",
    "# Evaluate performances of our algorithm on the dataset.\n",
    "perf = evaluate(algo, model_data, measures=['RMSE', 'MAE'])\n",
    "\n",
    "# predictions = predict(data['userid'], data['artistname'], data['plays'])\n",
    "print_perf(perf)"
   ]
  },
  {
   "cell_type": "markdown",
   "metadata": {},
   "source": [
    "## Analysis\n",
    "\n",
    "To investigate how tuning impacts our loss functions, we iteratively varied one hyperparameter to see how RMSE changes while others are held constant.\n",
    "\n",
    "For example, we held the learning rate and regularization at their respective optimal values of 0.01 and 0.08, while varying the number of factors from 20 to 120 in increments of 20.\n",
    "\n",
    "We saved the results into three files: reg.csv, learning.csv and factor.csv."
   ]
  },
  {
   "cell_type": "code",
   "execution_count": 25,
   "metadata": {},
   "outputs": [
    {
     "name": "stdout",
     "output_type": "stream",
     "text": [
      "[{'n_factors': 60, 'lr_all': 0.01, 'reg_all': 0.02}, {'n_factors': 68, 'lr_all': 0.01, 'reg_all': 0.02}, {'n_factors': 76, 'lr_all': 0.01, 'reg_all': 0.02}, {'n_factors': 84, 'lr_all': 0.01, 'reg_all': 0.02}, {'n_factors': 92, 'lr_all': 0.01, 'reg_all': 0.02}, {'n_factors': 100, 'lr_all': 0.01, 'reg_all': 0.02}, {'n_factors': 108, 'lr_all': 0.01, 'reg_all': 0.02}, {'n_factors': 116, 'lr_all': 0.01, 'reg_all': 0.02}, {'n_factors': 124, 'lr_all': 0.01, 'reg_all': 0.02}, {'n_factors': 132, 'lr_all': 0.01, 'reg_all': 0.02}]\n",
      "------------\n",
      "Parameters combination 1 of 10\n",
      "params:  {'n_factors': 60, 'lr_all': 0.01, 'reg_all': 0.02}\n",
      "------------\n",
      "Mean RMSE: 0.2362\n",
      "------------\n",
      "------------\n",
      "Parameters combination 2 of 10\n",
      "params:  {'n_factors': 68, 'lr_all': 0.01, 'reg_all': 0.02}\n",
      "------------\n",
      "Mean RMSE: 0.2359\n",
      "------------\n",
      "------------\n",
      "Parameters combination 3 of 10\n",
      "params:  {'n_factors': 76, 'lr_all': 0.01, 'reg_all': 0.02}\n",
      "------------\n",
      "Mean RMSE: 0.2358\n",
      "------------\n",
      "------------\n",
      "Parameters combination 4 of 10\n",
      "params:  {'n_factors': 84, 'lr_all': 0.01, 'reg_all': 0.02}\n",
      "------------\n",
      "Mean RMSE: 0.2358\n",
      "------------\n",
      "------------\n",
      "Parameters combination 5 of 10\n",
      "params:  {'n_factors': 92, 'lr_all': 0.01, 'reg_all': 0.02}\n",
      "------------\n",
      "Mean RMSE: 0.2358\n",
      "------------\n",
      "------------\n",
      "Parameters combination 6 of 10\n",
      "params:  {'n_factors': 100, 'lr_all': 0.01, 'reg_all': 0.02}\n",
      "------------\n",
      "Mean RMSE: 0.2356\n",
      "------------\n",
      "------------\n",
      "Parameters combination 7 of 10\n",
      "params:  {'n_factors': 108, 'lr_all': 0.01, 'reg_all': 0.02}\n",
      "------------\n",
      "Mean RMSE: 0.2356\n",
      "------------\n",
      "------------\n",
      "Parameters combination 8 of 10\n",
      "params:  {'n_factors': 116, 'lr_all': 0.01, 'reg_all': 0.02}\n",
      "------------\n",
      "Mean RMSE: 0.2355\n",
      "------------\n",
      "------------\n",
      "Parameters combination 9 of 10\n",
      "params:  {'n_factors': 124, 'lr_all': 0.01, 'reg_all': 0.02}\n",
      "------------\n",
      "Mean RMSE: 0.2355\n",
      "------------\n",
      "------------\n",
      "Parameters combination 10 of 10\n",
      "params:  {'n_factors': 132, 'lr_all': 0.01, 'reg_all': 0.02}\n",
      "------------\n",
      "Mean RMSE: 0.2354\n",
      "------------\n"
     ]
    }
   ],
   "source": [
    "param_grid = {'n_factors': np.arange(60,140,8),'lr_all': [.01],'reg_all': [.02]}\n",
    "grid_search = GridSearch(SVD, param_grid, measures=['RMSE'])\n",
    "\n",
    "#model_data = Dataset.load_from_df(data[['userid', 'artistname', 'plays']], reader)\n",
    "#model_data.split(n_folds=3)\n",
    "\n",
    "grid_search.evaluate(model_data)\n",
    "\n",
    "results_df = pd.DataFrame.from_dict(grid_search.cv_results)"
   ]
  },
  {
   "cell_type": "code",
   "execution_count": 26,
   "metadata": {},
   "outputs": [],
   "source": [
    "results_df.to_csv('../data/factors.csv', sep='\\t')"
   ]
  },
  {
   "cell_type": "markdown",
   "metadata": {},
   "source": [
    "## AUC\n",
    "\n",
    "We also use AUC to evaluate our model."
   ]
  },
  {
   "cell_type": "code",
   "execution_count": null,
   "metadata": {},
   "outputs": [],
   "source": [
    "for trainset, testset in model_data.folds():\n",
    "\n",
    "    # train and test algorithm.\n",
    "    algo.train(trainset)\n",
    "    predictions = algo.test(testset)\n",
    "\n",
    "    # Compute and print Root Mean Squared Error and Mean Absolute Error\n",
    "    #rmse = accuracy.rmse(predictions, verbose=True)\n",
    "    #mae = accuracy.mae(predictions, verbose=True)"
   ]
  },
  {
   "cell_type": "code",
   "execution_count": null,
   "metadata": {},
   "outputs": [],
   "source": [
    "output = pd.DataFrame(predictions)\n",
    "output = output.drop(['r_ui', 'details'], axis=1)\n",
    "\n",
    "combined = pd.merge(data, output, how='right', left_on=['userid','artistname'], right_on=['uid','iid'])\n",
    "combined = combined.drop(['uid', 'iid'], axis=1).set_index('userid')\n",
    "combined['predicted'] = np.where(combined['est']>0.5, 1, 0)\n",
    "combined['plays'] = np.where(np.isnan(combined['plays']),0,combined['plays'])\n",
    "combined.describe()\n",
    "\n",
    "#fpr, tpr, thresholds = metrics.roc_curve(combined['normalized_plays'], combined['est'], pos_label=2)\n",
    "#metrics.auc(fpr, tpr)\n",
    "\n",
    "#roc_auc_score(combined['plays'],combined['est'])"
   ]
  },
  {
   "cell_type": "code",
   "execution_count": null,
   "metadata": {},
   "outputs": [],
   "source": [
    "sorted(predictions)"
   ]
  },
  {
   "cell_type": "code",
   "execution_count": null,
   "metadata": {
    "collapsed": true
   },
   "outputs": [],
   "source": []
  }
 ],
 "metadata": {
  "kernelspec": {
   "display_name": "Python 3",
   "language": "python",
   "name": "python3"
  },
  "language_info": {
   "codemirror_mode": {
    "name": "ipython",
    "version": 3
   },
   "file_extension": ".py",
   "mimetype": "text/x-python",
   "name": "python",
   "nbconvert_exporter": "python",
   "pygments_lexer": "ipython3",
   "version": "3.6.0"
  }
 },
 "nbformat": 4,
 "nbformat_minor": 2
}
