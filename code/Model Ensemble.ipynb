{
 "cells": [
  {
   "cell_type": "code",
   "execution_count": 1,
   "metadata": {
    "collapsed": true
   },
   "outputs": [],
   "source": [
    "import pandas as pd\n",
    "import numpy as np\n",
    "from sklearn.metrics import roc_auc_score as AUC"
   ]
  },
  {
   "cell_type": "markdown",
   "metadata": {},
   "source": [
    "## SVD++ Results"
   ]
  },
  {
   "cell_type": "code",
   "execution_count": 2,
   "metadata": {
    "collapsed": true
   },
   "outputs": [],
   "source": [
    "svd_results = pd.read_csv(\"SVDppResults2.csv\")"
   ]
  },
  {
   "cell_type": "code",
   "execution_count": 3,
   "metadata": {},
   "outputs": [
    {
     "name": "stdout",
     "output_type": "stream",
     "text": [
      "AUC Score: 0.807650502126\n"
     ]
    }
   ],
   "source": [
    "svd_auc_score = AUC(np.array(svd_results[\"skipped\"]), np.array(svd_results[\"prediction\"]))\n",
    "print(\"AUC Score:\", svd_auc_score)"
   ]
  },
  {
   "cell_type": "code",
   "execution_count": 4,
   "metadata": {},
   "outputs": [
    {
     "data": {
      "text/plain": [
       "(1151142, 7)"
      ]
     },
     "execution_count": 4,
     "metadata": {},
     "output_type": "execute_result"
    }
   ],
   "source": [
    "np.shape(svd_results)"
   ]
  },
  {
   "cell_type": "markdown",
   "metadata": {
    "collapsed": true
   },
   "source": [
    "## Neural Network Results"
   ]
  },
  {
   "cell_type": "code",
   "execution_count": 5,
   "metadata": {},
   "outputs": [],
   "source": [
    "nn_results = pd.read_csv(\"NNResults.csv\")"
   ]
  },
  {
   "cell_type": "code",
   "execution_count": 6,
   "metadata": {},
   "outputs": [
    {
     "name": "stdout",
     "output_type": "stream",
     "text": [
      "AUC Score: 0.593701054732\n"
     ]
    }
   ],
   "source": [
    "nn_auc_score = AUC(np.array(nn_results[\"skipped\"]), np.array(nn_results[\"prediction\"]))\n",
    "print(\"AUC Score:\", nn_auc_score)"
   ]
  },
  {
   "cell_type": "code",
   "execution_count": 7,
   "metadata": {},
   "outputs": [
    {
     "data": {
      "text/plain": [
       "(1151204, 7)"
      ]
     },
     "execution_count": 7,
     "metadata": {},
     "output_type": "execute_result"
    }
   ],
   "source": [
    "np.shape(nn_results)"
   ]
  },
  {
   "cell_type": "code",
   "execution_count": 8,
   "metadata": {},
   "outputs": [
    {
     "data": {
      "text/plain": [
       "['artist-name',\n",
       " 'prediction',\n",
       " 'skipped',\n",
       " 'timestamp',\n",
       " 'track-name',\n",
       " 'userid',\n",
       " 'weekend']"
      ]
     },
     "execution_count": 8,
     "metadata": {},
     "output_type": "execute_result"
    }
   ],
   "source": [
    "list(nn_results)"
   ]
  },
  {
   "cell_type": "markdown",
   "metadata": {},
   "source": [
    "## Combined Results"
   ]
  },
  {
   "cell_type": "code",
   "execution_count": 9,
   "metadata": {
    "collapsed": true
   },
   "outputs": [],
   "source": [
    "combined_results = pd.merge(svd_results, nn_results, how=\"inner\",\n",
    "                            on = ['artist-name','skipped','timestamp','track-name','userid','weekend'],\n",
    "                           suffixes = [\"_svd\", \"_nn\"])"
   ]
  },
  {
   "cell_type": "code",
   "execution_count": 10,
   "metadata": {},
   "outputs": [
    {
     "data": {
      "text/plain": [
       "(1074514, 8)"
      ]
     },
     "execution_count": 10,
     "metadata": {},
     "output_type": "execute_result"
    }
   ],
   "source": [
    "np.shape(combined_results)"
   ]
  },
  {
   "cell_type": "code",
   "execution_count": 11,
   "metadata": {
    "scrolled": true
   },
   "outputs": [
    {
     "data": {
      "text/html": [
       "<div>\n",
       "<style>\n",
       "    .dataframe thead tr:only-child th {\n",
       "        text-align: right;\n",
       "    }\n",
       "\n",
       "    .dataframe thead th {\n",
       "        text-align: left;\n",
       "    }\n",
       "\n",
       "    .dataframe tbody tr th {\n",
       "        vertical-align: top;\n",
       "    }\n",
       "</style>\n",
       "<table border=\"1\" class=\"dataframe\">\n",
       "  <thead>\n",
       "    <tr style=\"text-align: right;\">\n",
       "      <th></th>\n",
       "      <th>userid</th>\n",
       "      <th>track-name</th>\n",
       "      <th>artist-name</th>\n",
       "      <th>weekend</th>\n",
       "      <th>timestamp</th>\n",
       "      <th>skipped</th>\n",
       "      <th>prediction_svd</th>\n",
       "      <th>prediction_nn</th>\n",
       "    </tr>\n",
       "  </thead>\n",
       "  <tbody>\n",
       "    <tr>\n",
       "      <th>0</th>\n",
       "      <td>user_000001</td>\n",
       "      <td>Monde</td>\n",
       "      <td>Hudson Mohawke</td>\n",
       "      <td>0</td>\n",
       "      <td>2009-02-16 11:11:10</td>\n",
       "      <td>0</td>\n",
       "      <td>0.034001</td>\n",
       "      <td>0.215752</td>\n",
       "    </tr>\n",
       "    <tr>\n",
       "      <th>1</th>\n",
       "      <td>user_000001</td>\n",
       "      <td>Overnight</td>\n",
       "      <td>Hudson Mohawke</td>\n",
       "      <td>0</td>\n",
       "      <td>2009-02-16 12:07:09</td>\n",
       "      <td>0</td>\n",
       "      <td>0.026386</td>\n",
       "      <td>0.493046</td>\n",
       "    </tr>\n",
       "    <tr>\n",
       "      <th>2</th>\n",
       "      <td>user_000001</td>\n",
       "      <td>Speed Stick</td>\n",
       "      <td>Hudson Mohawke</td>\n",
       "      <td>0</td>\n",
       "      <td>2009-02-16 12:09:58</td>\n",
       "      <td>0</td>\n",
       "      <td>0.023940</td>\n",
       "      <td>0.542228</td>\n",
       "    </tr>\n",
       "    <tr>\n",
       "      <th>3</th>\n",
       "      <td>user_000001</td>\n",
       "      <td>Velvet Peel</td>\n",
       "      <td>Hudson Mohawke</td>\n",
       "      <td>0</td>\n",
       "      <td>2009-02-16 12:12:03</td>\n",
       "      <td>0</td>\n",
       "      <td>0.023543</td>\n",
       "      <td>0.548095</td>\n",
       "    </tr>\n",
       "    <tr>\n",
       "      <th>4</th>\n",
       "      <td>user_000001</td>\n",
       "      <td>Yonard</td>\n",
       "      <td>Hudson Mohawke</td>\n",
       "      <td>0</td>\n",
       "      <td>2009-02-16 12:14:22</td>\n",
       "      <td>0</td>\n",
       "      <td>0.035618</td>\n",
       "      <td>0.548095</td>\n",
       "    </tr>\n",
       "  </tbody>\n",
       "</table>\n",
       "</div>"
      ],
      "text/plain": [
       "        userid   track-name     artist-name  weekend            timestamp  \\\n",
       "0  user_000001        Monde  Hudson Mohawke        0  2009-02-16 11:11:10   \n",
       "1  user_000001    Overnight  Hudson Mohawke        0  2009-02-16 12:07:09   \n",
       "2  user_000001  Speed Stick  Hudson Mohawke        0  2009-02-16 12:09:58   \n",
       "3  user_000001  Velvet Peel  Hudson Mohawke        0  2009-02-16 12:12:03   \n",
       "4  user_000001       Yonard  Hudson Mohawke        0  2009-02-16 12:14:22   \n",
       "\n",
       "   skipped  prediction_svd  prediction_nn  \n",
       "0        0        0.034001       0.215752  \n",
       "1        0        0.026386       0.493046  \n",
       "2        0        0.023940       0.542228  \n",
       "3        0        0.023543       0.548095  \n",
       "4        0        0.035618       0.548095  "
      ]
     },
     "execution_count": 11,
     "metadata": {},
     "output_type": "execute_result"
    }
   ],
   "source": [
    "combined_results.head()"
   ]
  },
  {
   "cell_type": "markdown",
   "metadata": {},
   "source": [
    "### Normalizing the probabilities of both models by scaled ranking"
   ]
  },
  {
   "cell_type": "code",
   "execution_count": 12,
   "metadata": {
    "collapsed": true
   },
   "outputs": [],
   "source": [
    "combined_results[\"prediction_svd_scaled\"] = combined_results[\"prediction_svd\"].rank() / combined_results.shape[0]\n",
    "combined_results[\"prediction_nn_scaled\"] = combined_results[\"prediction_nn\"].rank() / combined_results.shape[0]"
   ]
  },
  {
   "cell_type": "code",
   "execution_count": 13,
   "metadata": {},
   "outputs": [
    {
     "data": {
      "text/html": [
       "<div>\n",
       "<style>\n",
       "    .dataframe thead tr:only-child th {\n",
       "        text-align: right;\n",
       "    }\n",
       "\n",
       "    .dataframe thead th {\n",
       "        text-align: left;\n",
       "    }\n",
       "\n",
       "    .dataframe tbody tr th {\n",
       "        vertical-align: top;\n",
       "    }\n",
       "</style>\n",
       "<table border=\"1\" class=\"dataframe\">\n",
       "  <thead>\n",
       "    <tr style=\"text-align: right;\">\n",
       "      <th></th>\n",
       "      <th>userid</th>\n",
       "      <th>track-name</th>\n",
       "      <th>artist-name</th>\n",
       "      <th>weekend</th>\n",
       "      <th>timestamp</th>\n",
       "      <th>skipped</th>\n",
       "      <th>prediction_svd</th>\n",
       "      <th>prediction_nn</th>\n",
       "      <th>prediction_svd_scaled</th>\n",
       "      <th>prediction_nn_scaled</th>\n",
       "    </tr>\n",
       "  </thead>\n",
       "  <tbody>\n",
       "    <tr>\n",
       "      <th>0</th>\n",
       "      <td>user_000001</td>\n",
       "      <td>Monde</td>\n",
       "      <td>Hudson Mohawke</td>\n",
       "      <td>0</td>\n",
       "      <td>2009-02-16 11:11:10</td>\n",
       "      <td>0</td>\n",
       "      <td>0.034001</td>\n",
       "      <td>0.215752</td>\n",
       "      <td>0.881653</td>\n",
       "      <td>0.616757</td>\n",
       "    </tr>\n",
       "    <tr>\n",
       "      <th>1</th>\n",
       "      <td>user_000001</td>\n",
       "      <td>Overnight</td>\n",
       "      <td>Hudson Mohawke</td>\n",
       "      <td>0</td>\n",
       "      <td>2009-02-16 12:07:09</td>\n",
       "      <td>0</td>\n",
       "      <td>0.026386</td>\n",
       "      <td>0.493046</td>\n",
       "      <td>0.846324</td>\n",
       "      <td>0.636173</td>\n",
       "    </tr>\n",
       "    <tr>\n",
       "      <th>2</th>\n",
       "      <td>user_000001</td>\n",
       "      <td>Speed Stick</td>\n",
       "      <td>Hudson Mohawke</td>\n",
       "      <td>0</td>\n",
       "      <td>2009-02-16 12:09:58</td>\n",
       "      <td>0</td>\n",
       "      <td>0.023940</td>\n",
       "      <td>0.542228</td>\n",
       "      <td>0.830574</td>\n",
       "      <td>0.639128</td>\n",
       "    </tr>\n",
       "    <tr>\n",
       "      <th>3</th>\n",
       "      <td>user_000001</td>\n",
       "      <td>Velvet Peel</td>\n",
       "      <td>Hudson Mohawke</td>\n",
       "      <td>0</td>\n",
       "      <td>2009-02-16 12:12:03</td>\n",
       "      <td>0</td>\n",
       "      <td>0.023543</td>\n",
       "      <td>0.548095</td>\n",
       "      <td>0.828102</td>\n",
       "      <td>0.819741</td>\n",
       "    </tr>\n",
       "    <tr>\n",
       "      <th>4</th>\n",
       "      <td>user_000001</td>\n",
       "      <td>Yonard</td>\n",
       "      <td>Hudson Mohawke</td>\n",
       "      <td>0</td>\n",
       "      <td>2009-02-16 12:14:22</td>\n",
       "      <td>0</td>\n",
       "      <td>0.035618</td>\n",
       "      <td>0.548095</td>\n",
       "      <td>0.887119</td>\n",
       "      <td>0.819741</td>\n",
       "    </tr>\n",
       "  </tbody>\n",
       "</table>\n",
       "</div>"
      ],
      "text/plain": [
       "        userid   track-name     artist-name  weekend            timestamp  \\\n",
       "0  user_000001        Monde  Hudson Mohawke        0  2009-02-16 11:11:10   \n",
       "1  user_000001    Overnight  Hudson Mohawke        0  2009-02-16 12:07:09   \n",
       "2  user_000001  Speed Stick  Hudson Mohawke        0  2009-02-16 12:09:58   \n",
       "3  user_000001  Velvet Peel  Hudson Mohawke        0  2009-02-16 12:12:03   \n",
       "4  user_000001       Yonard  Hudson Mohawke        0  2009-02-16 12:14:22   \n",
       "\n",
       "   skipped  prediction_svd  prediction_nn  prediction_svd_scaled  \\\n",
       "0        0        0.034001       0.215752               0.881653   \n",
       "1        0        0.026386       0.493046               0.846324   \n",
       "2        0        0.023940       0.542228               0.830574   \n",
       "3        0        0.023543       0.548095               0.828102   \n",
       "4        0        0.035618       0.548095               0.887119   \n",
       "\n",
       "   prediction_nn_scaled  \n",
       "0              0.616757  \n",
       "1              0.636173  \n",
       "2              0.639128  \n",
       "3              0.819741  \n",
       "4              0.819741  "
      ]
     },
     "execution_count": 13,
     "metadata": {},
     "output_type": "execute_result"
    }
   ],
   "source": [
    "combined_results.head()"
   ]
  },
  {
   "cell_type": "markdown",
   "metadata": {},
   "source": [
    "## Weighted Averaging the models (SVD++ : 90%, NN: 10%)"
   ]
  },
  {
   "cell_type": "code",
   "execution_count": 20,
   "metadata": {
    "collapsed": true
   },
   "outputs": [],
   "source": [
    "combined_results[\"weighted_prediction\"] = 0.9 * combined_results[\"prediction_svd_scaled\"] + \\\n",
    "                                          0.1 * combined_results[\"prediction_nn_scaled\"]"
   ]
  },
  {
   "cell_type": "code",
   "execution_count": 21,
   "metadata": {},
   "outputs": [
    {
     "name": "stdout",
     "output_type": "stream",
     "text": [
      "AUC Score: 0.80862097394\n"
     ]
    }
   ],
   "source": [
    "ensemble_auc_score = AUC(np.array(combined_results[\"skipped\"]), np.array(combined_results[\"weighted_prediction\"]))\n",
    "print(\"AUC Score:\", ensemble_auc_score)"
   ]
  }
 ],
 "metadata": {
  "kernelspec": {
   "display_name": "Python 3",
   "language": "python",
   "name": "python3"
  },
  "language_info": {
   "codemirror_mode": {
    "name": "ipython",
    "version": 3
   },
   "file_extension": ".py",
   "mimetype": "text/x-python",
   "name": "python",
   "nbconvert_exporter": "python",
   "pygments_lexer": "ipython3",
   "version": "3.6.3"
  }
 },
 "nbformat": 4,
 "nbformat_minor": 2
}
