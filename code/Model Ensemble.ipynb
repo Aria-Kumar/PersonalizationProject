{
 "cells": [
  {
   "cell_type": "code",
   "execution_count": 1,
   "metadata": {
    "collapsed": true
   },
   "outputs": [],
   "source": [
    "import pandas as pd\n",
    "import numpy as np\n",
    "from sklearn.metrics import roc_auc_score as AUC"
   ]
  },
  {
   "cell_type": "markdown",
   "metadata": {},
   "source": [
    "## SVD++ Results"
   ]
  },
  {
   "cell_type": "code",
   "execution_count": 2,
   "metadata": {
    "collapsed": true
   },
   "outputs": [],
   "source": [
    "svd_results = pd.read_csv(\"SVDppResults2.csv\")"
   ]
  },
  {
   "cell_type": "code",
   "execution_count": 3,
   "metadata": {},
   "outputs": [
    {
     "name": "stdout",
     "output_type": "stream",
     "text": [
      "AUC Score: 0.807650502126\n"
     ]
    }
   ],
   "source": [
    "svd_auc_score = AUC(np.array(svd_results[\"skipped\"]), np.array(svd_results[\"prediction\"]))\n",
    "print(\"AUC Score:\", svd_auc_score)"
   ]
  },
  {
   "cell_type": "code",
   "execution_count": 4,
   "metadata": {},
   "outputs": [
    {
     "data": {
      "text/plain": [
       "(1151142, 7)"
      ]
     },
     "execution_count": 4,
     "metadata": {},
     "output_type": "execute_result"
    }
   ],
   "source": [
    "np.shape(svd_results)"
   ]
  },
  {
   "cell_type": "markdown",
   "metadata": {
    "collapsed": true
   },
   "source": [
    "## Neural Network Results"
   ]
  },
  {
   "cell_type": "code",
   "execution_count": 5,
   "metadata": {
    "collapsed": true
   },
   "outputs": [],
   "source": [
    "nn_results = pd.read_csv(\"NNResults2.csv\")"
   ]
  },
  {
   "cell_type": "code",
   "execution_count": 6,
   "metadata": {},
   "outputs": [
    {
     "name": "stdout",
     "output_type": "stream",
     "text": [
      "AUC Score: 0.679825944415\n"
     ]
    }
   ],
   "source": [
    "nn_auc_score = AUC(np.array(nn_results[\"skipped\"]), np.array(nn_results[\"prediction\"]))\n",
    "print(\"AUC Score:\", nn_auc_score)"
   ]
  },
  {
   "cell_type": "code",
   "execution_count": 7,
   "metadata": {},
   "outputs": [
    {
     "data": {
      "text/plain": [
       "(1151204, 7)"
      ]
     },
     "execution_count": 7,
     "metadata": {},
     "output_type": "execute_result"
    }
   ],
   "source": [
    "np.shape(nn_results)"
   ]
  },
  {
   "cell_type": "code",
   "execution_count": 8,
   "metadata": {},
   "outputs": [
    {
     "data": {
      "text/plain": [
       "['artist-name',\n",
       " 'prediction',\n",
       " 'skipped',\n",
       " 'timestamp',\n",
       " 'track-name',\n",
       " 'userid',\n",
       " 'weekend']"
      ]
     },
     "execution_count": 8,
     "metadata": {},
     "output_type": "execute_result"
    }
   ],
   "source": [
    "list(nn_results)"
   ]
  },
  {
   "cell_type": "markdown",
   "metadata": {},
   "source": [
    "## Combined Results"
   ]
  },
  {
   "cell_type": "code",
   "execution_count": 9,
   "metadata": {
    "collapsed": true
   },
   "outputs": [],
   "source": [
    "combined_results = pd.merge(svd_results, nn_results, how=\"inner\",\n",
    "                            on = ['artist-name','skipped','timestamp','track-name','userid','weekend'],\n",
    "                           suffixes = [\"_svd\", \"_nn\"])"
   ]
  },
  {
   "cell_type": "code",
   "execution_count": 10,
   "metadata": {},
   "outputs": [
    {
     "data": {
      "text/plain": [
       "(1074514, 8)"
      ]
     },
     "execution_count": 10,
     "metadata": {},
     "output_type": "execute_result"
    }
   ],
   "source": [
    "np.shape(combined_results)"
   ]
  },
  {
   "cell_type": "code",
   "execution_count": 11,
   "metadata": {
    "scrolled": true
   },
   "outputs": [
    {
     "data": {
      "text/html": [
       "<div>\n",
       "<style>\n",
       "    .dataframe thead tr:only-child th {\n",
       "        text-align: right;\n",
       "    }\n",
       "\n",
       "    .dataframe thead th {\n",
       "        text-align: left;\n",
       "    }\n",
       "\n",
       "    .dataframe tbody tr th {\n",
       "        vertical-align: top;\n",
       "    }\n",
       "</style>\n",
       "<table border=\"1\" class=\"dataframe\">\n",
       "  <thead>\n",
       "    <tr style=\"text-align: right;\">\n",
       "      <th></th>\n",
       "      <th>userid</th>\n",
       "      <th>track-name</th>\n",
       "      <th>artist-name</th>\n",
       "      <th>weekend</th>\n",
       "      <th>timestamp</th>\n",
       "      <th>skipped</th>\n",
       "      <th>prediction_svd</th>\n",
       "      <th>prediction_nn</th>\n",
       "    </tr>\n",
       "  </thead>\n",
       "  <tbody>\n",
       "    <tr>\n",
       "      <th>0</th>\n",
       "      <td>user_000001</td>\n",
       "      <td>Monde</td>\n",
       "      <td>Hudson Mohawke</td>\n",
       "      <td>0</td>\n",
       "      <td>2009-02-16 11:11:10</td>\n",
       "      <td>0</td>\n",
       "      <td>0.034001</td>\n",
       "      <td>0.000031</td>\n",
       "    </tr>\n",
       "    <tr>\n",
       "      <th>1</th>\n",
       "      <td>user_000001</td>\n",
       "      <td>Overnight</td>\n",
       "      <td>Hudson Mohawke</td>\n",
       "      <td>0</td>\n",
       "      <td>2009-02-16 12:07:09</td>\n",
       "      <td>0</td>\n",
       "      <td>0.026386</td>\n",
       "      <td>0.000086</td>\n",
       "    </tr>\n",
       "    <tr>\n",
       "      <th>2</th>\n",
       "      <td>user_000001</td>\n",
       "      <td>Speed Stick</td>\n",
       "      <td>Hudson Mohawke</td>\n",
       "      <td>0</td>\n",
       "      <td>2009-02-16 12:09:58</td>\n",
       "      <td>0</td>\n",
       "      <td>0.023940</td>\n",
       "      <td>0.000070</td>\n",
       "    </tr>\n",
       "    <tr>\n",
       "      <th>3</th>\n",
       "      <td>user_000001</td>\n",
       "      <td>Velvet Peel</td>\n",
       "      <td>Hudson Mohawke</td>\n",
       "      <td>0</td>\n",
       "      <td>2009-02-16 12:12:03</td>\n",
       "      <td>0</td>\n",
       "      <td>0.023543</td>\n",
       "      <td>0.000064</td>\n",
       "    </tr>\n",
       "    <tr>\n",
       "      <th>4</th>\n",
       "      <td>user_000001</td>\n",
       "      <td>Yonard</td>\n",
       "      <td>Hudson Mohawke</td>\n",
       "      <td>0</td>\n",
       "      <td>2009-02-16 12:14:22</td>\n",
       "      <td>0</td>\n",
       "      <td>0.035618</td>\n",
       "      <td>0.000058</td>\n",
       "    </tr>\n",
       "  </tbody>\n",
       "</table>\n",
       "</div>"
      ],
      "text/plain": [
       "        userid   track-name     artist-name  weekend            timestamp  \\\n",
       "0  user_000001        Monde  Hudson Mohawke        0  2009-02-16 11:11:10   \n",
       "1  user_000001    Overnight  Hudson Mohawke        0  2009-02-16 12:07:09   \n",
       "2  user_000001  Speed Stick  Hudson Mohawke        0  2009-02-16 12:09:58   \n",
       "3  user_000001  Velvet Peel  Hudson Mohawke        0  2009-02-16 12:12:03   \n",
       "4  user_000001       Yonard  Hudson Mohawke        0  2009-02-16 12:14:22   \n",
       "\n",
       "   skipped  prediction_svd  prediction_nn  \n",
       "0        0        0.034001       0.000031  \n",
       "1        0        0.026386       0.000086  \n",
       "2        0        0.023940       0.000070  \n",
       "3        0        0.023543       0.000064  \n",
       "4        0        0.035618       0.000058  "
      ]
     },
     "execution_count": 11,
     "metadata": {},
     "output_type": "execute_result"
    }
   ],
   "source": [
    "combined_results.head()"
   ]
  },
  {
   "cell_type": "markdown",
   "metadata": {},
   "source": [
    "### Normalizing the probabilities of both models by scaled ranking"
   ]
  },
  {
   "cell_type": "code",
   "execution_count": 12,
   "metadata": {
    "collapsed": true
   },
   "outputs": [],
   "source": [
    "combined_results[\"prediction_svd_scaled\"] = combined_results[\"prediction_svd\"].rank() / combined_results.shape[0]\n",
    "combined_results[\"prediction_nn_scaled\"] = combined_results[\"prediction_nn\"].rank() / combined_results.shape[0]"
   ]
  },
  {
   "cell_type": "code",
   "execution_count": 13,
   "metadata": {},
   "outputs": [
    {
     "data": {
      "text/html": [
       "<div>\n",
       "<style>\n",
       "    .dataframe thead tr:only-child th {\n",
       "        text-align: right;\n",
       "    }\n",
       "\n",
       "    .dataframe thead th {\n",
       "        text-align: left;\n",
       "    }\n",
       "\n",
       "    .dataframe tbody tr th {\n",
       "        vertical-align: top;\n",
       "    }\n",
       "</style>\n",
       "<table border=\"1\" class=\"dataframe\">\n",
       "  <thead>\n",
       "    <tr style=\"text-align: right;\">\n",
       "      <th></th>\n",
       "      <th>userid</th>\n",
       "      <th>track-name</th>\n",
       "      <th>artist-name</th>\n",
       "      <th>weekend</th>\n",
       "      <th>timestamp</th>\n",
       "      <th>skipped</th>\n",
       "      <th>prediction_svd</th>\n",
       "      <th>prediction_nn</th>\n",
       "      <th>prediction_svd_scaled</th>\n",
       "      <th>prediction_nn_scaled</th>\n",
       "    </tr>\n",
       "  </thead>\n",
       "  <tbody>\n",
       "    <tr>\n",
       "      <th>0</th>\n",
       "      <td>user_000001</td>\n",
       "      <td>Monde</td>\n",
       "      <td>Hudson Mohawke</td>\n",
       "      <td>0</td>\n",
       "      <td>2009-02-16 11:11:10</td>\n",
       "      <td>0</td>\n",
       "      <td>0.034001</td>\n",
       "      <td>0.000031</td>\n",
       "      <td>0.881653</td>\n",
       "      <td>0.881157</td>\n",
       "    </tr>\n",
       "    <tr>\n",
       "      <th>1</th>\n",
       "      <td>user_000001</td>\n",
       "      <td>Overnight</td>\n",
       "      <td>Hudson Mohawke</td>\n",
       "      <td>0</td>\n",
       "      <td>2009-02-16 12:07:09</td>\n",
       "      <td>0</td>\n",
       "      <td>0.026386</td>\n",
       "      <td>0.000086</td>\n",
       "      <td>0.846324</td>\n",
       "      <td>0.885753</td>\n",
       "    </tr>\n",
       "    <tr>\n",
       "      <th>2</th>\n",
       "      <td>user_000001</td>\n",
       "      <td>Speed Stick</td>\n",
       "      <td>Hudson Mohawke</td>\n",
       "      <td>0</td>\n",
       "      <td>2009-02-16 12:09:58</td>\n",
       "      <td>0</td>\n",
       "      <td>0.023940</td>\n",
       "      <td>0.000070</td>\n",
       "      <td>0.830574</td>\n",
       "      <td>0.884768</td>\n",
       "    </tr>\n",
       "    <tr>\n",
       "      <th>3</th>\n",
       "      <td>user_000001</td>\n",
       "      <td>Velvet Peel</td>\n",
       "      <td>Hudson Mohawke</td>\n",
       "      <td>0</td>\n",
       "      <td>2009-02-16 12:12:03</td>\n",
       "      <td>0</td>\n",
       "      <td>0.023543</td>\n",
       "      <td>0.000064</td>\n",
       "      <td>0.828102</td>\n",
       "      <td>0.884328</td>\n",
       "    </tr>\n",
       "    <tr>\n",
       "      <th>4</th>\n",
       "      <td>user_000001</td>\n",
       "      <td>Yonard</td>\n",
       "      <td>Hudson Mohawke</td>\n",
       "      <td>0</td>\n",
       "      <td>2009-02-16 12:14:22</td>\n",
       "      <td>0</td>\n",
       "      <td>0.035618</td>\n",
       "      <td>0.000058</td>\n",
       "      <td>0.887119</td>\n",
       "      <td>0.883888</td>\n",
       "    </tr>\n",
       "  </tbody>\n",
       "</table>\n",
       "</div>"
      ],
      "text/plain": [
       "        userid   track-name     artist-name  weekend            timestamp  \\\n",
       "0  user_000001        Monde  Hudson Mohawke        0  2009-02-16 11:11:10   \n",
       "1  user_000001    Overnight  Hudson Mohawke        0  2009-02-16 12:07:09   \n",
       "2  user_000001  Speed Stick  Hudson Mohawke        0  2009-02-16 12:09:58   \n",
       "3  user_000001  Velvet Peel  Hudson Mohawke        0  2009-02-16 12:12:03   \n",
       "4  user_000001       Yonard  Hudson Mohawke        0  2009-02-16 12:14:22   \n",
       "\n",
       "   skipped  prediction_svd  prediction_nn  prediction_svd_scaled  \\\n",
       "0        0        0.034001       0.000031               0.881653   \n",
       "1        0        0.026386       0.000086               0.846324   \n",
       "2        0        0.023940       0.000070               0.830574   \n",
       "3        0        0.023543       0.000064               0.828102   \n",
       "4        0        0.035618       0.000058               0.887119   \n",
       "\n",
       "   prediction_nn_scaled  \n",
       "0              0.881157  \n",
       "1              0.885753  \n",
       "2              0.884768  \n",
       "3              0.884328  \n",
       "4              0.883888  "
      ]
     },
     "execution_count": 13,
     "metadata": {},
     "output_type": "execute_result"
    }
   ],
   "source": [
    "combined_results.head()"
   ]
  },
  {
   "cell_type": "markdown",
   "metadata": {},
   "source": [
    "## Weighted Averaging the models"
   ]
  },
  {
   "cell_type": "code",
   "execution_count": 14,
   "metadata": {
    "collapsed": true
   },
   "outputs": [],
   "source": [
    "svd_weights = np.linspace(0,1,21)"
   ]
  },
  {
   "cell_type": "code",
   "execution_count": 15,
   "metadata": {},
   "outputs": [
    {
     "data": {
      "text/plain": [
       "array([ 0.  ,  0.05,  0.1 ,  0.15,  0.2 ,  0.25,  0.3 ,  0.35,  0.4 ,\n",
       "        0.45,  0.5 ,  0.55,  0.6 ,  0.65,  0.7 ,  0.75,  0.8 ,  0.85,\n",
       "        0.9 ,  0.95,  1.  ])"
      ]
     },
     "execution_count": 15,
     "metadata": {},
     "output_type": "execute_result"
    }
   ],
   "source": [
    "svd_weights"
   ]
  },
  {
   "cell_type": "code",
   "execution_count": 16,
   "metadata": {
    "collapsed": true
   },
   "outputs": [],
   "source": [
    "nn_weights = 1 - svd_weights"
   ]
  },
  {
   "cell_type": "code",
   "execution_count": 17,
   "metadata": {
    "collapsed": true
   },
   "outputs": [],
   "source": [
    "ensemble_auc_scores = np.zeros(len(svd_weights))"
   ]
  },
  {
   "cell_type": "code",
   "execution_count": 18,
   "metadata": {},
   "outputs": [],
   "source": [
    "i = 0\n",
    "for svd, nn in zip(svd_weights, nn_weights):\n",
    "    ensemble_preds = svd * np.array(combined_results[\"prediction_svd_scaled\"]) + \\\n",
    "                      nn * np.array(combined_results[\"prediction_nn_scaled\"])\n",
    "    ensemble_auc_scores[i] = AUC(np.array(combined_results[\"skipped\"]), ensemble_preds)\n",
    "    i+=1\n",
    "    "
   ]
  },
  {
   "cell_type": "code",
   "execution_count": 19,
   "metadata": {},
   "outputs": [
    {
     "data": {
      "text/html": [
       "<div>\n",
       "<style>\n",
       "    .dataframe thead tr:only-child th {\n",
       "        text-align: right;\n",
       "    }\n",
       "\n",
       "    .dataframe thead th {\n",
       "        text-align: left;\n",
       "    }\n",
       "\n",
       "    .dataframe tbody tr th {\n",
       "        vertical-align: top;\n",
       "    }\n",
       "</style>\n",
       "<table border=\"1\" class=\"dataframe\">\n",
       "  <thead>\n",
       "    <tr style=\"text-align: right;\">\n",
       "      <th></th>\n",
       "      <th>Ensemble AUC</th>\n",
       "      <th>NN Weight</th>\n",
       "      <th>SVD++ Weight</th>\n",
       "    </tr>\n",
       "  </thead>\n",
       "  <tbody>\n",
       "    <tr>\n",
       "      <th>0</th>\n",
       "      <td>0.682390</td>\n",
       "      <td>1.00</td>\n",
       "      <td>0.00</td>\n",
       "    </tr>\n",
       "    <tr>\n",
       "      <th>1</th>\n",
       "      <td>0.762662</td>\n",
       "      <td>0.95</td>\n",
       "      <td>0.05</td>\n",
       "    </tr>\n",
       "    <tr>\n",
       "      <th>2</th>\n",
       "      <td>0.763540</td>\n",
       "      <td>0.90</td>\n",
       "      <td>0.10</td>\n",
       "    </tr>\n",
       "    <tr>\n",
       "      <th>3</th>\n",
       "      <td>0.764273</td>\n",
       "      <td>0.85</td>\n",
       "      <td>0.15</td>\n",
       "    </tr>\n",
       "    <tr>\n",
       "      <th>4</th>\n",
       "      <td>0.764855</td>\n",
       "      <td>0.80</td>\n",
       "      <td>0.20</td>\n",
       "    </tr>\n",
       "    <tr>\n",
       "      <th>5</th>\n",
       "      <td>0.765251</td>\n",
       "      <td>0.75</td>\n",
       "      <td>0.25</td>\n",
       "    </tr>\n",
       "    <tr>\n",
       "      <th>6</th>\n",
       "      <td>0.766057</td>\n",
       "      <td>0.70</td>\n",
       "      <td>0.30</td>\n",
       "    </tr>\n",
       "    <tr>\n",
       "      <th>7</th>\n",
       "      <td>0.769095</td>\n",
       "      <td>0.65</td>\n",
       "      <td>0.35</td>\n",
       "    </tr>\n",
       "    <tr>\n",
       "      <th>8</th>\n",
       "      <td>0.774347</td>\n",
       "      <td>0.60</td>\n",
       "      <td>0.40</td>\n",
       "    </tr>\n",
       "    <tr>\n",
       "      <th>9</th>\n",
       "      <td>0.781577</td>\n",
       "      <td>0.55</td>\n",
       "      <td>0.45</td>\n",
       "    </tr>\n",
       "    <tr>\n",
       "      <th>10</th>\n",
       "      <td>0.788736</td>\n",
       "      <td>0.50</td>\n",
       "      <td>0.50</td>\n",
       "    </tr>\n",
       "    <tr>\n",
       "      <th>11</th>\n",
       "      <td>0.794911</td>\n",
       "      <td>0.45</td>\n",
       "      <td>0.55</td>\n",
       "    </tr>\n",
       "    <tr>\n",
       "      <th>12</th>\n",
       "      <td>0.800118</td>\n",
       "      <td>0.40</td>\n",
       "      <td>0.60</td>\n",
       "    </tr>\n",
       "    <tr>\n",
       "      <th>13</th>\n",
       "      <td>0.804039</td>\n",
       "      <td>0.35</td>\n",
       "      <td>0.65</td>\n",
       "    </tr>\n",
       "    <tr>\n",
       "      <th>14</th>\n",
       "      <td>0.807011</td>\n",
       "      <td>0.30</td>\n",
       "      <td>0.70</td>\n",
       "    </tr>\n",
       "    <tr>\n",
       "      <th>15</th>\n",
       "      <td>0.809122</td>\n",
       "      <td>0.25</td>\n",
       "      <td>0.75</td>\n",
       "    </tr>\n",
       "    <tr>\n",
       "      <th>16</th>\n",
       "      <td>0.810545</td>\n",
       "      <td>0.20</td>\n",
       "      <td>0.80</td>\n",
       "    </tr>\n",
       "    <tr>\n",
       "      <th>17</th>\n",
       "      <td>0.811336</td>\n",
       "      <td>0.15</td>\n",
       "      <td>0.85</td>\n",
       "    </tr>\n",
       "    <tr>\n",
       "      <th>18</th>\n",
       "      <td>0.811689</td>\n",
       "      <td>0.10</td>\n",
       "      <td>0.90</td>\n",
       "    </tr>\n",
       "    <tr>\n",
       "      <th>19</th>\n",
       "      <td>0.811357</td>\n",
       "      <td>0.05</td>\n",
       "      <td>0.95</td>\n",
       "    </tr>\n",
       "    <tr>\n",
       "      <th>20</th>\n",
       "      <td>0.809422</td>\n",
       "      <td>0.00</td>\n",
       "      <td>1.00</td>\n",
       "    </tr>\n",
       "  </tbody>\n",
       "</table>\n",
       "</div>"
      ],
      "text/plain": [
       "    Ensemble AUC  NN Weight  SVD++ Weight\n",
       "0       0.682390       1.00          0.00\n",
       "1       0.762662       0.95          0.05\n",
       "2       0.763540       0.90          0.10\n",
       "3       0.764273       0.85          0.15\n",
       "4       0.764855       0.80          0.20\n",
       "5       0.765251       0.75          0.25\n",
       "6       0.766057       0.70          0.30\n",
       "7       0.769095       0.65          0.35\n",
       "8       0.774347       0.60          0.40\n",
       "9       0.781577       0.55          0.45\n",
       "10      0.788736       0.50          0.50\n",
       "11      0.794911       0.45          0.55\n",
       "12      0.800118       0.40          0.60\n",
       "13      0.804039       0.35          0.65\n",
       "14      0.807011       0.30          0.70\n",
       "15      0.809122       0.25          0.75\n",
       "16      0.810545       0.20          0.80\n",
       "17      0.811336       0.15          0.85\n",
       "18      0.811689       0.10          0.90\n",
       "19      0.811357       0.05          0.95\n",
       "20      0.809422       0.00          1.00"
      ]
     },
     "execution_count": 19,
     "metadata": {},
     "output_type": "execute_result"
    }
   ],
   "source": [
    "pd.DataFrame({\"SVD++ Weight\": svd_weights, \"NN Weight\": nn_weights, \"Ensemble AUC\": ensemble_auc_scores})"
   ]
  },
  {
   "cell_type": "code",
   "execution_count": 20,
   "metadata": {
    "collapsed": true
   },
   "outputs": [],
   "source": [
    "import matplotlib.pyplot as plt"
   ]
  },
  {
   "cell_type": "code",
   "execution_count": 24,
   "metadata": {},
   "outputs": [
    {
     "data": {
      "image/png": "[encoded data removed]",
      "text/plain": [
       "<matplotlib.figure.Figure at 0x10b56afd0>"
      ]
     },
     "metadata": {},
     "output_type": "display_data"
    }
   ],
   "source": [
    "plt.plot(svd_weights, ensemble_auc_scores, '-ko')\n",
    "plt.xlabel('SVD++ contribution')\n",
    "plt.ylabel('Test AUC')\n",
    "plt.title(\"AUC vs SVD++ contribution in ensemble\")\n",
    "plt.show()\n"
   ]
  },
  {
   "cell_type": "markdown",
   "metadata": {},
   "source": [
    "### Optimum ensemble is obtained at SVD++: 90% and NN: 10%"
   ]
  }
 ],
 "metadata": {
  "kernelspec": {
   "display_name": "Python 3",
   "language": "python",
   "name": "python3"
  },
  "language_info": {
   "codemirror_mode": {
    "name": "ipython",
    "version": 3
   },
   "file_extension": ".py",
   "mimetype": "text/x-python",
   "name": "python",
   "nbconvert_exporter": "python",
   "pygments_lexer": "ipython3",
   "version": "3.6.3"
  }
 },
 "nbformat": 4,
 "nbformat_minor": 2
}
