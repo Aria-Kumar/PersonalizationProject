{
 "cells": [
  {
   "cell_type": "code",
   "execution_count": null,
   "metadata": {
    "collapsed": true
   },
   "outputs": [],
   "source": [
    "import pandas as pd\n",
    "import numpy as np\n",
    "import datetime\n",
    "#from itertools import product\n",
    "from scipy.sparse.linalg import svds\n",
    "\n",
    "from surprise import Reader, Dataset, evaluate, print_perf, GridSearch\n",
    "from surprise import SVD, SVDpp, Prediction, accuracy"
   ]
  },
  {
   "cell_type": "code",
   "execution_count": null,
   "metadata": {},
   "outputs": [],
   "source": [
    "data = pd.read_csv('data_engineered_features500.csv', nrows=60018, encoding = \"ISO-8859-1\")\n",
    "#data = data.query(\"userid == ['user_000001','user_000002','user_000003','user_000004','user_000005']\")\n",
    "\n",
    "data.rename(columns={'track-name':'track',\n",
    "                     'artist-name':'artist',\n",
    "                     'track-total-count':'trackcount',\n",
    "                     'track-weekday-daytime-count':'trackweekdaydaytimecount',\n",
    "                     'artist-total-count':'artistcount',\n",
    "                     'artist-weekday-daytime-count':'artistweekdaydaytimecount'}, inplace=True)\n",
    "\n",
    "data.drop(['timestamp', 'songlength', 'last-seen-song', 'last-seen-artist', 'gender', 'age'], axis=1, inplace=True)\n",
    "data = data[[c for c in data if c not in ['skipped']] + ['skipped']]"
   ]
  },
  {
   "cell_type": "code",
   "execution_count": null,
   "metadata": {},
   "outputs": [],
   "source": [
    "data.dtypes"
   ]
  },
  {
   "cell_type": "markdown",
   "metadata": {},
   "source": [
    "## Weekend Period"
   ]
  },
  {
   "cell_type": "code",
   "execution_count": null,
   "metadata": {
    "collapsed": true
   },
   "outputs": [],
   "source": [
    "df = data[['userid', 'track', 'artist', 'weekend', 'skipped']].copy()\n",
    "\n",
    "# merge track and artist to one column, so that\n",
    "# when doing combinations, we don't have every track with every artist\n",
    "df['trackartist'] = df['track']+'___'+df['artist']\n",
    "df['trackartist_weekend'] = df['trackartist']+'___'+df['weekend'].map(str)\n",
    "df.drop(['track', 'artist', 'weekend', 'trackartist'], axis=1, inplace=True)\n",
    "\n",
    "# find rate at which users skip songs by weekend status\n",
    "df = df.groupby(['userid', 'trackartist_weekend'], as_index=False).mean()"
   ]
  },
  {
   "cell_type": "code",
   "execution_count": null,
   "metadata": {},
   "outputs": [],
   "source": [
    "df.head()"
   ]
  },
  {
   "cell_type": "markdown",
   "metadata": {},
   "source": [
    "### Model"
   ]
  },
  {
   "cell_type": "code",
   "execution_count": null,
   "metadata": {},
   "outputs": [],
   "source": [
    "reader = Reader(rating_scale=(0, 1))\n",
    "\n",
    "# The columns must correspond to user id, item id and ratings (in that order).\n",
    "model_data = Dataset.load_from_df(dense_data[['userid','trackartist_weekend','skipped']], reader)\n",
    "model_data.split(n_folds=3)\n",
    "\n",
    "# Specify algorithm\n",
    "algo = SVDpp()\n",
    "\n",
    "# Evaluate performances of our algorithm on the dataset.\n",
    "perf = evaluate(algo, model_data, measures=['RMSE', 'MAE'])\n",
    "\n",
    "# predictions = predict(data['userid'], data['artistname'], data['plays'])\n",
    "print_perf(perf)"
   ]
  },
  {
   "cell_type": "code",
   "execution_count": null,
   "metadata": {},
   "outputs": [],
   "source": [
    "reader = Reader(rating_scale=(0, 1))\n",
    "algo = SVDpp()\n",
    "\n",
    "model_data = Dataset.load_from_df(df[['userid','trackartist_weekend','skipped']], reader)\n",
    "model_data.split(n_folds=3)\n",
    "\n",
    "# Evaluate performances of our algorithm on the dataset.\n",
    "perf = evaluate(algo, model_data, measures=['RMSE', 'MAE'])\n",
    "\n",
    "# predictions = predict(data['userid'], data['artistname'], data['plays'])\n",
    "print_perf(perf)"
   ]
  },
  {
   "cell_type": "markdown",
   "metadata": {},
   "source": [
    "## Weekday Period"
   ]
  },
  {
   "cell_type": "code",
   "execution_count": null,
   "metadata": {
    "collapsed": true
   },
   "outputs": [],
   "source": [
    "df2 = data[['userid', 'track', 'artist', 'weekday', 'skipped']].copy()\n",
    "\n",
    "# merge track and artist to one column, so that\n",
    "# when doing combinations, we don't have every track with every artist\n",
    "df2['trackartist'] = df2['track']+'___'+df2['artist']\n",
    "df2['trackartist_weekday'] = df2['trackartist']+'___'+df2['weekday'].map(str)\n",
    "df2.drop(['track', 'artist', 'weekday', 'trackartist'], axis=1, inplace=True)\n",
    "\n",
    "# find rate at which users skip songs by weekend status\n",
    "df2 = df2.groupby(['userid', 'trackartist_weekday'], as_index=False).mean()"
   ]
  },
  {
   "cell_type": "code",
   "execution_count": null,
   "metadata": {},
   "outputs": [],
   "source": [
    "model3_data = Dataset.load_from_df(df2[['userid','trackartist_weekday','skipped']], reader)\n",
    "model3_data.split(n_folds=3)\n",
    "\n",
    "# Evaluate performances of our algorithm on the dataset.\n",
    "perf3 = evaluate(algo, model3_data, measures=['RMSE', 'MAE'])\n",
    "\n",
    "# predictions = predict(data['userid'], data['artistname'], data['plays'])\n",
    "print_perf(perf3)"
   ]
  }
 ],
 "metadata": {
  "kernelspec": {
   "display_name": "Python 3",
   "language": "python",
   "name": "python3"
  },
  "language_info": {
   "codemirror_mode": {
    "name": "ipython",
    "version": 3
   },
   "file_extension": ".py",
   "mimetype": "text/x-python",
   "name": "python",
   "nbconvert_exporter": "python",
   "pygments_lexer": "ipython3",
   "version": "3.6.3"
  }
 },
 "nbformat": 4,
 "nbformat_minor": 2
}
