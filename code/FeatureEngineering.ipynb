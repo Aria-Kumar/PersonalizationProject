{
 "cells": [
  {
   "cell_type": "code",
   "execution_count": 1,
   "metadata": {
    "collapsed": true
   },
   "outputs": [],
   "source": [
    "import os\n",
    "import pandas as pd\n",
    "import matplotlib.pyplot as plt\n",
    "import seaborn as sns\n",
    "import numpy\n",
    "import datetime\n",
    "import numpy as np"
   ]
  },
  {
   "cell_type": "markdown",
   "metadata": {},
   "source": [
    "### Read Data"
   ]
  },
  {
   "cell_type": "code",
   "execution_count": 2,
   "metadata": {
    "collapsed": true
   },
   "outputs": [],
   "source": [
    "data = pd.read_csv(\"./lastfm-dataset-1K/userid-timestamp-artid-artname-traid-traname.tsv\", \n",
    "                   delimiter=\"\\t\", header=None, \n",
    "                   names = [\"userid\",\"timestamp\",\"musicbrainz-artist-id\",\n",
    "                            \"artist-name\",\"musicbrainz-track-id\",\"track-name\"])\n"
   ]
  },
  {
   "cell_type": "code",
   "execution_count": 3,
   "metadata": {
    "collapsed": true
   },
   "outputs": [],
   "source": [
    "user_profiles = pd.read_csv(\"./lastfm-dataset-1K/userid-profile.tsv\", delimiter = \"\\t\")\n",
    "user_profiles.columns = [\"userid\", \"gender\",\"age\",\"country\",\"registered\"]\n",
    "user_profiles.drop([\"country\", \"registered\"], axis=1, inplace=True)"
   ]
  },
  {
   "cell_type": "markdown",
   "metadata": {},
   "source": [
    "### Make timestamps, days of week, hours. Sort by time and users"
   ]
  },
  {
   "cell_type": "code",
   "execution_count": 4,
   "metadata": {
    "collapsed": true
   },
   "outputs": [],
   "source": [
    "data = data.rename(columns={0:'userid', 1:'timestamp', 2:'artistid', 3:'artistname', 4:'trackid', 5:'trackname'})\n",
    "data['timestamp'] = pd.to_datetime(data['timestamp'])"
   ]
  },
  {
   "cell_type": "code",
   "execution_count": 5,
   "metadata": {
    "collapsed": true
   },
   "outputs": [],
   "source": [
    "data['weekday'] = data['timestamp'].dt.weekday_name.astype('category',\n",
    "                                                           categories=[\"Sunday\",\"Monday\",\"Tuesday\",\"Wednesday\",\n",
    "                                                                       \"Thursday\",\"Friday\",\"Saturday\"],\n",
    "                                                           ordered=True)\n",
    "data['hour'] = data['timestamp'].dt.hour\n"
   ]
  },
  {
   "cell_type": "code",
   "execution_count": 6,
   "metadata": {
    "collapsed": true
   },
   "outputs": [],
   "source": [
    "data = data.sort_values(['userid', 'timestamp'], ascending=[True, True])"
   ]
  },
  {
   "cell_type": "markdown",
   "metadata": {},
   "source": [
    "### Time of day (morning, noon etc)"
   ]
  },
  {
   "cell_type": "code",
   "execution_count": 7,
   "metadata": {
    "collapsed": true
   },
   "outputs": [],
   "source": [
    "data['weekend'] = 0 \n",
    "data.loc[data['weekday'].isin(['Saturday', 'Sunday']), 'weekend'] = 1\n",
    "\n",
    "# data['timestamp'] = pd.to_datetime(data['timestamp'])\n",
    "# data_user['hour'] = data_user['timestamp'].dt.hour\n",
    "\n",
    "data['daytime'] = 0\n",
    "data.loc[(data['hour'] >= 0) & (data['hour'] <= 3), 'daytime'] = 0\n",
    "data.loc[(data['hour'] > 3) & (data['hour'] <= 5), 'daytime'] = 1\n",
    "data.loc[(data['hour'] > 5) & (data['hour'] <= 11), 'daytime'] = 2\n",
    "data.loc[(data['hour'] > 11) & (data['hour'] <= 19), 'daytime'] = 3\n",
    "data.loc[(data['hour'] > 19) & (data['hour'] <= 23), 'daytime'] = 4"
   ]
  },
  {
   "cell_type": "markdown",
   "metadata": {},
   "source": [
    "### count of how many times an SONG was listened to in given day and time"
   ]
  },
  {
   "cell_type": "code",
   "execution_count": 8,
   "metadata": {
    "collapsed": true
   },
   "outputs": [],
   "source": [
    "data['counted'] = 1\n",
    "\n",
    "#data_user_counted = data.groupby(['userid','track-name', 'daytime', 'weekend'])['counted'].count().reset_index()\n",
    "#data_user_counted.columns = ['userid','track-name', 'daytime', 'weekend', 'track-weekday-daytime-count']\n",
    "\n",
    "data['user-track-total-count'] = data.groupby(['userid','track-name']).cumcount() + 1\n",
    "data['track-weekday-count'] = data.groupby(['userid','track-name', 'weekend']).cumcount() + 1\n",
    "data['track-daytime-count'] = data.groupby(['userid','track-name', 'daytime']).cumcount() + 1\n",
    "\n",
    "#data = pd.merge(data, data_user_counted, on = ['userid','track-name', 'daytime', 'weekend'], how = 'left')"
   ]
  },
  {
   "cell_type": "markdown",
   "metadata": {},
   "source": [
    "### Determine how long a song was played and when was it last played"
   ]
  },
  {
   "cell_type": "code",
   "execution_count": 9,
   "metadata": {
    "collapsed": true
   },
   "outputs": [],
   "source": [
    "data['songlength'] = data.groupby('userid')['timestamp'].diff()\n",
    "data['last-seen-song'] = data.groupby(['track-name'])['timestamp'].diff()\n",
    "data['last-seen-song'] = data['last-seen-song'].dt.total_seconds() / (24 * 60 * 60)"
   ]
  },
  {
   "cell_type": "markdown",
   "metadata": {},
   "source": [
    "### Quarters of the year"
   ]
  },
  {
   "cell_type": "code",
   "execution_count": 10,
   "metadata": {
    "collapsed": true
   },
   "outputs": [],
   "source": [
    "data['month'] = data['timestamp'].dt.month\n",
    "data['quarter'] = 1\n",
    "data.loc[(data['month'] > 3) & (data['month'] <= 6), 'quarter'] = 2\n",
    "data.loc[(data['month'] > 6) & (data['month'] <= 9), 'quarter'] = 3\n",
    "data.loc[(data['month'] > 9) & (data['month'] <= 12), 'quarter'] = 4"
   ]
  },
  {
   "cell_type": "markdown",
   "metadata": {},
   "source": [
    "## SKIPS variable - The independent variable"
   ]
  },
  {
   "cell_type": "code",
   "execution_count": 11,
   "metadata": {
    "collapsed": true
   },
   "outputs": [],
   "source": [
    "data['skipped'] = (data.songlength  < datetime.timedelta(minutes=1)).astype('int')"
   ]
  },
  {
   "cell_type": "markdown",
   "metadata": {},
   "source": [
    "### count of how many times an ARTIST was listened to in given day and time"
   ]
  },
  {
   "cell_type": "code",
   "execution_count": 12,
   "metadata": {
    "collapsed": true
   },
   "outputs": [],
   "source": [
    "#data_user_counted = data.groupby(['userid','artist-name', 'daytime', 'weekend'])['counted'].count().reset_index()\n",
    "#data_user_counted.columns = ['userid','artist-name', 'daytime', 'weekend', 'artist-weekday-daytime-count']\n",
    "\n",
    "data['user-artist-count'] = data.groupby(['userid','artist-name']).cumcount() + 1\n",
    "data['user-artist-weekday-daytime-count'] = data.groupby(['userid','artist-name', 'daytime', 'weekend']).cumcount() + 1\n",
    "\n",
    "#data = pd.merge(data, data_user_counted, on = ['userid','artist-name', 'daytime', 'weekend'], how = 'left')"
   ]
  },
  {
   "cell_type": "markdown",
   "metadata": {},
   "source": [
    "### Determine when an artist was last played"
   ]
  },
  {
   "cell_type": "code",
   "execution_count": 13,
   "metadata": {
    "collapsed": true
   },
   "outputs": [],
   "source": [
    "data['last-seen-artist'] = data.groupby(['artist-name'])['timestamp'].diff()\n",
    "data['last-seen-artist'] = data['last-seen-artist'].dt.total_seconds() / (24 * 60 * 60)"
   ]
  },
  {
   "cell_type": "markdown",
   "metadata": {},
   "source": [
    "### Merge user metadata"
   ]
  },
  {
   "cell_type": "code",
   "execution_count": 14,
   "metadata": {
    "collapsed": true
   },
   "outputs": [],
   "source": [
    "data = pd.merge(data, user_profiles, on = ['userid'], how = 'left')"
   ]
  },
  {
   "cell_type": "code",
   "execution_count": 15,
   "metadata": {
    "collapsed": true
   },
   "outputs": [],
   "source": [
    "data.drop([\"musicbrainz-artist-id\", \"musicbrainz-track-id\",\"counted\"], axis=1, inplace=True)"
   ]
  },
  {
   "cell_type": "markdown",
   "metadata": {},
   "source": [
    "### Convert days into numerical values (Mon = 0, Sun = 6)"
   ]
  },
  {
   "cell_type": "code",
   "execution_count": 16,
   "metadata": {
    "collapsed": true
   },
   "outputs": [],
   "source": [
    "data['weekday'] = data['timestamp'].dt.dayofweek"
   ]
  },
  {
   "cell_type": "markdown",
   "metadata": {},
   "source": [
    "### Does the user skip songs at all?"
   ]
  },
  {
   "cell_type": "code",
   "execution_count": 17,
   "metadata": {
    "collapsed": true
   },
   "outputs": [],
   "source": [
    "data = data.sort_values(['userid', 'timestamp'], ascending=[True, True])\n",
    "data['user-song-skips'] = data.groupby(['userid', 'track-name'])['skipped'].cumsum()\n",
    "data['user-song-skip-percentage'] = data['user-song-skips']/data['user-track-total-count']\n",
    "data['user-artist-skips'] = data.groupby(['userid', 'artist-name'])['skipped'].cumsum()\n",
    "data['user-artist-skip-percentage'] = data['user-artist-skips']/data['user-artist-count']\n"
   ]
  },
  {
   "cell_type": "markdown",
   "metadata": {},
   "source": [
    "### Song popularities (based on skips)"
   ]
  },
  {
   "cell_type": "code",
   "execution_count": 19,
   "metadata": {},
   "outputs": [],
   "source": [
    "data['global-song-skips'] = data.groupby(['track-name'])['skipped'].cumsum()\n",
    "data['global-artist-skips'] = data.groupby(['artist-name'])['skipped'].cumsum()\n",
    "\n",
    "data['artist_total_count'] = data.groupby(['artist-name']).cumcount() + 1\n",
    "data['song_total_count'] = data.groupby(['track-name']).cumcount() + 1\n",
    "\n",
    "data['global-song-skip-percentage'] = data['global-song-skips']/data['song_total_count']\n",
    "data['global-artist-skip-percentage'] = data['global-artist-skips']/data['song_total_count']\n"
   ]
  },
  {
   "cell_type": "markdown",
   "metadata": {},
   "source": [
    "### Pick top 1000 song for each user"
   ]
  },
  {
   "cell_type": "code",
   "execution_count": 20,
   "metadata": {
    "collapsed": true
   },
   "outputs": [],
   "source": [
    "songs = data.groupby(['userid', 'track-name', 'artist-name']).size().reset_index(name=\"count\")\n"
   ]
  },
  {
   "cell_type": "code",
   "execution_count": 21,
   "metadata": {
    "collapsed": true
   },
   "outputs": [],
   "source": [
    "top1000 = songs.groupby(['userid'])['track-name','artist-name','count'].apply(lambda grp: grp.nlargest(1000, 'count')).reset_index()\n"
   ]
  },
  {
   "cell_type": "code",
   "execution_count": 22,
   "metadata": {},
   "outputs": [
    {
     "data": {
      "text/html": [
       "<div>\n",
       "<style>\n",
       "    .dataframe thead tr:only-child th {\n",
       "        text-align: right;\n",
       "    }\n",
       "\n",
       "    .dataframe thead th {\n",
       "        text-align: left;\n",
       "    }\n",
       "\n",
       "    .dataframe tbody tr th {\n",
       "        vertical-align: top;\n",
       "    }\n",
       "</style>\n",
       "<table border=\"1\" class=\"dataframe\">\n",
       "  <thead>\n",
       "    <tr style=\"text-align: right;\">\n",
       "      <th></th>\n",
       "      <th>userid</th>\n",
       "      <th>level_1</th>\n",
       "      <th>track-name</th>\n",
       "      <th>artist-name</th>\n",
       "      <th>count</th>\n",
       "    </tr>\n",
       "  </thead>\n",
       "  <tbody>\n",
       "    <tr>\n",
       "      <th>0</th>\n",
       "      <td>user_000001</td>\n",
       "      <td>1654</td>\n",
       "      <td>Music</td>\n",
       "      <td>Cornelius</td>\n",
       "      <td>70</td>\n",
       "    </tr>\n",
       "    <tr>\n",
       "      <th>1</th>\n",
       "      <td>user_000001</td>\n",
       "      <td>998</td>\n",
       "      <td>Gum</td>\n",
       "      <td>Cornelius</td>\n",
       "      <td>63</td>\n",
       "    </tr>\n",
       "    <tr>\n",
       "      <th>2</th>\n",
       "      <td>user_000001</td>\n",
       "      <td>1525</td>\n",
       "      <td>Mario Basanov &amp; Vidis ‘Test’</td>\n",
       "      <td>Gilles Peterson</td>\n",
       "      <td>52</td>\n",
       "    </tr>\n",
       "    <tr>\n",
       "      <th>3</th>\n",
       "      <td>user_000001</td>\n",
       "      <td>441</td>\n",
       "      <td>Child Song</td>\n",
       "      <td>The Cinematic Orchestra</td>\n",
       "      <td>45</td>\n",
       "    </tr>\n",
       "    <tr>\n",
       "      <th>4</th>\n",
       "      <td>user_000001</td>\n",
       "      <td>1051</td>\n",
       "      <td>Hibari</td>\n",
       "      <td>坂本龍一</td>\n",
       "      <td>42</td>\n",
       "    </tr>\n",
       "  </tbody>\n",
       "</table>\n",
       "</div>"
      ],
      "text/plain": [
       "        userid  level_1                    track-name  \\\n",
       "0  user_000001     1654                         Music   \n",
       "1  user_000001      998                           Gum   \n",
       "2  user_000001     1525  Mario Basanov & Vidis ‘Test’   \n",
       "3  user_000001      441                    Child Song   \n",
       "4  user_000001     1051                        Hibari   \n",
       "\n",
       "               artist-name  count  \n",
       "0                Cornelius     70  \n",
       "1                Cornelius     63  \n",
       "2          Gilles Peterson     52  \n",
       "3  The Cinematic Orchestra     45  \n",
       "4                     坂本龍一     42  "
      ]
     },
     "execution_count": 22,
     "metadata": {},
     "output_type": "execute_result"
    }
   ],
   "source": [
    "top1000.head()"
   ]
  },
  {
   "cell_type": "code",
   "execution_count": 23,
   "metadata": {
    "collapsed": true
   },
   "outputs": [],
   "source": [
    "top1000.drop([\"level_1\", \"count\"], axis=1, inplace=True)\n",
    "data_subset = pd.merge(top1000, data, on = ['userid','track-name', 'artist-name'], how = 'left')"
   ]
  },
  {
   "cell_type": "code",
   "execution_count": null,
   "metadata": {
    "collapsed": true
   },
   "outputs": [],
   "source": []
  },
  {
   "cell_type": "code",
   "execution_count": 24,
   "metadata": {},
   "outputs": [
    {
     "name": "stdout",
     "output_type": "stream",
     "text": [
      "(19098862, 31)\n",
      "(10543035, 31)\n"
     ]
    }
   ],
   "source": [
    "print(np.shape(data))\n",
    "print(np.shape(data_subset))"
   ]
  },
  {
   "cell_type": "code",
   "execution_count": 25,
   "metadata": {
    "collapsed": true
   },
   "outputs": [],
   "source": [
    "data_subset = data_subset.sort_values(['userid', 'timestamp'], ascending=[True, True])"
   ]
  },
  {
   "cell_type": "code",
   "execution_count": 26,
   "metadata": {},
   "outputs": [
    {
     "data": {
      "text/html": [
       "<div>\n",
       "<style>\n",
       "    .dataframe thead tr:only-child th {\n",
       "        text-align: right;\n",
       "    }\n",
       "\n",
       "    .dataframe thead th {\n",
       "        text-align: left;\n",
       "    }\n",
       "\n",
       "    .dataframe tbody tr th {\n",
       "        vertical-align: top;\n",
       "    }\n",
       "</style>\n",
       "<table border=\"1\" class=\"dataframe\">\n",
       "  <thead>\n",
       "    <tr style=\"text-align: right;\">\n",
       "      <th></th>\n",
       "      <th>userid</th>\n",
       "      <th>track-name</th>\n",
       "      <th>artist-name</th>\n",
       "      <th>timestamp</th>\n",
       "      <th>weekday</th>\n",
       "      <th>hour</th>\n",
       "      <th>weekend</th>\n",
       "      <th>daytime</th>\n",
       "      <th>user-track-total-count</th>\n",
       "      <th>track-weekday-count</th>\n",
       "      <th>...</th>\n",
       "      <th>user-song-skips</th>\n",
       "      <th>user-song-skip-percentage</th>\n",
       "      <th>user-artist-skips</th>\n",
       "      <th>user-artist-skip-percentage</th>\n",
       "      <th>global-song-skips</th>\n",
       "      <th>global-artist-skips</th>\n",
       "      <th>artist_total_count</th>\n",
       "      <th>song_total_count</th>\n",
       "      <th>global-song-skip-percentage</th>\n",
       "      <th>global-artist-skip-percentage</th>\n",
       "    </tr>\n",
       "  </thead>\n",
       "  <tbody>\n",
       "    <tr>\n",
       "      <th>8512</th>\n",
       "      <td>user_000001</td>\n",
       "      <td>The Launching Of Big Face</td>\n",
       "      <td>Plaid &amp; Bob Jaroc</td>\n",
       "      <td>2006-08-13 13:59:20</td>\n",
       "      <td>6</td>\n",
       "      <td>13</td>\n",
       "      <td>1</td>\n",
       "      <td>3</td>\n",
       "      <td>1</td>\n",
       "      <td>1</td>\n",
       "      <td>...</td>\n",
       "      <td>0</td>\n",
       "      <td>0.0</td>\n",
       "      <td>0</td>\n",
       "      <td>0.000000</td>\n",
       "      <td>0</td>\n",
       "      <td>0</td>\n",
       "      <td>1</td>\n",
       "      <td>1</td>\n",
       "      <td>0.0</td>\n",
       "      <td>0.0</td>\n",
       "    </tr>\n",
       "    <tr>\n",
       "      <th>7890</th>\n",
       "      <td>user_000001</td>\n",
       "      <td>Zn Zero</td>\n",
       "      <td>Plaid &amp; Bob Jaroc</td>\n",
       "      <td>2006-08-13 14:03:29</td>\n",
       "      <td>6</td>\n",
       "      <td>14</td>\n",
       "      <td>1</td>\n",
       "      <td>3</td>\n",
       "      <td>1</td>\n",
       "      <td>1</td>\n",
       "      <td>...</td>\n",
       "      <td>0</td>\n",
       "      <td>0.0</td>\n",
       "      <td>0</td>\n",
       "      <td>0.000000</td>\n",
       "      <td>0</td>\n",
       "      <td>0</td>\n",
       "      <td>2</td>\n",
       "      <td>1</td>\n",
       "      <td>0.0</td>\n",
       "      <td>0.0</td>\n",
       "    </tr>\n",
       "    <tr>\n",
       "      <th>3782</th>\n",
       "      <td>user_000001</td>\n",
       "      <td>The Return Of Super Barrio - End Credits</td>\n",
       "      <td>Plaid &amp; Bob Jaroc</td>\n",
       "      <td>2006-08-13 14:10:43</td>\n",
       "      <td>6</td>\n",
       "      <td>14</td>\n",
       "      <td>1</td>\n",
       "      <td>3</td>\n",
       "      <td>1</td>\n",
       "      <td>1</td>\n",
       "      <td>...</td>\n",
       "      <td>0</td>\n",
       "      <td>0.0</td>\n",
       "      <td>0</td>\n",
       "      <td>0.000000</td>\n",
       "      <td>0</td>\n",
       "      <td>0</td>\n",
       "      <td>3</td>\n",
       "      <td>1</td>\n",
       "      <td>0.0</td>\n",
       "      <td>0.0</td>\n",
       "    </tr>\n",
       "    <tr>\n",
       "      <th>3101</th>\n",
       "      <td>user_000001</td>\n",
       "      <td>Dayvan Cowboy</td>\n",
       "      <td>Boards Of Canada</td>\n",
       "      <td>2006-08-13 15:44:17</td>\n",
       "      <td>6</td>\n",
       "      <td>15</td>\n",
       "      <td>1</td>\n",
       "      <td>3</td>\n",
       "      <td>1</td>\n",
       "      <td>1</td>\n",
       "      <td>...</td>\n",
       "      <td>0</td>\n",
       "      <td>0.0</td>\n",
       "      <td>0</td>\n",
       "      <td>0.000000</td>\n",
       "      <td>0</td>\n",
       "      <td>0</td>\n",
       "      <td>1</td>\n",
       "      <td>1</td>\n",
       "      <td>0.0</td>\n",
       "      <td>0.0</td>\n",
       "    </tr>\n",
       "    <tr>\n",
       "      <th>5295</th>\n",
       "      <td>user_000001</td>\n",
       "      <td>A Moment Of Clarity</td>\n",
       "      <td>Boards Of Canada</td>\n",
       "      <td>2006-08-13 16:46:52</td>\n",
       "      <td>6</td>\n",
       "      <td>16</td>\n",
       "      <td>1</td>\n",
       "      <td>3</td>\n",
       "      <td>1</td>\n",
       "      <td>1</td>\n",
       "      <td>...</td>\n",
       "      <td>1</td>\n",
       "      <td>1.0</td>\n",
       "      <td>1</td>\n",
       "      <td>0.333333</td>\n",
       "      <td>1</td>\n",
       "      <td>1</td>\n",
       "      <td>3</td>\n",
       "      <td>1</td>\n",
       "      <td>1.0</td>\n",
       "      <td>1.0</td>\n",
       "    </tr>\n",
       "  </tbody>\n",
       "</table>\n",
       "<p>5 rows × 31 columns</p>\n",
       "</div>"
      ],
      "text/plain": [
       "           userid                                track-name  \\\n",
       "8512  user_000001                 The Launching Of Big Face   \n",
       "7890  user_000001                                   Zn Zero   \n",
       "3782  user_000001  The Return Of Super Barrio - End Credits   \n",
       "3101  user_000001                             Dayvan Cowboy   \n",
       "5295  user_000001                       A Moment Of Clarity   \n",
       "\n",
       "            artist-name           timestamp  weekday  hour  weekend  daytime  \\\n",
       "8512  Plaid & Bob Jaroc 2006-08-13 13:59:20        6    13        1        3   \n",
       "7890  Plaid & Bob Jaroc 2006-08-13 14:03:29        6    14        1        3   \n",
       "3782  Plaid & Bob Jaroc 2006-08-13 14:10:43        6    14        1        3   \n",
       "3101   Boards Of Canada 2006-08-13 15:44:17        6    15        1        3   \n",
       "5295   Boards Of Canada 2006-08-13 16:46:52        6    16        1        3   \n",
       "\n",
       "      user-track-total-count  track-weekday-count  \\\n",
       "8512                       1                    1   \n",
       "7890                       1                    1   \n",
       "3782                       1                    1   \n",
       "3101                       1                    1   \n",
       "5295                       1                    1   \n",
       "\n",
       "                  ...               user-song-skips user-song-skip-percentage  \\\n",
       "8512              ...                             0                       0.0   \n",
       "7890              ...                             0                       0.0   \n",
       "3782              ...                             0                       0.0   \n",
       "3101              ...                             0                       0.0   \n",
       "5295              ...                             1                       1.0   \n",
       "\n",
       "      user-artist-skips  user-artist-skip-percentage  global-song-skips  \\\n",
       "8512                  0                     0.000000                  0   \n",
       "7890                  0                     0.000000                  0   \n",
       "3782                  0                     0.000000                  0   \n",
       "3101                  0                     0.000000                  0   \n",
       "5295                  1                     0.333333                  1   \n",
       "\n",
       "      global-artist-skips  artist_total_count  song_total_count  \\\n",
       "8512                    0                   1                 1   \n",
       "7890                    0                   2                 1   \n",
       "3782                    0                   3                 1   \n",
       "3101                    0                   1                 1   \n",
       "5295                    1                   3                 1   \n",
       "\n",
       "      global-song-skip-percentage global-artist-skip-percentage  \n",
       "8512                          0.0                           0.0  \n",
       "7890                          0.0                           0.0  \n",
       "3782                          0.0                           0.0  \n",
       "3101                          0.0                           0.0  \n",
       "5295                          1.0                           1.0  \n",
       "\n",
       "[5 rows x 31 columns]"
      ]
     },
     "execution_count": 26,
     "metadata": {},
     "output_type": "execute_result"
    }
   ],
   "source": [
    "data_subset.head(5)"
   ]
  },
  {
   "cell_type": "markdown",
   "metadata": {},
   "source": [
    "### Write to CSV"
   ]
  },
  {
   "cell_type": "code",
   "execution_count": 27,
   "metadata": {
    "collapsed": true
   },
   "outputs": [],
   "source": [
    "data_subset.to_csv(\"data_engineered_features.csv\", index=False)"
   ]
  },
  {
   "cell_type": "markdown",
   "metadata": {},
   "source": [
    "### Also do just top 500?"
   ]
  },
  {
   "cell_type": "code",
   "execution_count": 28,
   "metadata": {
    "collapsed": true
   },
   "outputs": [],
   "source": [
    "top500 = songs.groupby(['userid'])['track-name','artist-name','count'].apply(lambda grp: grp.nlargest(500, 'count')).reset_index()"
   ]
  },
  {
   "cell_type": "code",
   "execution_count": 29,
   "metadata": {
    "collapsed": true
   },
   "outputs": [],
   "source": [
    "top500.drop([\"level_1\", \"count\"], axis=1, inplace=True)\n",
    "data_subset = pd.merge(top500, data, on = ['userid','track-name', 'artist-name'], how = 'left')\n",
    "data_subset = data_subset.sort_values(['userid', 'timestamp'], ascending=[True, True])\n",
    "data_subset.to_csv(\"data_engineered_features500.csv\", index=False)"
   ]
  },
  {
   "cell_type": "code",
   "execution_count": 30,
   "metadata": {},
   "outputs": [
    {
     "data": {
      "text/plain": [
       "(468483, 3)"
      ]
     },
     "execution_count": 30,
     "metadata": {},
     "output_type": "execute_result"
    }
   ],
   "source": [
    "np.shape(top500)"
   ]
  },
  {
   "cell_type": "code",
   "execution_count": null,
   "metadata": {
    "collapsed": true
   },
   "outputs": [],
   "source": []
  }
 ],
 "metadata": {
  "kernelspec": {
   "display_name": "Python 3",
   "language": "python",
   "name": "python3"
  },
  "language_info": {
   "codemirror_mode": {
    "name": "ipython",
    "version": 3
   },
   "file_extension": ".py",
   "mimetype": "text/x-python",
   "name": "python",
   "nbconvert_exporter": "python",
   "pygments_lexer": "ipython3",
   "version": "3.6.2"
  }
 },
 "nbformat": 4,
 "nbformat_minor": 2
}
