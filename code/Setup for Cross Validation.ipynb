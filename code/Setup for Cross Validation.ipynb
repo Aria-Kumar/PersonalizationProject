{
 "cells": [
  {
   "cell_type": "code",
   "execution_count": 1,
   "metadata": {
    "collapsed": true
   },
   "outputs": [],
   "source": [
    "import pandas as pd\n",
    "import numpy as np\n",
    "from sklearn.linear_model import LogisticRegression as LR\n",
    "from sklearn.model_selection import cross_val_score\n",
    "from sklearn.model_selection import cross_val_predict\n",
    "from sklearn.metrics import roc_auc_score as AUC\n",
    "import warnings\n",
    "warnings.filterwarnings(\"ignore\")\n",
    "# import tensorflow as tf"
   ]
  },
  {
   "cell_type": "code",
   "execution_count": 2,
   "metadata": {
    "collapsed": true
   },
   "outputs": [],
   "source": [
    "def data_split(data, validation_ratio = 0.15, test_ratio = 0.15):\n",
    "    \"\"\"\n",
    "    Function to split data into train, validation and test based on timestamps\n",
    "    \n",
    "    https://stackoverflow.com/questions/42395258/\n",
    "    \n",
    "    \"\"\"\n",
    "    train_ratio = 1 - validation_ratio - test_ratio\n",
    "    \n",
    "    data['time_rank'] = data.groupby('userid')['timestamp'].rank()\n",
    "    data['user_all_songs_count'] = data['userid'].map(data.groupby('userid')['timestamp'].apply(len))\n",
    "    data['scaled_time_rank'] = data['time_rank']/ data['user_all_songs_count']\n",
    "    \n",
    "    data.drop(['time_rank', 'user_all_songs_count'], axis=1, inplace=True)\n",
    "    \n",
    "    train_data = data.loc[data['scaled_time_rank'] <= train_ratio, :]\n",
    "    validation_data = data.loc[(data['scaled_time_rank'] <= (1 - test_ratio)) & (data['scaled_time_rank'] > train_ratio), :]\n",
    "    test_data = data.loc[(data['scaled_time_rank'] > (train_ratio + validation_ratio)), :]\n",
    "    train_data.drop(['timestamp'], axis=1, inplace=True)\n",
    "    validation_data.drop(['timestamp'], axis=1, inplace=True)\n",
    "    test_data.drop(['timestamp'], axis=1, inplace=True)\n",
    "    return train_data, validation_data, test_data\n",
    "    "
   ]
  },
  {
   "cell_type": "code",
   "execution_count": null,
   "metadata": {
    "collapsed": true
   },
   "outputs": [],
   "source": [
    "pandas_df = pd.read_csv('data_engineered_features500.csv' , encoding = \"ISO-8859-1\")\n",
    "pandas_df.head()"
   ]
  },
  {
   "cell_type": "code",
   "execution_count": null,
   "metadata": {
    "collapsed": true
   },
   "outputs": [],
   "source": [
    "train_data, validation_data, test_data = data_split(pandas_df, validation_ratio = 0, test_ratio = 0.15)"
   ]
  },
  {
   "cell_type": "markdown",
   "metadata": {},
   "source": [
    "## Transform Data"
   ]
  },
  {
   "cell_type": "code",
   "execution_count": null,
   "metadata": {
    "collapsed": true
   },
   "outputs": [],
   "source": [
    "del pandas_df\n",
    "# merge track, artist, and weekend\n",
    "train_data['trackartist_weekend'] = train_data['track']+'___'+train_data['artist']+'___'+train_data['weekend'].map(str)\n",
    "train_data.drop(['track', 'artist', 'weekend'], axis=1, inplace=True)\n",
    "\n",
    "# find rate at which users skip songs by weekend status\n",
    "train_data = train_data.groupby(['userid', 'trackartist_weekend'], as_index=False).mean()"
   ]
  },
  {
   "cell_type": "code",
   "execution_count": null,
   "metadata": {
    "collapsed": true
   },
   "outputs": [],
   "source": [
    "# merge track, artist, and weekend\n",
    "test_data['trackartist_weekend'] = test_data['track']+'___'+test_data['artist']+'___'+test_data['weekend'].map(str)\n",
    "test_data.drop(['track', 'artist', 'weekend'], axis=1, inplace=True)\n",
    "\n",
    "# find rate at which users skip songs by weekend status\n",
    "test_data = test_data.groupby(['userid', 'trackartist_weekend'], as_index=False).mean()"
   ]
  },
  {
   "cell_type": "code",
   "execution_count": null,
   "metadata": {
    "collapsed": true
   },
   "outputs": [],
   "source": [
    "test_data.to_csv(\"test_features500.csv\", index=False)\n",
    "train_data.to_csv(\"train_features500.csv\", index=False)"
   ]
  }
 ],
 "metadata": {
  "kernelspec": {
   "display_name": "Python 3",
   "language": "python",
   "name": "python3"
  },
  "language_info": {
   "codemirror_mode": {
    "name": "ipython",
    "version": 3
   },
   "file_extension": ".py",
   "mimetype": "text/x-python",
   "name": "python",
   "nbconvert_exporter": "python",
   "pygments_lexer": "ipython3",
   "version": "3.6.0"
  }
 },
 "nbformat": 4,
 "nbformat_minor": 2
}
